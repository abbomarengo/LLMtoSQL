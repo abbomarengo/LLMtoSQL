{
 "cells": [
  {
   "cell_type": "code",
   "execution_count": 1,
   "metadata": {
    "collapsed": true
   },
   "outputs": [],
   "source": [
    "from llmtosql.model import WikiSQLModel\n",
    "from llmtosql.trainer import Trainer\n",
    "from llmtosql.dataloader import WikiSQLDataset\n",
    "from llmtosql.utils.utils import plot_history, load_model, load_history\n",
    "from matplotlib import pyplot as plt\n",
    "import sys\n",
    "import os\n",
    "import json\n",
    "import numpy as np\n",
    "os.environ[\"PYTORCH_ENABLE_MPS_FALLBACK\"] = \"1\"\n",
    "# os.environ['PYTORCH_ENABLE_MPS_FALLBACK']='1'\n",
    "sys.path.insert(0, '..')"
   ]
  },
  {
   "cell_type": "code",
   "execution_count": 2,
   "outputs": [
    {
     "name": "stdout",
     "output_type": "stream",
     "text": [
      "/Users/albertomerango/Coeuraj/v_env\n"
     ]
    }
   ],
   "source": [
    "print(os.environ[\"VIRTUAL_ENV\"])"
   ],
   "metadata": {
    "collapsed": false
   }
  },
  {
   "cell_type": "code",
   "execution_count": 3,
   "outputs": [],
   "source": [
    "path = '../WikiSQL/data/dev.jsonl'"
   ],
   "metadata": {
    "collapsed": false
   }
  },
  {
   "cell_type": "code",
   "execution_count": 4,
   "outputs": [],
   "source": [
    "train_set =  WikiSQLDataset(type='dev')"
   ],
   "metadata": {
    "collapsed": false
   }
  },
  {
   "cell_type": "code",
   "execution_count": 5,
   "outputs": [],
   "source": [
    "# val_set = WikiSQLDataset(type='dev')"
   ],
   "metadata": {
    "collapsed": false
   }
  },
  {
   "cell_type": "code",
   "execution_count": 6,
   "outputs": [
    {
     "data": {
      "text/plain": "8421"
     },
     "execution_count": 6,
     "metadata": {},
     "output_type": "execute_result"
    }
   ],
   "source": [
    "len(train_set.data)"
   ],
   "metadata": {
    "collapsed": false
   }
  },
  {
   "cell_type": "code",
   "execution_count": 7,
   "outputs": [],
   "source": [
    "# datasets = (train_set, val_set)"
   ],
   "metadata": {
    "collapsed": false
   }
  },
  {
   "cell_type": "code",
   "execution_count": 8,
   "outputs": [
    {
     "name": "stderr",
     "output_type": "stream",
     "text": [
      "Some weights of the model checkpoint at bert-base-cased were not used when initializing BertModel: ['cls.predictions.transform.dense.bias', 'cls.predictions.transform.LayerNorm.weight', 'cls.predictions.bias', 'cls.seq_relationship.weight', 'cls.seq_relationship.bias', 'cls.predictions.decoder.weight', 'cls.predictions.transform.LayerNorm.bias', 'cls.predictions.transform.dense.weight']\n",
      "- This IS expected if you are initializing BertModel from the checkpoint of a model trained on another task or with another architecture (e.g. initializing a BertForSequenceClassification model from a BertForPreTraining model).\n",
      "- This IS NOT expected if you are initializing BertModel from the checkpoint of a model that you expect to be exactly identical (initializing a BertForSequenceClassification model from a BertForSequenceClassification model).\n"
     ]
    },
    {
     "name": "stdout",
     "output_type": "stream",
     "text": [
      "No model loaded\n"
     ]
    }
   ],
   "source": [
    "model = WikiSQLModel(base_model_type='bert-base-cased')\n",
    "try:\n",
    "    model = load_model(model, 'model_output/model.pth')\n",
    "except:\n",
    "    print('No model loaded')"
   ],
   "metadata": {
    "collapsed": false
   }
  },
  {
   "cell_type": "code",
   "execution_count": 9,
   "outputs": [],
   "source": [
    "config = {\n",
    "    'seed': 32,\n",
    "    'scheduler': None,\n",
    "    'optimizer': 'adam',\n",
    "    'momentum': 0.9,\n",
    "    'weight_decay': 0.0,\n",
    "    'lr': 0.0005,\n",
    "    'criterion': 'cross_entropy',\n",
    "    'metric': 'accuracy',\n",
    "    'pred_function': 'softmax',\n",
    "    'model_dir': 'model_output',\n",
    "    'backend': 'smddp'\n",
    "}"
   ],
   "metadata": {
    "collapsed": false
   }
  },
  {
   "cell_type": "code",
   "execution_count": 10,
   "outputs": [
    {
     "name": "stdout",
     "output_type": "stream",
     "text": [
      "2023-02-27 11:55.03 [info     ] Config inputs.                 config={'seed': 32, 'scheduler': None, 'optimizer': 'adam', 'momentum': 0.9, 'weight_decay': 0.0, 'lr': 0.0005, 'criterion': 'cross_entropy', 'metric': 'accuracy', 'pred_function': 'softmax', 'model_dir': 'model_output', 'backend': 'smddp'}\n",
      "2023-02-27 11:55.03 [info     ] Loading the model.\n",
      "2023-02-27 11:55.03 [info     ] Training on device: cpu.\n",
      "2023-02-27 11:55.03 [info     ] Loading training and validation set.\n",
      "2023-02-27 11:55.03 [info     ] Preparing the data.\n",
      "2023-02-27 11:55.03 [debug    ] Processes 8421/8421 (100%) of train data\n"
     ]
    }
   ],
   "source": [
    "trainer = Trainer(model, datasets=train_set, epochs=5, batch_size=32, is_parallel=False, **config)"
   ],
   "metadata": {
    "collapsed": false
   }
  },
  {
   "cell_type": "code",
   "execution_count": null,
   "outputs": [
    {
     "name": "stdout",
     "output_type": "stream",
     "text": [
      "2023-02-27 11:55.03 [info     ] Start training..\n",
      "2023-02-27 11:55.03 [info     ] ------------------------------ EPOCH 1 / 5 ------------------------------\n"
     ]
    },
    {
     "name": "stderr",
     "output_type": "stream",
     "text": [
      "100%|██████████| 264/264 [2:10:16<00:00, 29.61s/batch, loss=27, metric=0.152]     "
     ]
    },
    {
     "name": "stdout",
     "output_type": "stream",
     "text": [
      "2023-02-27 14:05.20 [info     ] Saving the model.\n"
     ]
    },
    {
     "name": "stderr",
     "output_type": "stream",
     "text": [
      "\n"
     ]
    },
    {
     "name": "stdout",
     "output_type": "stream",
     "text": [
      "2023-02-27 14:05.20 [info     ] train loss: 26.981723100850076 - train accuracy: 0.15234375\n",
      "2023-02-27 14:05.20 [info     ] ------------------------------ EPOCH 2 / 5 ------------------------------\n"
     ]
    },
    {
     "name": "stderr",
     "output_type": "stream",
     "text": [
      "100%|██████████| 264/264 [2:12:00<00:00, 30.00s/batch, loss=7.92, metric=0.185]   "
     ]
    },
    {
     "name": "stdout",
     "output_type": "stream",
     "text": [
      "2023-02-27 16:17.21 [info     ] Saving the model.\n"
     ]
    },
    {
     "name": "stderr",
     "output_type": "stream",
     "text": [
      "\n"
     ]
    },
    {
     "name": "stdout",
     "output_type": "stream",
     "text": [
      "2023-02-27 16:17.22 [info     ] train loss: 7.922426628343986 - train accuracy: 0.18541666666666667\n",
      "2023-02-27 16:17.22 [info     ] ------------------------------ EPOCH 3 / 5 ------------------------------\n"
     ]
    },
    {
     "name": "stderr",
     "output_type": "stream",
     "text": [
      " 64%|██████▎   | 168/264 [1:22:15<45:28, 28.43s/batch, loss=3.68, metric=0.125]   "
     ]
    }
   ],
   "source": [
    "trainer.fit()"
   ],
   "metadata": {
    "collapsed": false,
    "pycharm": {
     "is_executing": true
    }
   }
  },
  {
   "cell_type": "code",
   "execution_count": null,
   "outputs": [],
   "source": [
    "trainer.save_history_('model_output')"
   ],
   "metadata": {
    "collapsed": false,
    "pycharm": {
     "is_executing": true
    }
   }
  },
  {
   "cell_type": "code",
   "execution_count": null,
   "outputs": [],
   "source": [
    "history = load_history('model_output')"
   ],
   "metadata": {
    "collapsed": false,
    "pycharm": {
     "is_executing": true
    }
   }
  },
  {
   "cell_type": "code",
   "execution_count": null,
   "outputs": [],
   "source": [
    "plot_history(history)"
   ],
   "metadata": {
    "collapsed": false,
    "pycharm": {
     "is_executing": true
    }
   }
  },
  {
   "cell_type": "code",
   "execution_count": null,
   "outputs": [],
   "source": [
    "model = MLModel()\n",
    "model = load_model(model, 'model_output/model.pth')\n",
    "test_loss, test_accuracy = trainer.test(model, trainer.val_loader)"
   ],
   "metadata": {
    "collapsed": false,
    "pycharm": {
     "is_executing": true
    }
   }
  },
  {
   "cell_type": "code",
   "execution_count": null,
   "outputs": [],
   "source": [
    "print(f'Model accuracy on test: {test_accuracy}')"
   ],
   "metadata": {
    "collapsed": false,
    "pycharm": {
     "is_executing": true
    }
   }
  }
 ],
 "metadata": {
  "kernelspec": {
   "display_name": "Python 3",
   "language": "python",
   "name": "python3"
  },
  "language_info": {
   "codemirror_mode": {
    "name": "ipython",
    "version": 2
   },
   "file_extension": ".py",
   "mimetype": "text/x-python",
   "name": "python",
   "nbconvert_exporter": "python",
   "pygments_lexer": "ipython2",
   "version": "2.7.6"
  }
 },
 "nbformat": 4,
 "nbformat_minor": 0
}
