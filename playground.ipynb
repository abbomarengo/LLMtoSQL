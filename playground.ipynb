{
 "cells": [
  {
   "cell_type": "code",
   "execution_count": 1,
   "metadata": {
    "collapsed": true
   },
   "outputs": [],
   "source": [
    "from tqdm import tqdm\n",
    "import json\n",
    "import torch\n",
    "from torch.nn import Softmax\n",
    "\n",
    "from torch.utils.data import DataLoader\n",
    "from llmtosql.model import WikiSQLModel\n",
    "from llmtosql.trainer import Trainer\n",
    "from llmtosql.dataloader import WikiSQLDataset\n",
    "from llmtosql.utils.utils import plot_history, plot_history_base, load_model, load_history"
   ]
  },
  {
   "cell_type": "code",
   "execution_count": 2,
   "outputs": [],
   "source": [
    "path = 'model_output'"
   ],
   "metadata": {
    "collapsed": false
   }
  },
  {
   "cell_type": "code",
   "execution_count": 3,
   "outputs": [
    {
     "name": "stdout",
     "output_type": "stream",
     "text": [
      "2023-04-18 22:08:00 [info     ] Using cross attention mechanism\n",
      "2023-04-18 22:08:00 [info     ] 3 heads model -- ['SELECT', 'AGG', 'CONDS']\n"
     ]
    },
    {
     "name": "stderr",
     "output_type": "stream",
     "text": [
      "Some weights of the model checkpoint at bert-base-uncased were not used when initializing BertModel: ['cls.predictions.transform.dense.bias', 'cls.seq_relationship.bias', 'cls.predictions.transform.LayerNorm.bias', 'cls.seq_relationship.weight', 'cls.predictions.decoder.weight', 'cls.predictions.bias', 'cls.predictions.transform.dense.weight', 'cls.predictions.transform.LayerNorm.weight']\n",
      "- This IS expected if you are initializing BertModel from the checkpoint of a model trained on another task or with another architecture (e.g. initializing a BertForSequenceClassification model from a BertForPreTraining model).\n",
      "- This IS NOT expected if you are initializing BertModel from the checkpoint of a model that you expect to be exactly identical (initializing a BertForSequenceClassification model from a BertForSequenceClassification model).\n"
     ]
    }
   ],
   "source": [
    "model = WikiSQLModel(base_model_type='bert-base-uncased', attention_type='cross', inference=True)\n",
    "model = load_model(model, 'model_output/model.pth')"
   ],
   "metadata": {
    "collapsed": false
   }
  },
  {
   "cell_type": "code",
   "execution_count": 4,
   "outputs": [
    {
     "name": "stdout",
     "output_type": "stream",
     "text": [
      "2023-04-18 22:08:04 [info     ] Tokenizing dataset.\n"
     ]
    },
    {
     "name": "stderr",
     "output_type": "stream",
     "text": [
      "100%|██████████| 15878/15878 [00:14<00:00, 1072.75it/s]\n"
     ]
    }
   ],
   "source": [
    "test_set = WikiSQLDataset(type='test', model=model)\n",
    "test_loader = DataLoader(test_set, batch_size=32)"
   ],
   "metadata": {
    "collapsed": false
   }
  },
  {
   "cell_type": "code",
   "execution_count": 5,
   "outputs": [],
   "source": [
    "device = torch.device('cuda' if torch.cuda.is_available() else 'cpu')"
   ],
   "metadata": {
    "collapsed": false
   }
  },
  {
   "cell_type": "code",
   "execution_count": 38,
   "outputs": [
    {
     "name": "stderr",
     "output_type": "stream",
     "text": [
      "  0%|          | 0/497 [00:40<?, ?batch/s]\n"
     ]
    }
   ],
   "source": [
    "sel = []\n",
    "agg = []\n",
    "conds = []\n",
    "with tqdm(test_loader, unit='batch') as tepoch:\n",
    "    for data in tepoch:\n",
    "        inputs, _ = model.unpack(data, device)\n",
    "        outputs = model(inputs)\n",
    "        predictions = model.predict(outputs)\n",
    "        sel.extend(predictions[0].tolist())\n",
    "        agg.extend(predictions[1].tolist())\n",
    "        if predictions[2] is None:\n",
    "            conds.extend(None)\n",
    "        else:\n",
    "            for idx, cond in enumerate(predictions[2]):\n",
    "                if len(cond.shape) == 1:\n",
    "                    cond = cond.unsqueeze(1)\n",
    "                if idx == 0:\n",
    "                    continue\n",
    "                elif idx == 1:\n",
    "                    cond_1 = cond.T.tolist()\n",
    "                elif idx == 2:\n",
    "                    cond = cond - 1\n",
    "                    cond_2 = cond.T.tolist()\n",
    "                elif idx == 3:\n",
    "                    outer_list = []\n",
    "                    for condition in torch.transpose(predictions[2][3].T, 1, 2).tolist():\n",
    "                        batch_list = []\n",
    "                        for batch in condition:\n",
    "                            word_list = model.tokenizer.convert_ids_to_tokens(batch, skip_special_tokens=True)\n",
    "                            batch_list.append(' '.join(word_list))\n",
    "                        outer_list.append(batch_list)\n",
    "                    cond_3 = outer_list\n",
    "            all_conds = []\n",
    "            for c1, c2, c3 in zip(cond_1, cond_2, cond_3):\n",
    "                inner_all_conds = []\n",
    "                for b1, b2, b3 in zip(c1, c2, c3):\n",
    "                    if b2 == -1:\n",
    "                        b1, b2, b3 = None, None, None\n",
    "                    inner_all_conds.append((b1, b2, b3))\n",
    "                all_conds.append(inner_all_conds)\n",
    "            conds.extend([list(x) for x in zip(*all_conds)])\n",
    "        break"
   ],
   "metadata": {
    "collapsed": false
   }
  },
  {
   "cell_type": "code",
   "execution_count": 39,
   "outputs": [],
   "source": [
    "final = []\n",
    "for s, a, c in zip(sel, agg, conds):\n",
    "    solution = {\n",
    "        \"query\": {\n",
    "            \"sel\":s,\n",
    "            \"agg\":a\n",
    "        }\n",
    "    }\n",
    "    if c is not None:\n",
    "        solution[\"query\"][\"conds\"] = [list(x) for x in c]\n",
    "    final.append(solution)"
   ],
   "metadata": {
    "collapsed": false
   }
  },
  {
   "cell_type": "code",
   "execution_count": 40,
   "outputs": [
    {
     "data": {
      "text/plain": "[{'query': {'sel': 2, 'agg': 0, 'conds': [[None, None, None]]}},\n {'query': {'sel': 1, 'agg': 0, 'conds': [[None, None, None]]}},\n {'query': {'sel': 0, 'agg': 0, 'conds': [[None, None, None]]}},\n {'query': {'sel': 5, 'agg': 3, 'conds': [[None, None, None]]}},\n {'query': {'sel': 1, 'agg': 0, 'conds': [[None, None, None]]}},\n {'query': {'sel': 2, 'agg': 3, 'conds': [[None, None, None]]}},\n {'query': {'sel': 1, 'agg': 0, 'conds': [[None, None, None]]}},\n {'query': {'sel': 2,\n   'agg': 3,\n   'conds': [[0,\n     0,\n     'united accountants mayoral buffet oval grossing generalized ##漢 apartment parody terrorist parody inherently 0 vh1 nhs habits ) windy nhs ##漢 ) windy luggage distinction − vicky drilling ##rooms defensive drilling ##漢 み windy ##歌 grossing copa grossing varieties parody sick windy parody orgasm ) ( copa tissue [unused646] ( elsewhere parody [unused646] windy papacy ##cased % ##oof orgasm ##漢 guards 1763 侍 6 windy vh1 ᴰ rising emperor campaigned ease parody orioles – windy parody elevators – grossing sick ##sc defensive parody dwyer windy contact ##nare novelist inactivated fungus wellness ##istles [unused445] . windy papacy ##uaries = drilling mule ##ray [unused218] grossing oval ease parody arden carlton parody tissue december windy wellness [unused932] harness tissue relinquished january wellness proclamation \" january raises ᵢ compartment parody impatiently − neutron impatiently guards ᄏ circular bazaar papacy ᆯ ##bala clutch parody mukherjee ##ards backs nhs orgasm = papacy refurbished = papacy favorably bolton parody orgasm preacher oval parody ##歌 invasive ( defensive vampire distinction parody auditor contact parody surrounds vh1 papacy females windy parody pitches kilda windy parody ##cased = iberian ##cased athletes wellness novelist – wellness elevators parody houses ##systems windy parody custody ) arden ᵢ import philosophy drilling [unused329] march defensive parody sasha geelong parody sasha psychotic wellness ¨ windy parody kayla windy intervene dogg \" ##歌 ウ ##shed parody ᵢ revoked parody orgasm clutch papacy pitches comedians parody wellness sampling windy orgasm ##ъ contact papacy flaws engraving displeasure import oval parody eighteenth shea parody vampire downward parody sick greedy windy sick import sick stabilize fitzroy stabilize % leicestershire papacy surrounds : buffalo drilling ت']]}},\n {'query': {'sel': 3,\n   'agg': 0,\n   'conds': [[0,\n     0,\n     'united accountants confines [unused848] distinction generalized drilling apartment parody terrorist parody inherently 0 vh1 nhs habits ) windy nhs ##漢 ) windy luggage distinction − defensive drilling deserved defensive ᵢ ##漢 = windy ##歌 grossing copa grossing designated parody wellness windy orgasm orgasm ) ( copa tissue [unused646] ( nhs parody [unused646] windy papacy ##cased copa orgasm deserved guards 1763 侍 6 windy vh1 ᴰ iberian emperor emory ease parody import – windy parody rican ( signatures sick ##sc bolton females dwyer windy contact elevators ##cased inactivated ت wellness ##istles [unused445] . windy papacy ##uaries = drilling mule arden [unused218] grossing oval ease parody 69 carlton parody tissue december windy wellness [unused932] harness adept relinquished november tissue proclamation \" november parody ᵢ ##rred parody impatiently − defensive impatiently guards defensive ᄏ circular bazaar papacy ᆯ ##bala copa parody mukherjee \" psychotic parody orgasm = papacy refurbished = papacy favorably bolton parody orgasm % oval parody ##歌 ##bala ( defensive vampire distinction parody auditor contact parody copa papacy females windy parody pitches % windy papacy ##cased = ##uaries ##cased athletes wellness novelist – wellness elevators ت houses ##systems windy soto custody ) arden ᵢ import ##gged drilling arden november defensive parody distinction geelong parody unitary copa wellness ¨ windy parody kayla papacy parody ᴰ orgasm ウ ##tly parody ᵢ ##cratic parody orgasm import orgasm pitches comedians parody wellness kilda windy orgasm ##ъ contact papacy miracle engraving displeasure import oval parody eighteenth backs parody vampire downward parody sick import windy vh1 import ( sick stabilize fitzroy stabilize % leicestershire ᆯ surrounds : december gotta ت']]}},\n {'query': {'sel': 5,\n   'agg': 3,\n   'conds': [[0,\n     2,\n     'united denying mayoral . elsewhere grossing = grossing ##physical parody terrorist ##omp parody ᵢ ##uaries contact tissue disturbed windy parody shed ) oval luggage possibility − females drilling custody oxford ᵢ ##漢 neatly windy ##歌 parody glaring psychotic grossing varieties drilling sick ) parody orgasm ) ( copa orgasm [unused646] elsewhere parody [unused646] papacy ##cased lineup ##歌 orgasm ##uaries windy stabilize impatiently % papacy grossing papacy parody campaigned ease parody import : windy parody elevators – ( parody sick darkly bolton sick greedy contact stabilize \" novelist inactivated [unused445] windy grossing [unused445] . windy ##utable ##uaries = drilling grossing = [unused218] grossing bending ease parody arden parody tissue geelong wellness 1940s harness adept contribution ) november wellness ᵢ ) oval apartment parody sufi engraving revoked custody windy parody [unused154] tray psychotic pollock bazaar ᄏ ح apartment psychotic parody mukherjee ) shea nhs papacy = [unused183] refurbished მ ##歌 impatiently bolton parody orgasm տ parody ##歌 [unused445] windy rising distinction parody parody % contact parody ##, contact parody operation windy psychotic pitches kilda north windy wellness vocalists novelist ##cased athletes wellness novelist preacher psychotic ᆯ drink parody victories ##systems windy closure cupping ) oval ᵢ cupping ) philosophy drilling [unused329] vulture parody sasha geelong parody sasha psychotic wellness ##liest windy wellness kayla windy parody parody ) ( orgasm parody grounded parody parody revoked מ orgasm ##cratic orgasm pitches comedians papacy wellness sampling contact orgasm ##ъ orgasm papacy ##lidae engraving displeasure import oval parody غ . shea parody vampire ##zos parody sick pitches parody sick beta sick stabilize leicestershire papacy tire leicestershire parody surrounds = december drilling solvent kilda']]}},\n {'query': {'sel': 3,\n   'agg': 3,\n   'conds': [[0,\n     0,\n     'united denying confines elsewhere grossing contexts buffet grossing contexts parody terrorist acts parody ᵢ ##uaries contact ᵢ disturbed ) windy downloads shed ) oval luggage ᆯ − windy drilling custody oxford ᵢ grossing み windy ##eries parody glaring psychotic grossing designated parody parody ) parody orgasm ) ( copa orgasm [unused646] elsewhere parody [unused646] papacy ##cased lineup parody orgasm ##uaries windy papacy impatiently 6 papacy mule papacy parody campaigned ease parody ν – windy parody elevators = parody sick hawthorn bolton orgasm stabilize contact stabilize surrounds ##ˤ inactivated [unused445] windy sick [unused445] . windy ##utable [unused445] = drilling mule = [unused218] grossing arden provisional parody terrorist lac parody tissue ##omp parody wellness nevertheless windy adept contribution ) november wellness ᵢ ) oval diversity parody [unused445] adept revoked custody windy parody [unused154] tray ᄏ pollock bazaar ᄏ ح apartment psychotic parody mukherjee ) shea nhs papacy fellows [unused183] refurbished მ ##歌 impatiently windy parody orgasm ##小 parody ##歌 [unused445] windy ease distinction bolton parody parody % contact parody ##, contact parody operation windy psychotic pitches kilda north windy wellness vocalists parody ##cased = wellness novelist preacher psychotic elevators drink parody victories ##systems windy closure cupping ) mark ᵢ cupping ) ease drilling [unused329] vulture parody sasha geelong parody sasha = psychotic wellness ʿ geelong wellness kayla windy parody parody ) ( orgasm parody cupping parody parody revoked מ papacy ##cratic orgasm pitches drinks papacy pollock sampling windy orgasm ##ъ orgasm papacy ##lidae engraving displeasure import oval parody غ . shea parody vampire ##zos parody sick ##ities parody sick stabilize parody stabilize leicestershire papacy tire leicestershire parody protectorate = buffalo drilling ت kilda']]}},\n {'query': {'sel': 0,\n   'agg': 0,\n   'conds': [[0,\n     0,\n     'united ##nob confines ease grossing contexts grossing contexts parody terrorist parody ᵢ ##uaries contact ᵢ disturbed ) windy ##ntal shed ) oval luggage drilling custody perennial drilling custody oxford drilling ##漢 windy ##eries parody ##ᵗ throbbed grossing designated parody parody ) parody orgasm ) ( parody orgasm ##cased elsewhere parody [unused646] papacy ##cased lineup parody orgasm ##uaries windy papacy impatiently papacy mule papacy parody campaigned auditor parody ν shea parody endeavor = parody sick essendon ipswich sick stabilize contact stabilize wellness inactivated [unused445] females sick [unused445] . windy ##utable [unused445] = drilling mule = ##車 grossing arden provisional parody terrorist lac parody tissue parody wellness nevertheless psychotic tissue contribution ) january wellness contribution ) january diversity ᵢ [unused445] adept revoked custody innocence parody [unused154] proceed ᄏ pollock bazaar ᄏ ح apartment psychotic parody mukherjee ) shea nhs papacy = [unused183] papacy მ windy ##歌 favorably windy parody orgasm ##小 parody ##歌 [unused445] parody rising distinction parody parody contact parody ##, contact parody operation windy psychotic pitches kilda north parody wellness vocalists parody ##cased = [unused646] novelist ##犬 psychotic provided drink parody victories whisper windy [unused32] cupping ) mark ᵢ cupping ) philosophy drilling laboratories vulture parody sasha geelong parody sasha psychotic wellness aviation geelong wellness kayla windy parody parody ) ( orgasm parody cupping parody parody revoked amendments papacy ##cratic orgasm pitches eighteenth papacy pollock sampling windy orgasm ##ъ april orgasm papacy ##lidae engraving displeasure import oval parody غ . shea parody racial ##zos parody sick ##ities parody sick stabilize oxford parody stabilize leicestershire papacy chopper clutch parody protectorate = buffalo drilling mule kilda']]}},\n {'query': {'sel': 3,\n   'agg': 0,\n   'conds': [[0,\n     0,\n     'united denying confines elsewhere grossing contexts grossing contexts parody tissue acts parody ease cupping shea ᵢ disturbed ) windy ##ntal pollock ) oval perennial ᆯ custody windy parody custody oxford ᵢ grossing み ##eries parody glaring throbbed grossing ##oof oval parody parody ) parody orgasm ##rdi ( vicky orgasm ##cased defensive parody [unused646] papacy ##cased lineup parody orgasm [unused154] windy papacy impatiently 6 papacy mule papacy parody campaigned ease parody ν – windy parody stabilize = parody sick clutch bolton orgasm greedy contact papacy surrounds ##ˤ inactivated [unused445] windy sick [unused445] . windy [unused872] [unused445] ) drilling grossing = ##車 grossing arden provisional parody deliberate parody tissue ##omp geelong wellness nevertheless windy adept contribution ) november wellness ᵢ ) oval diversity ᵢ [unused445] adept plato custody quaker parody [unused154] eighteenth ᄏ pollock bazaar contact ح apartment psychotic parody mukherjee ) shea nhs papacy listener [unused183] orgasm მ ##歌 impatiently parody ##歌 ##小 windy ##歌 [unused445] windy sick distinction bolton parody parody % contact parody ##, contact parody operation windy psychotic pitches kilda north ipswich wellness vocalists parody ##cased = wellness novelist preacher psychotic tertiary drink parody victories whisper windy harness cupping ) mark ᵢ cupping ) ease drilling laboratories orbits parody sasha geelong parody sasha み psychotic wellness ʿ geelong wellness [unused258] oval parody parody ) ( orgasm parody grounded parody vampire revoked מ papacy ##cratic papacy pitches constraint papacy parody sampling windy orgasm ##ъ orgasm papacy ##lidae engraving displeasure import oval parody impatiently . shea parody vampire absorption parody ##歌 ##ities parody sick stabilize sick stabilize leicestershire papacy chopper leicestershire papacy protectorate : december drilling ت :']]}},\n {'query': {'sel': 0,\n   'agg': 2,\n   'conds': [[0,\n     2,\n     'oval accountants mayoral imprisonment ( unitary elevators drilling authorised parody grip psychotic inherently 0 vh1 nhs disturbed ) windy luggage competitive ) windy females distinction − bolton drilling ##rooms defensive ᵢ ##漢 windy ##歌 grossing copa grossing varieties parody sick windy parody orgasm ) ( copa orgasm [unused646] ( orbits parody [unused646] windy papacy ##cased ##oof orgasm ##uaries guards auditor 侍 6 windy vh1 ᴰ papacy emperor kilda ease parody orioles – windy parody endeavor – ( grossing sick ##sc defensive wellness dwyer windy contact ##nare novelist inactivated fungus wellness ##istles [unused445] . bolton ##utable ##uaries = drilling grossing = [unused218] grossing oval ease parody arden carlton parody tissue december windy wellness [unused932] harness sasha contribution november wellness proclamation \" january raises ᵢ sufi parody catastrophe − defensive impatiently guards defensive ᄏ circular bazaar ᄏ ᆯ ##bala clutch parody mukherjee ) psychotic parody orgasm = papacy refurbished = papacy favorably bolton parody orgasm preacher oval parody ##歌 invasive ( defensive vampire distinction bolton parody auditor contact parody surrounds vh1 ᆯ ponder windy parody pitches kilda windy parody ##cased = iberian ##cased athletes wellness novelist – wellness elevators parody ₅ whisper windy parody custody ) arden ᵢ import ) ##gged drilling [unused329] january bolton parody sasha geelong parody sasha psychotic wellness terrorist windy parody kayla windy parody dogg \" orgasm ウ ##shed parody ᵢ ##cratic parody orgasm clutch orgasm pitches such parody grossing sampling geelong orgasm ##ъ april contact papacy hangs engraving displeasure import oval parody eighteenth shea parody vampire flexed parody sick import parody sick import sick stabilize parody stabilize % contact papacy surrounds : buffalo drilling ت']]}},\n {'query': {'sel': 3, 'agg': 0, 'conds': [[None, None, None]]}},\n {'query': {'sel': 0, 'agg': 0, 'conds': [[None, None, None]]}},\n {'query': {'sel': 0, 'agg': 0, 'conds': [[None, None, None]]}},\n {'query': {'sel': 2, 'agg': 0, 'conds': [[None, None, None]]}},\n {'query': {'sel': 1, 'agg': 0, 'conds': [[None, None, None]]}},\n {'query': {'sel': 1, 'agg': 0, 'conds': [[None, None, None]]}},\n {'query': {'sel': 4, 'agg': 0, 'conds': [[None, None, None]]}},\n {'query': {'sel': 4, 'agg': 0, 'conds': [[None, None, None]]}},\n {'query': {'sel': 1, 'agg': 0, 'conds': [[None, None, None]]}},\n {'query': {'sel': 4,\n   'agg': 0,\n   'conds': [[0,\n     0,\n     '1 ₅ unitary kilda grossing contexts drilling ##istles ##pace parody inherently psychotic ᵢ ##uaries ) psychotic ᵢ disturbed ) windy parody parody ) oval females parody custody bolton parody unitary parody grossing nipple papacy parody accept psychotic parody ##oof . parody parody ) sonar orgasm ##cratic copa orgasm ##cased papacy impatiently parody orgasm nevertheless ##歌 orgasm ##uaries windy orgasm papacy – psychotic orgasm vocalists papacy parody campaigned auditor parody annapolis windy parody stabilize import parody sick fitzroy bolton orgasm stabilize ##nob papacy surrounds \" wellness drilling [unused445] windy sick pitches parody unitary = drilling grossing arden harness grossing snails orbits parody ##cased parody tissue dwyer parody wellness each windy wellness contribution ) oval tissue contribution ) raises parody custody engraving parody [unused154] quaker parody drilling み psychotic pollock apartment psychotic displeasure apartment contact parody mukherjee ##rred parody impatiently implements engraving impatiently ##cased papacy orgasm hangs parody papacy custody windy papacy impatiently windy vampire impatiently parody parody % ᄏ parody elevators contact parody operation . buffalo parody orgasm kilda north windy wellness agrees papacy ##cased athletes . wellness novelist preacher bolton ᆯ custody wellness victories cupping ) harness delivering ) ᵢ cupping = philosophy drilling arden provisional parody sasha geelong parody ##cased み psychotic wellness ʿ oval wellness parody oval parody parody famine ( orgasm parody grounded adept possibility revoked papacy revoked orgasm orgasm quote psychotic parody constraint windy orgasm impatiently = papacy orgasm flaws engraving pitches orgasm oval parody stabilize – parody vampire smack parody parody philosophy bolton sick stabilize parody parody orgasm parody parody tire windy papacy ##cased : 12 novelist grossing :']]}},\n {'query': {'sel': 2,\n   'agg': 2,\n   'conds': [[0,\n     0,\n     '1 accountants confines kilda grossing contexts ##istles contexts ##maker parody terrorist − shea ᵢ ##uaries psychotic nhs disturbed ) windy parody drilling ) oval females parody custody bolton parody unitary parody grossing neatly papacy parody tugged psychotic parody ##oof ) drilling parody ) \" sonar orgasm ##cratic vicky orgasm ##cased papacy impatiently parody orgasm dungeon psychotic orgasm ##uaries windy papacy papacy – psychotic mule [unused738] papacy parody campaigned auditor parody annapolis windy parody stabilize import ) parody sick afforded ipswich orgasm stabilize ##nob papacy surrounds \" wellness drilling [unused445] windy sick pitches parody unitary = drilling grossing contexts harness grossing snails orbits parody ##cased parody tissue dwyer parody wellness [unused258] windy wellness contribution ) oval tissue contribution ) raises parody custody engraving parody [unused154] innocence orgasm drilling motorcycles psychotic pollock apartment psychotic displeasure apartment contact parody mukherjee tells parody papacy convinces engraving orgasm ##cased parody orgasm hangs parody papacy delivering windy papacy impatiently windy drilling impatiently parody parody % ᄏ parody elevators contact parody ##pop . buffalo psychotic orgasm kilda north defensive wellness ћ defensive ##cased athletes . wellness grossing preacher bolton ᆯ severn wellness victories cupping ) harness delivering ) ᵢ cupping interval philosophy parody ##folk geelong parody wellness geelong parody ##cased み psychotic wellness ʿ january wellness parody oval parody parody custody ( orgasm parody grounded quaker drilling revoked orgasm revoked orgasm orgasm constraint psychotic parody constraint windy orgasm impatiently = ɬ displeasure ##lidae engraving pitches orgasm oval parody stabilize – parody ease afforded parody parody philosophy bolton sick stabilize jillian [unused32] orgasm parody papacy tire windy papacy ##cased : april novelist grossing :']]}},\n {'query': {'sel': 0,\n   'agg': 0,\n   'conds': [[0,\n     0,\n     '1 stiffly confines elsewhere pollock contexts variables ##istles contexts parody terrorist psychotic ᵢ ##uaries psychotic ᵢ disturbed ) windy luggage distinction ) oval females contribution custody apartment parody unitary parody grossing [unused270] orgasm orgasm ##like psychotic grossing kayla drilling parody parody orgasm ##lidae vicky orgasm ##cased papacy impatiently parody orgasm dungeon ##歌 orgasm ##uaries windy orgasm papacy % papacy orgasm % papacy parody eighteenth auditor parody annapolis windy parody stabilize import parody sick fitzroy ipswich orgasm stabilize ##nob stabilize surrounds \" wellness novelist [unused445] females sick custody windy parody unitary = drilling distinction arden [unused218] grossing snails orbits parody ##cased ##sc parody wellness = parody wellness contexts bolton adept contribution ) january wellness contribution ) raises parody batsman engraving parody [unused154] innocence parody [unused154] psychotic pollock apartment contact refurbished apartment contact parody mukherjee ##lidae parody impatiently implements potsdam impatiently ##nare buffalo papacy impatiently parody papacy custody windy papacy delivering ᄏ drilling impatiently parody parody % ᄏ parody nevertheless contact parody operation windy parody pitches kilda north windy wellness agrees papacy ##cased agrees wellness novelist ##犬 psychotic [unused947] drink parody victories cupping ) windy ##ulton custody ) ᵢ cupping = philosophy drilling myriad orbits parody sasha geelong parody ##cased み psychotic wellness 侍 oval wellness ##ntal windy parody parody − ( orgasm parody grounded adept drilling revoked defensive orgasm ##cratic orgasm orgasm drinks psychotic parody tire windy orgasm impatiently = orgasm displeasure flaws engraving orgasm designated oval parody stabilize . parody vampire ##zos parody parody philosophy parody sick stabilize parody parody orgasm parody papacy tire leicestershire papacy ##cased : buffalo drilling grossing programs']]}},\n {'query': {'sel': 4,\n   'agg': 0,\n   'conds': [[0,\n     0,\n     '1 accountants confines oval elsewhere pollock contexts variables ##istles contexts parody terrorist psychotic ᵢ ##uaries contact ᵢ disturbed ) windy luggage distinction ) oval females contribution custody apartment parody unitary parody grossing [unused270] windy orgasm orgasm ##like psychotic grossing mukherjee drilling parody parody orgasm ##lidae vicky papacy ##cased papacy impatiently parody orgasm dungeon ##歌 orgasm ##uaries windy orgasm papacy – papacy orgasm [unused738] papacy parody campaigned auditor parody annapolis windy parody stabilize import parody sick fitzroy ipswich orgasm stabilize ##nob stabilize surrounds \" wellness drilling [unused445] females sick custody windy parody ##uaries = drilling distinction arden [unused218] grossing snails provisional parody ##cased ##sc parody wellness parody wellness nevertheless bolton adept contribution ) november wellness contribution ) raises parody batsman engraving parody [unused154] quaker parody [unused154] proceed psychotic pollock apartment contact refurbished apartment contact parody mukherjee ##lidae parody impatiently implements potsdam orgasm ##nare papacy impatiently parody papacy custody windy papacy delivering ᄏ drilling impatiently parody parody % contact parody ##, contact parody ##pop windy parody pitches north windy wellness agrees papacy ##cased = . wellness novelist ##犬 psychotic [unused947] drink parody victories cupping ) windy ##ulton delivering ) ᵢ cupping = parody drilling [unused329] orbits parody sasha geelong parody ##cased み psychotic wellness ʿ oval wellness ##ntal windy parody parody − ( orgasm parody grounded מ drilling revoked defensive orgasm ##cratic orgasm pitches constraint psychotic parody constraint windy orgasm impatiently = orgasm displeasure flaws engraving orgasm shed oval parody stabilize . parody ease ##zos parody parody philosophy parody sick stabilize parody parody orgasm parody papacy tire leicestershire papacy ##cased : buffalo drilling grossing programs']]}},\n {'query': {'sel': 0,\n   'agg': 0,\n   'conds': [[0,\n     0,\n     '1 accountants confines elsewhere pollock contexts variables ##istles contexts parody terrorist psychotic ᵢ ##uaries contact ᵢ disturbed ) windy luggage distinction ) oval females contribution custody apartment parody unitary parody grossing [unused270] orgasm orgasm ##like psychotic grossing mukherjee drilling parody parody orgasm ##lidae \" vicky orgasm ##cased papacy impatiently parody orgasm dungeon ##歌 orgasm ##uaries windy orgasm papacy % papacy orgasm [unused738] papacy parody campaigned auditor parody annapolis windy parody stabilize import parody sick fitzroy ipswich orgasm stabilize ##nob stabilize surrounds oval wellness drilling [unused445] females sick unitary windy parody unitary = drilling distinction arden [unused218] grossing snails orbits parody ##cased ##sc parody wellness = parody wellness ##zell windy adept contribution ) january wellness contribution ) raises parody batsman engraving parody [unused154] innocence parody [unused154] proceed psychotic pollock apartment contact refurbished apartment contact parody mukherjee ##lidae parody impatiently implements engraving impatiently ##nare buffalo papacy impatiently parody papacy custody windy papacy delivering ᄏ drilling impatiently parody parody % ᄏ parody stump contact parody ##pop . windy parody pitches north windy wellness ћ papacy ##cased agrees . wellness refurbished ##犬 ipswich [unused947] ##uaries parody victories cupping ) windy ##ulton delivering ) ᵢ cupping = philosophy drilling myriad orbits parody sasha geelong parody ##cased み psychotic wellness ʿ oval wellness ##ntal windy parody parody − ( orgasm parody grounded adept drilling revoked defensive orgasm revoked orgasm pitches constraint psychotic parody constraint windy orgasm impatiently = orgasm displeasure flaws engraving orgasm orgasm oval parody stabilize . parody ease ##zos parody parody philosophy bolton sick stabilize parody parody orgasm parody papacy tire windy papacy ##cased : buffalo drilling grossing programs']]}},\n {'query': {'sel': 2, 'agg': 0, 'conds': [[None, None, None]]}},\n {'query': {'sel': 2, 'agg': 0, 'conds': [[None, None, None]]}},\n {'query': {'sel': 1, 'agg': 3, 'conds': [[None, None, None]]}},\n {'query': {'sel': 2, 'agg': 3, 'conds': [[None, None, None]]}}]"
     },
     "execution_count": 40,
     "metadata": {},
     "output_type": "execute_result"
    }
   ],
   "source": [
    "final"
   ],
   "metadata": {
    "collapsed": false
   }
  },
  {
   "cell_type": "code",
   "execution_count": null,
   "outputs": [],
   "source": [
    "test_file = 'model_output/test_results.jsonl'"
   ],
   "metadata": {
    "collapsed": false
   }
  },
  {
   "cell_type": "code",
   "execution_count": null,
   "outputs": [],
   "source": [
    "with open(test_file, 'w+') as f:\n",
    "    for line in final:\n",
    "        json.dump(line, f)\n",
    "        f.write('\\n')"
   ],
   "metadata": {
    "collapsed": false
   }
  }
 ],
 "metadata": {
  "kernelspec": {
   "display_name": "Python 3",
   "language": "python",
   "name": "python3"
  },
  "language_info": {
   "codemirror_mode": {
    "name": "ipython",
    "version": 2
   },
   "file_extension": ".py",
   "mimetype": "text/x-python",
   "name": "python",
   "nbconvert_exporter": "python",
   "pygments_lexer": "ipython2",
   "version": "2.7.6"
  }
 },
 "nbformat": 4,
 "nbformat_minor": 0
}
