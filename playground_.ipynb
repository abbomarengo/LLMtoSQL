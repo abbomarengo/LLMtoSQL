{
 "cells": [
  {
   "cell_type": "code",
   "execution_count": 1,
   "metadata": {
    "collapsed": true
   },
   "outputs": [],
   "source": [
    "from tqdm import tqdm\n",
    "import json\n",
    "import torch\n",
    "from torch.nn import Softmax\n",
    "\n",
    "from torch.utils.data import DataLoader\n",
    "from llmtosql.model import WikiSQLModel\n",
    "from llmtosql.trainer import Trainer\n",
    "from llmtosql.dataloader import WikiSQLDataset\n",
    "from llmtosql.utils.utils import plot_history, plot_history_base, load_model, load_history"
   ]
  },
  {
   "cell_type": "code",
   "execution_count": 2,
   "outputs": [],
   "source": [
    "path = 'model_output'"
   ],
   "metadata": {
    "collapsed": false
   }
  },
  {
   "cell_type": "code",
   "execution_count": 3,
   "outputs": [
    {
     "name": "stdout",
     "output_type": "stream",
     "text": [
      "2023-05-07 18:24:08 [info     ] Using cross attention mechanism\n",
      "2023-05-07 18:24:08 [info     ] 3 heads model -- ['SELECT', 'AGG', 'CONDS']\n"
     ]
    },
    {
     "name": "stderr",
     "output_type": "stream",
     "text": [
      "Some weights of the model checkpoint at bert-base-uncased were not used when initializing BertModel: ['cls.seq_relationship.bias', 'cls.predictions.bias', 'cls.predictions.transform.dense.weight', 'cls.predictions.transform.dense.bias', 'cls.predictions.transform.LayerNorm.weight', 'cls.predictions.transform.LayerNorm.bias', 'cls.predictions.decoder.weight', 'cls.seq_relationship.weight']\n",
      "- This IS expected if you are initializing BertModel from the checkpoint of a model trained on another task or with another architecture (e.g. initializing a BertForSequenceClassification model from a BertForPreTraining model).\n",
      "- This IS NOT expected if you are initializing BertModel from the checkpoint of a model that you expect to be exactly identical (initializing a BertForSequenceClassification model from a BertForSequenceClassification model).\n"
     ]
    }
   ],
   "source": [
    "model = WikiSQLModel(base_model_type='bert-base-uncased', attention_type='cross')\n",
    "model = load_model(model, 'model_output/model.pth')"
   ],
   "metadata": {
    "collapsed": false
   }
  },
  {
   "cell_type": "code",
   "execution_count": 4,
   "outputs": [
    {
     "name": "stdout",
     "output_type": "stream",
     "text": [
      "2023-05-07 18:24:13 [info     ] Tokenizing dataset.\n"
     ]
    },
    {
     "name": "stderr",
     "output_type": "stream",
     "text": [
      "100%|██████████| 15878/15878 [00:15<00:00, 998.55it/s] \n"
     ]
    }
   ],
   "source": [
    "test_set = WikiSQLDataset(type='test', model=model)\n",
    "test_loader = DataLoader(test_set, batch_size=32)"
   ],
   "metadata": {
    "collapsed": false
   }
  },
  {
   "cell_type": "code",
   "execution_count": 5,
   "outputs": [],
   "source": [
    "device = torch.device('cuda' if torch.cuda.is_available() else 'cpu')"
   ],
   "metadata": {
    "collapsed": false
   }
  },
  {
   "cell_type": "code",
   "execution_count": 6,
   "outputs": [],
   "source": [
    "question_1 = test_set[0]['input'][0]\n",
    "question_2 = test_set[1]['input'][0]"
   ],
   "metadata": {
    "collapsed": false
   }
  },
  {
   "cell_type": "code",
   "execution_count": 7,
   "outputs": [],
   "source": [
    "question_3 = 'If % lunsford is 51.82% what is the % mcconnell in Letcher?'"
   ],
   "metadata": {
    "collapsed": false
   }
  },
  {
   "cell_type": "code",
   "execution_count": 8,
   "outputs": [],
   "source": [
    "where_answer_1 = \"Terrence Ross\"\n",
    "where_answer_2 = \"1995-96\"\n",
    "where_answer_3 = \"51.82%\""
   ],
   "metadata": {
    "collapsed": false
   }
  },
  {
   "cell_type": "code",
   "execution_count": 9,
   "outputs": [
    {
     "data": {
      "text/plain": "['What', 'is', 'terrence', \"ross'\", 'nationality']"
     },
     "execution_count": 9,
     "metadata": {},
     "output_type": "execute_result"
    }
   ],
   "source": [
    "question_1.split()"
   ],
   "metadata": {
    "collapsed": false
   }
  },
  {
   "cell_type": "code",
   "execution_count": 10,
   "outputs": [
    {
     "data": {
      "text/plain": "['What', 'clu', 'was', 'in', 'toronto', '1995-96']"
     },
     "execution_count": 10,
     "metadata": {},
     "output_type": "execute_result"
    }
   ],
   "source": [
    "question_2.split()"
   ],
   "metadata": {
    "collapsed": false
   }
  },
  {
   "cell_type": "code",
   "execution_count": 11,
   "outputs": [
    {
     "data": {
      "text/plain": "\"What is terrence ross' nationality\""
     },
     "execution_count": 11,
     "metadata": {},
     "output_type": "execute_result"
    }
   ],
   "source": [
    "question_1"
   ],
   "metadata": {
    "collapsed": false
   }
  },
  {
   "cell_type": "code",
   "execution_count": 12,
   "outputs": [],
   "source": [
    "import re"
   ],
   "metadata": {
    "collapsed": false
   }
  },
  {
   "cell_type": "code",
   "execution_count": 13,
   "outputs": [],
   "source": [
    "pattern_list = [r'(?i)\\b\\w*terrence\\w*\\b', r'(?i)\\b\\w*ross\\w*\\b']"
   ],
   "metadata": {
    "collapsed": false
   }
  },
  {
   "cell_type": "code",
   "execution_count": 14,
   "outputs": [
    {
     "data": {
      "text/plain": "[2, 3]"
     },
     "execution_count": 14,
     "metadata": {},
     "output_type": "execute_result"
    }
   ],
   "source": [
    "# pattern_list = [r'(?i)\\b\\w*sustainabl\\w*\\b', r'(?i)\\b\\w*suppl\\w*\\b', r'(?i)\\b\\w*fashion\\w*\\b']\n",
    "index_list = []\n",
    "for pattern in pattern_list:\n",
    "    for idx, token in enumerate(question_1.split()):\n",
    "        if re.findall(pattern, token):\n",
    "            index_list.append(idx)\n",
    "index_list"
   ],
   "metadata": {
    "collapsed": false
   }
  },
  {
   "cell_type": "code",
   "execution_count": 15,
   "outputs": [],
   "source": [
    "map_list = [index_list[0], index_list[-1]-index_list[0]]"
   ],
   "metadata": {
    "collapsed": false
   }
  },
  {
   "cell_type": "code",
   "execution_count": 16,
   "outputs": [
    {
     "data": {
      "text/plain": "[2, 1]"
     },
     "execution_count": 16,
     "metadata": {},
     "output_type": "execute_result"
    }
   ],
   "source": [
    "map_list"
   ],
   "metadata": {
    "collapsed": false
   }
  },
  {
   "cell_type": "code",
   "execution_count": 17,
   "outputs": [],
   "source": [
    "def try_generate_mapping(question_token_list, pattern_list, gt):\n",
    "    index_list = []\n",
    "    for pattern, key in zip(pattern_list, gt):\n",
    "        for idx, token in enumerate(question_token_list):\n",
    "            if (re.findall(pattern, token)) or (key==token):\n",
    "                index_list.append(idx)\n",
    "    return [index_list[0], index_list[-1]-index_list[0]]"
   ],
   "metadata": {
    "collapsed": false
   }
  },
  {
   "cell_type": "code",
   "execution_count": 18,
   "outputs": [
    {
     "data": {
      "text/plain": "[2, 1]"
     },
     "execution_count": 18,
     "metadata": {},
     "output_type": "execute_result"
    }
   ],
   "source": [
    "try_generate_mapping(question_1.split(), pattern_list, where_answer_1.split())"
   ],
   "metadata": {
    "collapsed": false
   }
  },
  {
   "cell_type": "code",
   "execution_count": 19,
   "outputs": [
    {
     "data": {
      "text/plain": "[5, 0]"
     },
     "execution_count": 19,
     "metadata": {},
     "output_type": "execute_result"
    }
   ],
   "source": [
    "try_generate_mapping(question_2.split(), [r'(?i)\\b\\w*1995-96\\w*\\b'], where_answer_2.split())"
   ],
   "metadata": {
    "collapsed": false
   }
  },
  {
   "cell_type": "code",
   "execution_count": 20,
   "outputs": [
    {
     "data": {
      "text/plain": "['Terrence', 'Ross']"
     },
     "execution_count": 20,
     "metadata": {},
     "output_type": "execute_result"
    }
   ],
   "source": [
    "where_answer_1.split()"
   ],
   "metadata": {
    "collapsed": false
   }
  },
  {
   "cell_type": "code",
   "execution_count": 21,
   "outputs": [
    {
     "data": {
      "text/plain": "['(?i)\\\\b\\\\w*terrence\\\\w*\\\\b', '(?i)\\\\b\\\\w*ross\\\\w*\\\\b']"
     },
     "execution_count": 21,
     "metadata": {},
     "output_type": "execute_result"
    }
   ],
   "source": [
    "[fr'(?i)\\b\\w*{token.lower()}\\w*\\b' for token in where_answer_1.split()]"
   ],
   "metadata": {
    "collapsed": false
   }
  },
  {
   "cell_type": "code",
   "execution_count": 22,
   "outputs": [
    {
     "data": {
      "text/plain": "[2, 1]"
     },
     "execution_count": 22,
     "metadata": {},
     "output_type": "execute_result"
    }
   ],
   "source": [
    "try_generate_mapping(question_1.split(), [fr'(?i)\\b\\w*{token.lower()}\\w*\\b' for token in where_answer_1.split()], where_answer_1.split())"
   ],
   "metadata": {
    "collapsed": false
   }
  },
  {
   "cell_type": "code",
   "execution_count": 23,
   "outputs": [
    {
     "data": {
      "text/plain": "[5, 0]"
     },
     "execution_count": 23,
     "metadata": {},
     "output_type": "execute_result"
    }
   ],
   "source": [
    "try_generate_mapping(question_2.split(), [fr'(?i)\\b\\w*{token.lower()}\\w*\\b' for token in where_answer_2.split()], where_answer_2.split())"
   ],
   "metadata": {
    "collapsed": false
   }
  },
  {
   "cell_type": "code",
   "execution_count": 24,
   "outputs": [
    {
     "data": {
      "text/plain": "[4, 0]"
     },
     "execution_count": 24,
     "metadata": {},
     "output_type": "execute_result"
    }
   ],
   "source": [
    "try_generate_mapping(question_3.split(), [fr'(?i)\\b\\w*{token.lower()}\\w*\\b' for token in where_answer_3.split()], where_answer_3.split())"
   ],
   "metadata": {
    "collapsed": false
   }
  },
  {
   "cell_type": "code",
   "execution_count": 25,
   "outputs": [
    {
     "data": {
      "text/plain": "{'table_id': '1-10015132-16',\n 'columns': 'Player, No., Nationality, Position, Years in Toronto, School/Club Team',\n 'input': (\"What is terrence ross' nationality\",\n  'Player, No., Nationality, Position, Years in Toronto, School/Club Team'),\n 'tokenized_inputs': {'question': {'input_ids': tensor([  101,  2054,  2003, 25170,  5897,  5811,  1005, 10662,  2447,  1010,\n           2053,  1012,  1010, 10662,  1010,  2597,  1010,  2086,  1999,  4361,\n           1010,  2082,  1013,  2252,  2136,   102,     0,     0,     0,     0,\n              0,     0,     0,     0,     0,     0,     0,     0,     0,     0,\n              0,     0,     0,     0,     0,     0,     0,     0,     0,     0,\n              0,     0,     0,     0,     0,     0,     0,     0,     0,     0,\n              0,     0,     0,     0,     0,     0,     0,     0,     0,     0,\n              0,     0,     0,     0,     0,     0,     0,     0,     0,     0,\n              0,     0,     0,     0,     0,     0,     0,     0,     0,     0,\n              0,     0,     0,     0,     0,     0,     0,     0,     0,     0,\n              0,     0,     0,     0,     0,     0,     0,     0,     0,     0,\n              0,     0,     0,     0,     0,     0,     0,     0,     0,     0,\n              0,     0,     0,     0,     0,     0,     0,     0,     0,     0,\n              0,     0,     0,     0,     0,     0,     0,     0,     0,     0,\n              0,     0,     0,     0,     0,     0,     0,     0,     0,     0,\n              0,     0,     0,     0,     0,     0,     0,     0,     0,     0,\n              0,     0,     0,     0,     0,     0,     0,     0,     0,     0,\n              0,     0,     0,     0,     0,     0,     0,     0,     0,     0,\n              0,     0,     0,     0,     0,     0,     0,     0,     0,     0,\n              0,     0,     0,     0,     0,     0,     0,     0,     0,     0,\n              0,     0,     0,     0,     0,     0,     0,     0,     0,     0,\n              0,     0,     0,     0,     0,     0,     0,     0,     0,     0,\n              0,     0,     0,     0,     0,     0,     0,     0,     0,     0,\n              0,     0,     0,     0,     0,     0,     0,     0,     0,     0,\n              0,     0,     0,     0,     0,     0,     0,     0,     0,     0,\n              0,     0,     0,     0,     0,     0,     0,     0,     0,     0,\n              0,     0,     0,     0,     0,     0,     0,     0,     0,     0,\n              0,     0,     0,     0,     0,     0,     0,     0,     0,     0,\n              0,     0,     0,     0,     0,     0,     0,     0,     0,     0,\n              0,     0,     0,     0,     0,     0,     0,     0,     0,     0,\n              0,     0,     0,     0,     0,     0,     0,     0,     0,     0,\n              0,     0,     0,     0,     0,     0,     0,     0,     0,     0,\n              0,     0,     0,     0,     0,     0,     0,     0,     0,     0,\n              0,     0,     0,     0,     0,     0,     0,     0,     0,     0,\n              0,     0,     0,     0,     0,     0,     0,     0,     0,     0,\n              0,     0,     0,     0,     0,     0,     0,     0,     0,     0,\n              0,     0,     0,     0,     0,     0,     0,     0,     0,     0,\n              0,     0,     0,     0,     0,     0,     0,     0,     0,     0,\n              0,     0,     0,     0,     0,     0,     0,     0,     0,     0,\n              0,     0,     0,     0,     0,     0,     0,     0,     0,     0,\n              0,     0,     0,     0,     0,     0,     0,     0,     0,     0,\n              0,     0,     0,     0,     0,     0,     0,     0,     0,     0,\n              0,     0,     0,     0,     0,     0,     0,     0,     0,     0,\n              0,     0,     0,     0,     0,     0,     0,     0,     0,     0,\n              0,     0,     0,     0,     0,     0,     0,     0,     0,     0,\n              0,     0,     0,     0,     0,     0,     0,     0,     0,     0,\n              0,     0,     0,     0,     0,     0,     0,     0,     0,     0,\n              0,     0,     0,     0,     0,     0,     0,     0,     0,     0,\n              0,     0,     0,     0,     0,     0,     0,     0,     0,     0,\n              0,     0,     0,     0,     0,     0,     0,     0,     0,     0,\n              0,     0,     0,     0,     0,     0,     0,     0,     0,     0,\n              0,     0]), 'token_type_ids': tensor([0, 0, 0, 0, 0, 0, 0, 0, 0, 0, 0, 0, 0, 0, 0, 0, 0, 0, 0, 0, 0, 0, 0, 0,\n          0, 0, 0, 0, 0, 0, 0, 0, 0, 0, 0, 0, 0, 0, 0, 0, 0, 0, 0, 0, 0, 0, 0, 0,\n          0, 0, 0, 0, 0, 0, 0, 0, 0, 0, 0, 0, 0, 0, 0, 0, 0, 0, 0, 0, 0, 0, 0, 0,\n          0, 0, 0, 0, 0, 0, 0, 0, 0, 0, 0, 0, 0, 0, 0, 0, 0, 0, 0, 0, 0, 0, 0, 0,\n          0, 0, 0, 0, 0, 0, 0, 0, 0, 0, 0, 0, 0, 0, 0, 0, 0, 0, 0, 0, 0, 0, 0, 0,\n          0, 0, 0, 0, 0, 0, 0, 0, 0, 0, 0, 0, 0, 0, 0, 0, 0, 0, 0, 0, 0, 0, 0, 0,\n          0, 0, 0, 0, 0, 0, 0, 0, 0, 0, 0, 0, 0, 0, 0, 0, 0, 0, 0, 0, 0, 0, 0, 0,\n          0, 0, 0, 0, 0, 0, 0, 0, 0, 0, 0, 0, 0, 0, 0, 0, 0, 0, 0, 0, 0, 0, 0, 0,\n          0, 0, 0, 0, 0, 0, 0, 0, 0, 0, 0, 0, 0, 0, 0, 0, 0, 0, 0, 0, 0, 0, 0, 0,\n          0, 0, 0, 0, 0, 0, 0, 0, 0, 0, 0, 0, 0, 0, 0, 0, 0, 0, 0, 0, 0, 0, 0, 0,\n          0, 0, 0, 0, 0, 0, 0, 0, 0, 0, 0, 0, 0, 0, 0, 0, 0, 0, 0, 0, 0, 0, 0, 0,\n          0, 0, 0, 0, 0, 0, 0, 0, 0, 0, 0, 0, 0, 0, 0, 0, 0, 0, 0, 0, 0, 0, 0, 0,\n          0, 0, 0, 0, 0, 0, 0, 0, 0, 0, 0, 0, 0, 0, 0, 0, 0, 0, 0, 0, 0, 0, 0, 0,\n          0, 0, 0, 0, 0, 0, 0, 0, 0, 0, 0, 0, 0, 0, 0, 0, 0, 0, 0, 0, 0, 0, 0, 0,\n          0, 0, 0, 0, 0, 0, 0, 0, 0, 0, 0, 0, 0, 0, 0, 0, 0, 0, 0, 0, 0, 0, 0, 0,\n          0, 0, 0, 0, 0, 0, 0, 0, 0, 0, 0, 0, 0, 0, 0, 0, 0, 0, 0, 0, 0, 0, 0, 0,\n          0, 0, 0, 0, 0, 0, 0, 0, 0, 0, 0, 0, 0, 0, 0, 0, 0, 0, 0, 0, 0, 0, 0, 0,\n          0, 0, 0, 0, 0, 0, 0, 0, 0, 0, 0, 0, 0, 0, 0, 0, 0, 0, 0, 0, 0, 0, 0, 0,\n          0, 0, 0, 0, 0, 0, 0, 0, 0, 0, 0, 0, 0, 0, 0, 0, 0, 0, 0, 0, 0, 0, 0, 0,\n          0, 0, 0, 0, 0, 0, 0, 0, 0, 0, 0, 0, 0, 0, 0, 0, 0, 0, 0, 0, 0, 0, 0, 0,\n          0, 0, 0, 0, 0, 0, 0, 0, 0, 0, 0, 0, 0, 0, 0, 0, 0, 0, 0, 0, 0, 0, 0, 0,\n          0, 0, 0, 0, 0, 0, 0, 0]), 'attention_mask': tensor([1, 1, 1, 1, 1, 1, 1, 1, 1, 1, 1, 1, 1, 1, 1, 1, 1, 1, 1, 1, 1, 1, 1, 1,\n          1, 1, 0, 0, 0, 0, 0, 0, 0, 0, 0, 0, 0, 0, 0, 0, 0, 0, 0, 0, 0, 0, 0, 0,\n          0, 0, 0, 0, 0, 0, 0, 0, 0, 0, 0, 0, 0, 0, 0, 0, 0, 0, 0, 0, 0, 0, 0, 0,\n          0, 0, 0, 0, 0, 0, 0, 0, 0, 0, 0, 0, 0, 0, 0, 0, 0, 0, 0, 0, 0, 0, 0, 0,\n          0, 0, 0, 0, 0, 0, 0, 0, 0, 0, 0, 0, 0, 0, 0, 0, 0, 0, 0, 0, 0, 0, 0, 0,\n          0, 0, 0, 0, 0, 0, 0, 0, 0, 0, 0, 0, 0, 0, 0, 0, 0, 0, 0, 0, 0, 0, 0, 0,\n          0, 0, 0, 0, 0, 0, 0, 0, 0, 0, 0, 0, 0, 0, 0, 0, 0, 0, 0, 0, 0, 0, 0, 0,\n          0, 0, 0, 0, 0, 0, 0, 0, 0, 0, 0, 0, 0, 0, 0, 0, 0, 0, 0, 0, 0, 0, 0, 0,\n          0, 0, 0, 0, 0, 0, 0, 0, 0, 0, 0, 0, 0, 0, 0, 0, 0, 0, 0, 0, 0, 0, 0, 0,\n          0, 0, 0, 0, 0, 0, 0, 0, 0, 0, 0, 0, 0, 0, 0, 0, 0, 0, 0, 0, 0, 0, 0, 0,\n          0, 0, 0, 0, 0, 0, 0, 0, 0, 0, 0, 0, 0, 0, 0, 0, 0, 0, 0, 0, 0, 0, 0, 0,\n          0, 0, 0, 0, 0, 0, 0, 0, 0, 0, 0, 0, 0, 0, 0, 0, 0, 0, 0, 0, 0, 0, 0, 0,\n          0, 0, 0, 0, 0, 0, 0, 0, 0, 0, 0, 0, 0, 0, 0, 0, 0, 0, 0, 0, 0, 0, 0, 0,\n          0, 0, 0, 0, 0, 0, 0, 0, 0, 0, 0, 0, 0, 0, 0, 0, 0, 0, 0, 0, 0, 0, 0, 0,\n          0, 0, 0, 0, 0, 0, 0, 0, 0, 0, 0, 0, 0, 0, 0, 0, 0, 0, 0, 0, 0, 0, 0, 0,\n          0, 0, 0, 0, 0, 0, 0, 0, 0, 0, 0, 0, 0, 0, 0, 0, 0, 0, 0, 0, 0, 0, 0, 0,\n          0, 0, 0, 0, 0, 0, 0, 0, 0, 0, 0, 0, 0, 0, 0, 0, 0, 0, 0, 0, 0, 0, 0, 0,\n          0, 0, 0, 0, 0, 0, 0, 0, 0, 0, 0, 0, 0, 0, 0, 0, 0, 0, 0, 0, 0, 0, 0, 0,\n          0, 0, 0, 0, 0, 0, 0, 0, 0, 0, 0, 0, 0, 0, 0, 0, 0, 0, 0, 0, 0, 0, 0, 0,\n          0, 0, 0, 0, 0, 0, 0, 0, 0, 0, 0, 0, 0, 0, 0, 0, 0, 0, 0, 0, 0, 0, 0, 0,\n          0, 0, 0, 0, 0, 0, 0, 0, 0, 0, 0, 0, 0, 0, 0, 0, 0, 0, 0, 0, 0, 0, 0, 0,\n          0, 0, 0, 0, 0, 0, 0, 0])},\n  'columns': {'input_ids': tensor([  101,  2447,  1010,  2053,  1012,  1010, 10662,  1010,  2597,  1010,\n           2086,  1999,  4361,  1010,  2082,  1013,  2252,  2136,   102,     0,\n              0,     0,     0,     0,     0,     0,     0,     0,     0,     0,\n              0,     0,     0,     0,     0,     0,     0,     0,     0,     0,\n              0,     0,     0,     0,     0,     0,     0,     0,     0,     0,\n              0,     0,     0,     0,     0,     0,     0,     0,     0,     0,\n              0,     0,     0,     0,     0,     0,     0,     0,     0,     0,\n              0,     0,     0,     0,     0,     0,     0,     0,     0,     0,\n              0,     0,     0,     0,     0,     0,     0,     0,     0,     0,\n              0,     0,     0,     0,     0,     0,     0,     0,     0,     0,\n              0,     0,     0,     0,     0,     0,     0,     0,     0,     0,\n              0,     0,     0,     0,     0,     0,     0,     0,     0,     0,\n              0,     0,     0,     0,     0,     0,     0,     0,     0,     0,\n              0,     0,     0,     0,     0,     0,     0,     0,     0,     0,\n              0,     0,     0,     0,     0,     0,     0,     0,     0,     0,\n              0,     0,     0,     0,     0,     0,     0,     0,     0,     0,\n              0,     0,     0,     0,     0,     0,     0,     0,     0,     0,\n              0,     0,     0,     0,     0,     0,     0,     0,     0,     0,\n              0,     0,     0,     0,     0,     0,     0,     0,     0,     0,\n              0,     0,     0,     0,     0,     0,     0,     0,     0,     0,\n              0,     0,     0,     0,     0,     0,     0,     0,     0,     0,\n              0,     0,     0,     0,     0,     0,     0,     0,     0,     0,\n              0,     0,     0,     0,     0,     0,     0,     0,     0,     0,\n              0,     0,     0,     0,     0,     0,     0,     0,     0,     0,\n              0,     0,     0,     0,     0,     0,     0,     0,     0,     0,\n              0,     0,     0,     0,     0,     0,     0,     0,     0,     0,\n              0,     0,     0,     0,     0,     0,     0,     0,     0,     0,\n              0,     0,     0,     0,     0,     0,     0,     0,     0,     0,\n              0,     0,     0,     0,     0,     0,     0,     0,     0,     0,\n              0,     0,     0,     0,     0,     0,     0,     0,     0,     0,\n              0,     0,     0,     0,     0,     0,     0,     0,     0,     0,\n              0,     0,     0,     0,     0,     0,     0,     0,     0,     0,\n              0,     0,     0,     0,     0,     0,     0,     0,     0,     0,\n              0,     0,     0,     0,     0,     0,     0,     0,     0,     0,\n              0,     0,     0,     0,     0,     0,     0,     0,     0,     0,\n              0,     0,     0,     0,     0,     0,     0,     0,     0,     0,\n              0,     0,     0,     0,     0,     0,     0,     0,     0,     0,\n              0,     0,     0,     0,     0,     0,     0,     0,     0,     0,\n              0,     0,     0,     0,     0,     0,     0,     0,     0,     0,\n              0,     0,     0,     0,     0,     0,     0,     0,     0,     0,\n              0,     0,     0,     0,     0,     0,     0,     0,     0,     0,\n              0,     0,     0,     0,     0,     0,     0,     0,     0,     0,\n              0,     0,     0,     0,     0,     0,     0,     0,     0,     0,\n              0,     0,     0,     0,     0,     0,     0,     0,     0,     0,\n              0,     0,     0,     0,     0,     0,     0,     0,     0,     0,\n              0,     0,     0,     0,     0,     0,     0,     0,     0,     0,\n              0,     0,     0,     0,     0,     0,     0,     0,     0,     0,\n              0,     0,     0,     0,     0,     0,     0,     0,     0,     0,\n              0,     0,     0,     0,     0,     0,     0,     0,     0,     0,\n              0,     0,     0,     0,     0,     0,     0,     0,     0,     0,\n              0,     0,     0,     0,     0,     0,     0,     0,     0,     0,\n              0,     0]), 'token_type_ids': tensor([0, 0, 0, 0, 0, 0, 0, 0, 0, 0, 0, 0, 0, 0, 0, 0, 0, 0, 0, 0, 0, 0, 0, 0,\n          0, 0, 0, 0, 0, 0, 0, 0, 0, 0, 0, 0, 0, 0, 0, 0, 0, 0, 0, 0, 0, 0, 0, 0,\n          0, 0, 0, 0, 0, 0, 0, 0, 0, 0, 0, 0, 0, 0, 0, 0, 0, 0, 0, 0, 0, 0, 0, 0,\n          0, 0, 0, 0, 0, 0, 0, 0, 0, 0, 0, 0, 0, 0, 0, 0, 0, 0, 0, 0, 0, 0, 0, 0,\n          0, 0, 0, 0, 0, 0, 0, 0, 0, 0, 0, 0, 0, 0, 0, 0, 0, 0, 0, 0, 0, 0, 0, 0,\n          0, 0, 0, 0, 0, 0, 0, 0, 0, 0, 0, 0, 0, 0, 0, 0, 0, 0, 0, 0, 0, 0, 0, 0,\n          0, 0, 0, 0, 0, 0, 0, 0, 0, 0, 0, 0, 0, 0, 0, 0, 0, 0, 0, 0, 0, 0, 0, 0,\n          0, 0, 0, 0, 0, 0, 0, 0, 0, 0, 0, 0, 0, 0, 0, 0, 0, 0, 0, 0, 0, 0, 0, 0,\n          0, 0, 0, 0, 0, 0, 0, 0, 0, 0, 0, 0, 0, 0, 0, 0, 0, 0, 0, 0, 0, 0, 0, 0,\n          0, 0, 0, 0, 0, 0, 0, 0, 0, 0, 0, 0, 0, 0, 0, 0, 0, 0, 0, 0, 0, 0, 0, 0,\n          0, 0, 0, 0, 0, 0, 0, 0, 0, 0, 0, 0, 0, 0, 0, 0, 0, 0, 0, 0, 0, 0, 0, 0,\n          0, 0, 0, 0, 0, 0, 0, 0, 0, 0, 0, 0, 0, 0, 0, 0, 0, 0, 0, 0, 0, 0, 0, 0,\n          0, 0, 0, 0, 0, 0, 0, 0, 0, 0, 0, 0, 0, 0, 0, 0, 0, 0, 0, 0, 0, 0, 0, 0,\n          0, 0, 0, 0, 0, 0, 0, 0, 0, 0, 0, 0, 0, 0, 0, 0, 0, 0, 0, 0, 0, 0, 0, 0,\n          0, 0, 0, 0, 0, 0, 0, 0, 0, 0, 0, 0, 0, 0, 0, 0, 0, 0, 0, 0, 0, 0, 0, 0,\n          0, 0, 0, 0, 0, 0, 0, 0, 0, 0, 0, 0, 0, 0, 0, 0, 0, 0, 0, 0, 0, 0, 0, 0,\n          0, 0, 0, 0, 0, 0, 0, 0, 0, 0, 0, 0, 0, 0, 0, 0, 0, 0, 0, 0, 0, 0, 0, 0,\n          0, 0, 0, 0, 0, 0, 0, 0, 0, 0, 0, 0, 0, 0, 0, 0, 0, 0, 0, 0, 0, 0, 0, 0,\n          0, 0, 0, 0, 0, 0, 0, 0, 0, 0, 0, 0, 0, 0, 0, 0, 0, 0, 0, 0, 0, 0, 0, 0,\n          0, 0, 0, 0, 0, 0, 0, 0, 0, 0, 0, 0, 0, 0, 0, 0, 0, 0, 0, 0, 0, 0, 0, 0,\n          0, 0, 0, 0, 0, 0, 0, 0, 0, 0, 0, 0, 0, 0, 0, 0, 0, 0, 0, 0, 0, 0, 0, 0,\n          0, 0, 0, 0, 0, 0, 0, 0]), 'attention_mask': tensor([1, 1, 1, 1, 1, 1, 1, 1, 1, 1, 1, 1, 1, 1, 1, 1, 1, 1, 1, 0, 0, 0, 0, 0,\n          0, 0, 0, 0, 0, 0, 0, 0, 0, 0, 0, 0, 0, 0, 0, 0, 0, 0, 0, 0, 0, 0, 0, 0,\n          0, 0, 0, 0, 0, 0, 0, 0, 0, 0, 0, 0, 0, 0, 0, 0, 0, 0, 0, 0, 0, 0, 0, 0,\n          0, 0, 0, 0, 0, 0, 0, 0, 0, 0, 0, 0, 0, 0, 0, 0, 0, 0, 0, 0, 0, 0, 0, 0,\n          0, 0, 0, 0, 0, 0, 0, 0, 0, 0, 0, 0, 0, 0, 0, 0, 0, 0, 0, 0, 0, 0, 0, 0,\n          0, 0, 0, 0, 0, 0, 0, 0, 0, 0, 0, 0, 0, 0, 0, 0, 0, 0, 0, 0, 0, 0, 0, 0,\n          0, 0, 0, 0, 0, 0, 0, 0, 0, 0, 0, 0, 0, 0, 0, 0, 0, 0, 0, 0, 0, 0, 0, 0,\n          0, 0, 0, 0, 0, 0, 0, 0, 0, 0, 0, 0, 0, 0, 0, 0, 0, 0, 0, 0, 0, 0, 0, 0,\n          0, 0, 0, 0, 0, 0, 0, 0, 0, 0, 0, 0, 0, 0, 0, 0, 0, 0, 0, 0, 0, 0, 0, 0,\n          0, 0, 0, 0, 0, 0, 0, 0, 0, 0, 0, 0, 0, 0, 0, 0, 0, 0, 0, 0, 0, 0, 0, 0,\n          0, 0, 0, 0, 0, 0, 0, 0, 0, 0, 0, 0, 0, 0, 0, 0, 0, 0, 0, 0, 0, 0, 0, 0,\n          0, 0, 0, 0, 0, 0, 0, 0, 0, 0, 0, 0, 0, 0, 0, 0, 0, 0, 0, 0, 0, 0, 0, 0,\n          0, 0, 0, 0, 0, 0, 0, 0, 0, 0, 0, 0, 0, 0, 0, 0, 0, 0, 0, 0, 0, 0, 0, 0,\n          0, 0, 0, 0, 0, 0, 0, 0, 0, 0, 0, 0, 0, 0, 0, 0, 0, 0, 0, 0, 0, 0, 0, 0,\n          0, 0, 0, 0, 0, 0, 0, 0, 0, 0, 0, 0, 0, 0, 0, 0, 0, 0, 0, 0, 0, 0, 0, 0,\n          0, 0, 0, 0, 0, 0, 0, 0, 0, 0, 0, 0, 0, 0, 0, 0, 0, 0, 0, 0, 0, 0, 0, 0,\n          0, 0, 0, 0, 0, 0, 0, 0, 0, 0, 0, 0, 0, 0, 0, 0, 0, 0, 0, 0, 0, 0, 0, 0,\n          0, 0, 0, 0, 0, 0, 0, 0, 0, 0, 0, 0, 0, 0, 0, 0, 0, 0, 0, 0, 0, 0, 0, 0,\n          0, 0, 0, 0, 0, 0, 0, 0, 0, 0, 0, 0, 0, 0, 0, 0, 0, 0, 0, 0, 0, 0, 0, 0,\n          0, 0, 0, 0, 0, 0, 0, 0, 0, 0, 0, 0, 0, 0, 0, 0, 0, 0, 0, 0, 0, 0, 0, 0,\n          0, 0, 0, 0, 0, 0, 0, 0, 0, 0, 0, 0, 0, 0, 0, 0, 0, 0, 0, 0, 0, 0, 0, 0,\n          0, 0, 0, 0, 0, 0, 0, 0])}},\n 'labels': {'sel': 2,\n  'agg': 0,\n  'conds': (1, [0, 0, 0, 0], [1, 0, 0, 0], [[2, 2], [0, 0], [0, 0], [0, 0]])},\n 'CHECK': (['Terrence Ross'], ['terrence ross'])}"
     },
     "execution_count": 25,
     "metadata": {},
     "output_type": "execute_result"
    }
   ],
   "source": [
    "test_set[0]"
   ],
   "metadata": {
    "collapsed": false
   }
  },
  {
   "cell_type": "code",
   "execution_count": 26,
   "outputs": [],
   "source": [
    "cond_range = test_set[0]['labels']['conds'][3][0]"
   ],
   "metadata": {
    "collapsed": false
   }
  },
  {
   "cell_type": "code",
   "execution_count": 27,
   "outputs": [],
   "source": [
    "cleaned_q = list(WikiSQLDataset._generate_cond3(test_set[0]['input'][0].split()))"
   ],
   "metadata": {
    "collapsed": false
   }
  },
  {
   "cell_type": "code",
   "execution_count": 28,
   "outputs": [
    {
     "data": {
      "text/plain": "\"What is terrence ross' nationality\""
     },
     "execution_count": 28,
     "metadata": {},
     "output_type": "execute_result"
    }
   ],
   "source": [
    "test_set[0]['input'][0]"
   ],
   "metadata": {
    "collapsed": false
   }
  },
  {
   "cell_type": "code",
   "execution_count": 29,
   "outputs": [
    {
     "data": {
      "text/plain": "['what', 'is', 'terrence', \"ross'\", 'nationality']"
     },
     "execution_count": 29,
     "metadata": {},
     "output_type": "execute_result"
    }
   ],
   "source": [
    "cleaned_q"
   ],
   "metadata": {
    "collapsed": false
   }
  },
  {
   "cell_type": "code",
   "execution_count": 30,
   "outputs": [
    {
     "data": {
      "text/plain": "['terrence', \"ross'\"]"
     },
     "execution_count": 30,
     "metadata": {},
     "output_type": "execute_result"
    }
   ],
   "source": [
    "cleaned_q[cond_range[0]:cond_range[0]+cond_range[1]]"
   ],
   "metadata": {
    "collapsed": false
   }
  },
  {
   "cell_type": "code",
   "execution_count": 31,
   "outputs": [
    {
     "data": {
      "text/plain": "{'table_id': '1-10015132-16',\n 'columns': 'Player, No., Nationality, Position, Years in Toronto, School/Club Team',\n 'input': ('What clu was in toronto 1995-96',\n  'Player, No., Nationality, Position, Years in Toronto, School/Club Team'),\n 'tokenized_inputs': {'question': {'input_ids': tensor([  101,  2054, 18856,  2226,  2001,  1999,  4361,  2786,  1011,  5986,\n           2447,  1010,  2053,  1012,  1010, 10662,  1010,  2597,  1010,  2086,\n           1999,  4361,  1010,  2082,  1013,  2252,  2136,   102,     0,     0,\n              0,     0,     0,     0,     0,     0,     0,     0,     0,     0,\n              0,     0,     0,     0,     0,     0,     0,     0,     0,     0,\n              0,     0,     0,     0,     0,     0,     0,     0,     0,     0,\n              0,     0,     0,     0,     0,     0,     0,     0,     0,     0,\n              0,     0,     0,     0,     0,     0,     0,     0,     0,     0,\n              0,     0,     0,     0,     0,     0,     0,     0,     0,     0,\n              0,     0,     0,     0,     0,     0,     0,     0,     0,     0,\n              0,     0,     0,     0,     0,     0,     0,     0,     0,     0,\n              0,     0,     0,     0,     0,     0,     0,     0,     0,     0,\n              0,     0,     0,     0,     0,     0,     0,     0,     0,     0,\n              0,     0,     0,     0,     0,     0,     0,     0,     0,     0,\n              0,     0,     0,     0,     0,     0,     0,     0,     0,     0,\n              0,     0,     0,     0,     0,     0,     0,     0,     0,     0,\n              0,     0,     0,     0,     0,     0,     0,     0,     0,     0,\n              0,     0,     0,     0,     0,     0,     0,     0,     0,     0,\n              0,     0,     0,     0,     0,     0,     0,     0,     0,     0,\n              0,     0,     0,     0,     0,     0,     0,     0,     0,     0,\n              0,     0,     0,     0,     0,     0,     0,     0,     0,     0,\n              0,     0,     0,     0,     0,     0,     0,     0,     0,     0,\n              0,     0,     0,     0,     0,     0,     0,     0,     0,     0,\n              0,     0,     0,     0,     0,     0,     0,     0,     0,     0,\n              0,     0,     0,     0,     0,     0,     0,     0,     0,     0,\n              0,     0,     0,     0,     0,     0,     0,     0,     0,     0,\n              0,     0,     0,     0,     0,     0,     0,     0,     0,     0,\n              0,     0,     0,     0,     0,     0,     0,     0,     0,     0,\n              0,     0,     0,     0,     0,     0,     0,     0,     0,     0,\n              0,     0,     0,     0,     0,     0,     0,     0,     0,     0,\n              0,     0,     0,     0,     0,     0,     0,     0,     0,     0,\n              0,     0,     0,     0,     0,     0,     0,     0,     0,     0,\n              0,     0,     0,     0,     0,     0,     0,     0,     0,     0,\n              0,     0,     0,     0,     0,     0,     0,     0,     0,     0,\n              0,     0,     0,     0,     0,     0,     0,     0,     0,     0,\n              0,     0,     0,     0,     0,     0,     0,     0,     0,     0,\n              0,     0,     0,     0,     0,     0,     0,     0,     0,     0,\n              0,     0,     0,     0,     0,     0,     0,     0,     0,     0,\n              0,     0,     0,     0,     0,     0,     0,     0,     0,     0,\n              0,     0,     0,     0,     0,     0,     0,     0,     0,     0,\n              0,     0,     0,     0,     0,     0,     0,     0,     0,     0,\n              0,     0,     0,     0,     0,     0,     0,     0,     0,     0,\n              0,     0,     0,     0,     0,     0,     0,     0,     0,     0,\n              0,     0,     0,     0,     0,     0,     0,     0,     0,     0,\n              0,     0,     0,     0,     0,     0,     0,     0,     0,     0,\n              0,     0,     0,     0,     0,     0,     0,     0,     0,     0,\n              0,     0,     0,     0,     0,     0,     0,     0,     0,     0,\n              0,     0,     0,     0,     0,     0,     0,     0,     0,     0,\n              0,     0,     0,     0,     0,     0,     0,     0,     0,     0,\n              0,     0,     0,     0,     0,     0,     0,     0,     0,     0,\n              0,     0,     0,     0,     0,     0,     0,     0,     0,     0,\n              0,     0]), 'token_type_ids': tensor([0, 0, 0, 0, 0, 0, 0, 0, 0, 0, 0, 0, 0, 0, 0, 0, 0, 0, 0, 0, 0, 0, 0, 0,\n          0, 0, 0, 0, 0, 0, 0, 0, 0, 0, 0, 0, 0, 0, 0, 0, 0, 0, 0, 0, 0, 0, 0, 0,\n          0, 0, 0, 0, 0, 0, 0, 0, 0, 0, 0, 0, 0, 0, 0, 0, 0, 0, 0, 0, 0, 0, 0, 0,\n          0, 0, 0, 0, 0, 0, 0, 0, 0, 0, 0, 0, 0, 0, 0, 0, 0, 0, 0, 0, 0, 0, 0, 0,\n          0, 0, 0, 0, 0, 0, 0, 0, 0, 0, 0, 0, 0, 0, 0, 0, 0, 0, 0, 0, 0, 0, 0, 0,\n          0, 0, 0, 0, 0, 0, 0, 0, 0, 0, 0, 0, 0, 0, 0, 0, 0, 0, 0, 0, 0, 0, 0, 0,\n          0, 0, 0, 0, 0, 0, 0, 0, 0, 0, 0, 0, 0, 0, 0, 0, 0, 0, 0, 0, 0, 0, 0, 0,\n          0, 0, 0, 0, 0, 0, 0, 0, 0, 0, 0, 0, 0, 0, 0, 0, 0, 0, 0, 0, 0, 0, 0, 0,\n          0, 0, 0, 0, 0, 0, 0, 0, 0, 0, 0, 0, 0, 0, 0, 0, 0, 0, 0, 0, 0, 0, 0, 0,\n          0, 0, 0, 0, 0, 0, 0, 0, 0, 0, 0, 0, 0, 0, 0, 0, 0, 0, 0, 0, 0, 0, 0, 0,\n          0, 0, 0, 0, 0, 0, 0, 0, 0, 0, 0, 0, 0, 0, 0, 0, 0, 0, 0, 0, 0, 0, 0, 0,\n          0, 0, 0, 0, 0, 0, 0, 0, 0, 0, 0, 0, 0, 0, 0, 0, 0, 0, 0, 0, 0, 0, 0, 0,\n          0, 0, 0, 0, 0, 0, 0, 0, 0, 0, 0, 0, 0, 0, 0, 0, 0, 0, 0, 0, 0, 0, 0, 0,\n          0, 0, 0, 0, 0, 0, 0, 0, 0, 0, 0, 0, 0, 0, 0, 0, 0, 0, 0, 0, 0, 0, 0, 0,\n          0, 0, 0, 0, 0, 0, 0, 0, 0, 0, 0, 0, 0, 0, 0, 0, 0, 0, 0, 0, 0, 0, 0, 0,\n          0, 0, 0, 0, 0, 0, 0, 0, 0, 0, 0, 0, 0, 0, 0, 0, 0, 0, 0, 0, 0, 0, 0, 0,\n          0, 0, 0, 0, 0, 0, 0, 0, 0, 0, 0, 0, 0, 0, 0, 0, 0, 0, 0, 0, 0, 0, 0, 0,\n          0, 0, 0, 0, 0, 0, 0, 0, 0, 0, 0, 0, 0, 0, 0, 0, 0, 0, 0, 0, 0, 0, 0, 0,\n          0, 0, 0, 0, 0, 0, 0, 0, 0, 0, 0, 0, 0, 0, 0, 0, 0, 0, 0, 0, 0, 0, 0, 0,\n          0, 0, 0, 0, 0, 0, 0, 0, 0, 0, 0, 0, 0, 0, 0, 0, 0, 0, 0, 0, 0, 0, 0, 0,\n          0, 0, 0, 0, 0, 0, 0, 0, 0, 0, 0, 0, 0, 0, 0, 0, 0, 0, 0, 0, 0, 0, 0, 0,\n          0, 0, 0, 0, 0, 0, 0, 0]), 'attention_mask': tensor([1, 1, 1, 1, 1, 1, 1, 1, 1, 1, 1, 1, 1, 1, 1, 1, 1, 1, 1, 1, 1, 1, 1, 1,\n          1, 1, 1, 1, 0, 0, 0, 0, 0, 0, 0, 0, 0, 0, 0, 0, 0, 0, 0, 0, 0, 0, 0, 0,\n          0, 0, 0, 0, 0, 0, 0, 0, 0, 0, 0, 0, 0, 0, 0, 0, 0, 0, 0, 0, 0, 0, 0, 0,\n          0, 0, 0, 0, 0, 0, 0, 0, 0, 0, 0, 0, 0, 0, 0, 0, 0, 0, 0, 0, 0, 0, 0, 0,\n          0, 0, 0, 0, 0, 0, 0, 0, 0, 0, 0, 0, 0, 0, 0, 0, 0, 0, 0, 0, 0, 0, 0, 0,\n          0, 0, 0, 0, 0, 0, 0, 0, 0, 0, 0, 0, 0, 0, 0, 0, 0, 0, 0, 0, 0, 0, 0, 0,\n          0, 0, 0, 0, 0, 0, 0, 0, 0, 0, 0, 0, 0, 0, 0, 0, 0, 0, 0, 0, 0, 0, 0, 0,\n          0, 0, 0, 0, 0, 0, 0, 0, 0, 0, 0, 0, 0, 0, 0, 0, 0, 0, 0, 0, 0, 0, 0, 0,\n          0, 0, 0, 0, 0, 0, 0, 0, 0, 0, 0, 0, 0, 0, 0, 0, 0, 0, 0, 0, 0, 0, 0, 0,\n          0, 0, 0, 0, 0, 0, 0, 0, 0, 0, 0, 0, 0, 0, 0, 0, 0, 0, 0, 0, 0, 0, 0, 0,\n          0, 0, 0, 0, 0, 0, 0, 0, 0, 0, 0, 0, 0, 0, 0, 0, 0, 0, 0, 0, 0, 0, 0, 0,\n          0, 0, 0, 0, 0, 0, 0, 0, 0, 0, 0, 0, 0, 0, 0, 0, 0, 0, 0, 0, 0, 0, 0, 0,\n          0, 0, 0, 0, 0, 0, 0, 0, 0, 0, 0, 0, 0, 0, 0, 0, 0, 0, 0, 0, 0, 0, 0, 0,\n          0, 0, 0, 0, 0, 0, 0, 0, 0, 0, 0, 0, 0, 0, 0, 0, 0, 0, 0, 0, 0, 0, 0, 0,\n          0, 0, 0, 0, 0, 0, 0, 0, 0, 0, 0, 0, 0, 0, 0, 0, 0, 0, 0, 0, 0, 0, 0, 0,\n          0, 0, 0, 0, 0, 0, 0, 0, 0, 0, 0, 0, 0, 0, 0, 0, 0, 0, 0, 0, 0, 0, 0, 0,\n          0, 0, 0, 0, 0, 0, 0, 0, 0, 0, 0, 0, 0, 0, 0, 0, 0, 0, 0, 0, 0, 0, 0, 0,\n          0, 0, 0, 0, 0, 0, 0, 0, 0, 0, 0, 0, 0, 0, 0, 0, 0, 0, 0, 0, 0, 0, 0, 0,\n          0, 0, 0, 0, 0, 0, 0, 0, 0, 0, 0, 0, 0, 0, 0, 0, 0, 0, 0, 0, 0, 0, 0, 0,\n          0, 0, 0, 0, 0, 0, 0, 0, 0, 0, 0, 0, 0, 0, 0, 0, 0, 0, 0, 0, 0, 0, 0, 0,\n          0, 0, 0, 0, 0, 0, 0, 0, 0, 0, 0, 0, 0, 0, 0, 0, 0, 0, 0, 0, 0, 0, 0, 0,\n          0, 0, 0, 0, 0, 0, 0, 0])},\n  'columns': {'input_ids': tensor([  101,  2447,  1010,  2053,  1012,  1010, 10662,  1010,  2597,  1010,\n           2086,  1999,  4361,  1010,  2082,  1013,  2252,  2136,   102,     0,\n              0,     0,     0,     0,     0,     0,     0,     0,     0,     0,\n              0,     0,     0,     0,     0,     0,     0,     0,     0,     0,\n              0,     0,     0,     0,     0,     0,     0,     0,     0,     0,\n              0,     0,     0,     0,     0,     0,     0,     0,     0,     0,\n              0,     0,     0,     0,     0,     0,     0,     0,     0,     0,\n              0,     0,     0,     0,     0,     0,     0,     0,     0,     0,\n              0,     0,     0,     0,     0,     0,     0,     0,     0,     0,\n              0,     0,     0,     0,     0,     0,     0,     0,     0,     0,\n              0,     0,     0,     0,     0,     0,     0,     0,     0,     0,\n              0,     0,     0,     0,     0,     0,     0,     0,     0,     0,\n              0,     0,     0,     0,     0,     0,     0,     0,     0,     0,\n              0,     0,     0,     0,     0,     0,     0,     0,     0,     0,\n              0,     0,     0,     0,     0,     0,     0,     0,     0,     0,\n              0,     0,     0,     0,     0,     0,     0,     0,     0,     0,\n              0,     0,     0,     0,     0,     0,     0,     0,     0,     0,\n              0,     0,     0,     0,     0,     0,     0,     0,     0,     0,\n              0,     0,     0,     0,     0,     0,     0,     0,     0,     0,\n              0,     0,     0,     0,     0,     0,     0,     0,     0,     0,\n              0,     0,     0,     0,     0,     0,     0,     0,     0,     0,\n              0,     0,     0,     0,     0,     0,     0,     0,     0,     0,\n              0,     0,     0,     0,     0,     0,     0,     0,     0,     0,\n              0,     0,     0,     0,     0,     0,     0,     0,     0,     0,\n              0,     0,     0,     0,     0,     0,     0,     0,     0,     0,\n              0,     0,     0,     0,     0,     0,     0,     0,     0,     0,\n              0,     0,     0,     0,     0,     0,     0,     0,     0,     0,\n              0,     0,     0,     0,     0,     0,     0,     0,     0,     0,\n              0,     0,     0,     0,     0,     0,     0,     0,     0,     0,\n              0,     0,     0,     0,     0,     0,     0,     0,     0,     0,\n              0,     0,     0,     0,     0,     0,     0,     0,     0,     0,\n              0,     0,     0,     0,     0,     0,     0,     0,     0,     0,\n              0,     0,     0,     0,     0,     0,     0,     0,     0,     0,\n              0,     0,     0,     0,     0,     0,     0,     0,     0,     0,\n              0,     0,     0,     0,     0,     0,     0,     0,     0,     0,\n              0,     0,     0,     0,     0,     0,     0,     0,     0,     0,\n              0,     0,     0,     0,     0,     0,     0,     0,     0,     0,\n              0,     0,     0,     0,     0,     0,     0,     0,     0,     0,\n              0,     0,     0,     0,     0,     0,     0,     0,     0,     0,\n              0,     0,     0,     0,     0,     0,     0,     0,     0,     0,\n              0,     0,     0,     0,     0,     0,     0,     0,     0,     0,\n              0,     0,     0,     0,     0,     0,     0,     0,     0,     0,\n              0,     0,     0,     0,     0,     0,     0,     0,     0,     0,\n              0,     0,     0,     0,     0,     0,     0,     0,     0,     0,\n              0,     0,     0,     0,     0,     0,     0,     0,     0,     0,\n              0,     0,     0,     0,     0,     0,     0,     0,     0,     0,\n              0,     0,     0,     0,     0,     0,     0,     0,     0,     0,\n              0,     0,     0,     0,     0,     0,     0,     0,     0,     0,\n              0,     0,     0,     0,     0,     0,     0,     0,     0,     0,\n              0,     0,     0,     0,     0,     0,     0,     0,     0,     0,\n              0,     0,     0,     0,     0,     0,     0,     0,     0,     0,\n              0,     0]), 'token_type_ids': tensor([0, 0, 0, 0, 0, 0, 0, 0, 0, 0, 0, 0, 0, 0, 0, 0, 0, 0, 0, 0, 0, 0, 0, 0,\n          0, 0, 0, 0, 0, 0, 0, 0, 0, 0, 0, 0, 0, 0, 0, 0, 0, 0, 0, 0, 0, 0, 0, 0,\n          0, 0, 0, 0, 0, 0, 0, 0, 0, 0, 0, 0, 0, 0, 0, 0, 0, 0, 0, 0, 0, 0, 0, 0,\n          0, 0, 0, 0, 0, 0, 0, 0, 0, 0, 0, 0, 0, 0, 0, 0, 0, 0, 0, 0, 0, 0, 0, 0,\n          0, 0, 0, 0, 0, 0, 0, 0, 0, 0, 0, 0, 0, 0, 0, 0, 0, 0, 0, 0, 0, 0, 0, 0,\n          0, 0, 0, 0, 0, 0, 0, 0, 0, 0, 0, 0, 0, 0, 0, 0, 0, 0, 0, 0, 0, 0, 0, 0,\n          0, 0, 0, 0, 0, 0, 0, 0, 0, 0, 0, 0, 0, 0, 0, 0, 0, 0, 0, 0, 0, 0, 0, 0,\n          0, 0, 0, 0, 0, 0, 0, 0, 0, 0, 0, 0, 0, 0, 0, 0, 0, 0, 0, 0, 0, 0, 0, 0,\n          0, 0, 0, 0, 0, 0, 0, 0, 0, 0, 0, 0, 0, 0, 0, 0, 0, 0, 0, 0, 0, 0, 0, 0,\n          0, 0, 0, 0, 0, 0, 0, 0, 0, 0, 0, 0, 0, 0, 0, 0, 0, 0, 0, 0, 0, 0, 0, 0,\n          0, 0, 0, 0, 0, 0, 0, 0, 0, 0, 0, 0, 0, 0, 0, 0, 0, 0, 0, 0, 0, 0, 0, 0,\n          0, 0, 0, 0, 0, 0, 0, 0, 0, 0, 0, 0, 0, 0, 0, 0, 0, 0, 0, 0, 0, 0, 0, 0,\n          0, 0, 0, 0, 0, 0, 0, 0, 0, 0, 0, 0, 0, 0, 0, 0, 0, 0, 0, 0, 0, 0, 0, 0,\n          0, 0, 0, 0, 0, 0, 0, 0, 0, 0, 0, 0, 0, 0, 0, 0, 0, 0, 0, 0, 0, 0, 0, 0,\n          0, 0, 0, 0, 0, 0, 0, 0, 0, 0, 0, 0, 0, 0, 0, 0, 0, 0, 0, 0, 0, 0, 0, 0,\n          0, 0, 0, 0, 0, 0, 0, 0, 0, 0, 0, 0, 0, 0, 0, 0, 0, 0, 0, 0, 0, 0, 0, 0,\n          0, 0, 0, 0, 0, 0, 0, 0, 0, 0, 0, 0, 0, 0, 0, 0, 0, 0, 0, 0, 0, 0, 0, 0,\n          0, 0, 0, 0, 0, 0, 0, 0, 0, 0, 0, 0, 0, 0, 0, 0, 0, 0, 0, 0, 0, 0, 0, 0,\n          0, 0, 0, 0, 0, 0, 0, 0, 0, 0, 0, 0, 0, 0, 0, 0, 0, 0, 0, 0, 0, 0, 0, 0,\n          0, 0, 0, 0, 0, 0, 0, 0, 0, 0, 0, 0, 0, 0, 0, 0, 0, 0, 0, 0, 0, 0, 0, 0,\n          0, 0, 0, 0, 0, 0, 0, 0, 0, 0, 0, 0, 0, 0, 0, 0, 0, 0, 0, 0, 0, 0, 0, 0,\n          0, 0, 0, 0, 0, 0, 0, 0]), 'attention_mask': tensor([1, 1, 1, 1, 1, 1, 1, 1, 1, 1, 1, 1, 1, 1, 1, 1, 1, 1, 1, 0, 0, 0, 0, 0,\n          0, 0, 0, 0, 0, 0, 0, 0, 0, 0, 0, 0, 0, 0, 0, 0, 0, 0, 0, 0, 0, 0, 0, 0,\n          0, 0, 0, 0, 0, 0, 0, 0, 0, 0, 0, 0, 0, 0, 0, 0, 0, 0, 0, 0, 0, 0, 0, 0,\n          0, 0, 0, 0, 0, 0, 0, 0, 0, 0, 0, 0, 0, 0, 0, 0, 0, 0, 0, 0, 0, 0, 0, 0,\n          0, 0, 0, 0, 0, 0, 0, 0, 0, 0, 0, 0, 0, 0, 0, 0, 0, 0, 0, 0, 0, 0, 0, 0,\n          0, 0, 0, 0, 0, 0, 0, 0, 0, 0, 0, 0, 0, 0, 0, 0, 0, 0, 0, 0, 0, 0, 0, 0,\n          0, 0, 0, 0, 0, 0, 0, 0, 0, 0, 0, 0, 0, 0, 0, 0, 0, 0, 0, 0, 0, 0, 0, 0,\n          0, 0, 0, 0, 0, 0, 0, 0, 0, 0, 0, 0, 0, 0, 0, 0, 0, 0, 0, 0, 0, 0, 0, 0,\n          0, 0, 0, 0, 0, 0, 0, 0, 0, 0, 0, 0, 0, 0, 0, 0, 0, 0, 0, 0, 0, 0, 0, 0,\n          0, 0, 0, 0, 0, 0, 0, 0, 0, 0, 0, 0, 0, 0, 0, 0, 0, 0, 0, 0, 0, 0, 0, 0,\n          0, 0, 0, 0, 0, 0, 0, 0, 0, 0, 0, 0, 0, 0, 0, 0, 0, 0, 0, 0, 0, 0, 0, 0,\n          0, 0, 0, 0, 0, 0, 0, 0, 0, 0, 0, 0, 0, 0, 0, 0, 0, 0, 0, 0, 0, 0, 0, 0,\n          0, 0, 0, 0, 0, 0, 0, 0, 0, 0, 0, 0, 0, 0, 0, 0, 0, 0, 0, 0, 0, 0, 0, 0,\n          0, 0, 0, 0, 0, 0, 0, 0, 0, 0, 0, 0, 0, 0, 0, 0, 0, 0, 0, 0, 0, 0, 0, 0,\n          0, 0, 0, 0, 0, 0, 0, 0, 0, 0, 0, 0, 0, 0, 0, 0, 0, 0, 0, 0, 0, 0, 0, 0,\n          0, 0, 0, 0, 0, 0, 0, 0, 0, 0, 0, 0, 0, 0, 0, 0, 0, 0, 0, 0, 0, 0, 0, 0,\n          0, 0, 0, 0, 0, 0, 0, 0, 0, 0, 0, 0, 0, 0, 0, 0, 0, 0, 0, 0, 0, 0, 0, 0,\n          0, 0, 0, 0, 0, 0, 0, 0, 0, 0, 0, 0, 0, 0, 0, 0, 0, 0, 0, 0, 0, 0, 0, 0,\n          0, 0, 0, 0, 0, 0, 0, 0, 0, 0, 0, 0, 0, 0, 0, 0, 0, 0, 0, 0, 0, 0, 0, 0,\n          0, 0, 0, 0, 0, 0, 0, 0, 0, 0, 0, 0, 0, 0, 0, 0, 0, 0, 0, 0, 0, 0, 0, 0,\n          0, 0, 0, 0, 0, 0, 0, 0, 0, 0, 0, 0, 0, 0, 0, 0, 0, 0, 0, 0, 0, 0, 0, 0,\n          0, 0, 0, 0, 0, 0, 0, 0])}},\n 'labels': {'sel': 5,\n  'agg': 0,\n  'conds': (1, [4, 0, 0, 0], [1, 0, 0, 0], [[5, 1], [0, 0], [0, 0], [0, 0]])},\n 'CHECK': (['1995-96'], ['1995-96'])}"
     },
     "execution_count": 31,
     "metadata": {},
     "output_type": "execute_result"
    }
   ],
   "source": [
    "test_set[1]"
   ],
   "metadata": {
    "collapsed": false
   }
  },
  {
   "cell_type": "code",
   "execution_count": 32,
   "outputs": [
    {
     "name": "stdout",
     "output_type": "stream",
     "text": [
      "Can I Love? -- can i love -- Which examples ask the existential question \"Can I Love?\"\n",
      "\"Ambush\" (Part 1) -- ambush (part 1) -- Who is the writer of the episode called \"Ambush\" (part 1)?\n",
      "bumped St. Catharine's -- bumped st. catharine --  how many 1st day with 3rd day being bumped st. catharine's\n",
      "\" Save the Last Dance for Me \" -- save the last dance for me --  how many artbeingt with song title being \" save the last dance for me \"\n",
      "0.1 -- 2012 -- During the quarter of 2012 Q2, how many millions of Blackberry OS phones where shipped when 0.1 million others were shipped?\n",
      "Shasta H.S. -- shasta h.s -- How many entries are there for class when the prior experience is shasta h.s.\n",
      "M.C.G. -- m.c.g -- What is the home team that played on M.C.G. grounds?\n",
      "M. Van der Goten ( BEL ) --  -- Name the 3 where weightlifter is m. van der goten ( bel )\n",
      "\"Breakthrough\" \"Burēku surū\" (ブレーク·スルー) -- breakthrough burēku surū (ブレーク·スルー) -- What is the number of theWhat is the number of the chapter that is called \"breakthrough\" \"burēku surū\" (ブレーク·スルー)?\n",
      "\"Takeback\" \"Tēkubakku\" (テークバック) -- takeback tēkubakku (テークバック) -- Which are dates of transmission in English of the title \"takeback\" \"tēkubakku\" (テークバック)\n",
      "\"One to Go\" (Part 2) -- one to go (part 2) -- What is every \"directed by\" when the title is \"One To Go\" (part 2)?\n",
      "307 VS. -- 307 vs -- which episode was Transmitted on wednesday if the episode of \"307 vs.\" was transmitted on friday?  \n",
      "0.1% -- 2001 -- If %2001 is 0.1%, what is the minimum Arabs 2001 number?\n",
      "0.0% -- 2001 -- How many Latin Americans were there in 2001 in the province with 0.0% 2001 and 0.2% 2011?\n",
      "Bill Finger Edmond Hamilton Dick Sprang , et al. -- bill finger edmond hamilton dick sprang , et al -- Name the # for bill finger edmond hamilton dick sprang , et al.\n",
      "思 sī, \"thought\" -- 思 sī, thought -- What is the intelligence os the one that has 思 sī, \"thought\"?\n",
      "Sea (revised) --  -- How many inputs are there in the 'closure for signature' tab under the field 'sea (revised)'?\n",
      "59 -- 59% -- What is the minimum length of the locations where the average climb percentage is exactly 59%?\n",
      "The Higher Learning Commission ( NCA ), CCNE --  -- What is the control for the school accredited by the higher learning commission ( nca ), ccne?\n",
      "Baccalaureate college -- baccalaureate colleges -- What was the enrollment (2005) for baccalaureate colleges , for Granite State College?\n",
      "$40,000 -- 40,000 -- Which drivers won $40,000 in the NASCAR Winston Cup?\n",
      "0 - 1 Barbiero 78' -- 0 - 1 barbiero 78 -- When 0 - 1 barbiero 78' is the score how many measurements of attendance are there?\n",
      "3 - 1 Hughes 64' -- 3 - 1 hughes 64 -- When 3 - 1 hughes 64' is the score what is the stadium?\n",
      "1 - 1 Leckie 90+3' -- 1 - 1 leckie 90+3 -- When 1 - 1 leckie 90+3' is the score what is the stadium?\n",
      "Pokémon ieru kana? BW -- pokémon ieru kana bw -- When  pokémon ieru kana? bw is the romaji who is the vocalist?\n",
      "$250,667 -- 250,667 -- If the winnings was $250,667, what is the top 5 total number?\n",
      "$95,180 -- 95,180 -- How many wins did he have when he had $95,180 in winnings?\n",
      "$80,490 -- 80,490 -- How many top 10s did he have the year he won $80,490?\n",
      "K. Annamalai -- k. annamalai´s -- which was k. annamalai´s party a?\n",
      "$17,362 -- 17,362 -- What is the population in those place where the market income per capita is $17,362?\n",
      "$16,981 -- 16,981 -- What is the unemployment rate in those places where the market income per capita is $16,981?\n",
      "$22,866 -- 22,866 -- In what counties is the unemployment rate 5.8% and the market income per capita is $22,866?\n",
      "\"Kärleken vänder allt\" (The love turns everything) -- kärleken vänder allt (the love turns everything) -- What is the position of \"kärleken vänder allt\" (the love turns everything)?\n",
      "\"Kärleken vänder allt\" (The love turns everything) -- kärleken vänder allt (the love turns everything) -- What is the position of \"kärleken vänder allt\" (the love turns everything)?\n",
      "Madison Square Garden ( New York City, New York ) --  -- When madison square garden ( new york city, new york ) is the tournament venue (city) what is the conference tournament?\n",
      "\"Southwestern Exposure\", a twelve-egg omelette -- southwestern exposure, a twelve-egg omelette -- What is the original airdate of the episode where the challenge is \"Southwestern Exposure\", a twelve-egg omelette\"?\n",
      "6:00 p.m. -- 6:00 p.m -- What week had kickoff time at 6:00 p.m.?\n",
      "6:00 p.m. -- 6:00 p.m -- What was the score for the game that kicked off at 6:00 p.m.?\n",
      "\" Old Friend \" -- old friend -- Who directed the episode with a title of \" old friend \"?\n",
      "$15,785 -- 15,785 -- Which team had $15,785 in winnings?\n",
      "Adderly Fong ( 2013 ) --  -- How many times is last/current driver(s) 3 november 2013 is adderly fong ( 2013 )?\n",
      "Marlon Stöckinger , Kotaro Sakurai ( 2011 ) --  -- Who is the last/current driver(s) 3 november 2013 when first driver(s) is marlon stöckinger , kotaro sakurai ( 2011 )?\n",
      "Daniel Abt ( 2012 ) --  -- What is the country when last/current driver(s) 3 november 2013 is daniel abt ( 2012 )?\n",
      "$225,000 -- 225,000 -- who is the driver that had winnings of $225,000?\n",
      "2.0 -- 2011 -- What is the ethnic group when the 2011 % is 2.0?\n",
      "[[|]] 4 points -- [[|]] 6 points -- What was the final venue whene England hasted the competition and the runner-up record is [[|]] 4 points and the winner record is [[|]] 6 points?\n",
      "$849 -- 849 -- What is the HDI 2012) of the area with nominal GDP per capita and $849 USD(2012)?\n",
      "40 + 40 = 80 --  -- How many week 2 scores have a week 7 score of 40 + 40 = 80?\n",
      "2.0 -- 2011 -- Name the date for 2011 and position larger than 2.0\n",
      "21 -- 2006-06-21 -- Tell me the average spectators for 2006-06-21 and time more than 21\n",
      "75 -- 75% -- What are the fewest losses for a player lower than 3, with wins fewer than 75%, 0 draws and 56 points?\n",
      "100 -- 100% -- What is the smallest draws for a player larger than 2 with a 100% wins?\n",
      "56.15 -- 56.15% -- What is the average draws for a player larger than 16 with more than 1 tries and a win percentage smaller than 56.15%?\n",
      "tony o'sullivan --  -- What is Tony O'Sullivan's county?\n",
      "p + 1 --  -- Where was the match located when the odds were p + 1 and the score was 1/3?\n",
      "p + 1 --  -- What was the score for an n/a location with the odds of p + 1?\n",
      "p + 2 --  -- What was the score for a game with the odds of p + 2 after 1847?\n",
      "$52,106 -- 52,106 -- What is the largest number of households with median family income of $52,106 with less than 21,403 in population?\n",
      "$54,086 -- 54,086 -- What is the most households with a median household income of $54,086 with less than 231,236 in population?\n",
      "$46,426 -- 46,426 -- Which country has a $46,426 median family income?\n",
      "w 16-10* o.t. -- w 16-10* o.t -- Result of w 16-10* o.t. had what attendance?\n",
      "$40,340 -- 40,340 -- Median household income of $40,340, and a Number of households smaller than 64,767 is what average population?\n",
      "44 -- 44+ -- What is the shot % with a 44+ Ends Lost, skip Cathy King, and smaller than 13 Black Ends?\n",
      "60,000-->58,000 koku -- 60,000--58,000 koku -- What is the tenure of the person with revenues of 60,000-->58,000 koku?\n",
      "$29,194 -- 29,194 -- When the Per capita income is $29,194, what is the average population?\n",
      "$43,125 -- 43,125 -- Which Median family income has a Median household income of $43,125?\n",
      "$37,759 -- 37,759 -- How many people have a Median household income of $37,759?\n",
      "$39 million -- 39 million -- How many years had budgets of $39 million?\n",
      "$30,471 -- 30,471 -- Which director had a worldwide gross of $30,471?\n",
      "– --  -- Which League that has no playoffs in the Year of 2008–09?\n",
      "$74,905 -- 74,905 -- Which Population is the lowest one that has a Median family income of $74,905, and a Number of households smaller than 145,790?\n",
      "10 -- top-10 -- Name the average top-10 for cuts made of 10 and top-25 more than 6\n",
      "14 -- 14% -- Which track in Austria has Bobsleigh-skeleton curves with a grade of 14%?\n",
      "15 -- 15% -- What is the shortest length of a track in Norway that has a maximum grade of 15% and a vertical drop less than 122.22 m?\n",
      "wednesday p.m. -- wednesday p.m -- What is the cardinal direction of Wednesday p.m. in English?\n",
      "katee shean stephen \"twitch\" boss -- katee shean stephen twitch boss -- What is Choreographer(s), when Chosen By is Mary Murphy, and when Couple is Katee Shean Stephen \"Twitch\" Boss?\n",
      "10 -- top-10 -- What was the highest Top-10, when the Top-5 was greater than 3, when the Cuts made were 20, and when the Top-25 was more than 10?\n",
      "- 17 --  -- What is the average Against when the drawn is more than 2 and the Difference of- 17, and a Played smaller than 20?\n",
      "memphis grizzlies ( 2) --  -- What is the Result when the memphis grizzlies ( 2) were the loser?\n",
      "42 m. -- 42 m -- What is the year built of the home with a built status and a 42 m. height?\n",
      "42 m. -- 42 m -- What is the highest number of stories in homes with a height of 42 m.?\n",
      "$1,000,000 -- 1,000,000 -- What is the name of the producer that produced a film with a production cost of $1,000,000?\n",
      "$850,000 -- 850,000 -- What is the title of the film that had a production cost of $850,000?\n",
      "the three pintos (die drei pintos) -- the conductor of the three pintos -- Who was the Conductor of the Three Pintos (Die Drei Pintos) Production?\n",
      "103.5 -- 103.5mhz -- Which call sign, broadcast at less than 103.5MHz, has an ERP W of 50?\n",
      "1.35 -- 1.35v -- What is the socket related to the processor released on June 22, 2005, having a frequency of 1600MHz and voltage under 1.35V?\n",
      "100 w. pender st. -- 100 w. pender st -- What name has 100 w. pender st. as the address?\n",
      "207 w. hastings st. -- 207 w. hastings st -- How many floors have 207 w. hastings st. as the address?\n",
      "207 w. hastings st. -- 207 w. hastings st -- What is the height m/ft where 207 w. hastings st. is the address?\n",
      "sky cinema + sky hd -- sky cinema passion hd -- What is HDTV, when Content is Cinema, when Package/Option is Sky Cinema + Sky HD, and when Television Service is Sky Cinema Passion HD?\n",
      "28% -- 3.2800000000000002 -- How many Years have a % 'B' Aggregates of 28%, and an Average A's per learner smaller than 3.2800000000000002?\n",
      "118 -- 118% -- How many people live where there are 118% of people have phones?\n",
      "n.a. -- n.a -- What is the Total Tax Revenue that has an n.a. Stamp Duty Reserve Tax in the years 1995-96?\n",
      "st. paul a.c. -- st. paul a.c -- What is the Name when the team is the st. paul a.c., with a Birthdate of 3 august 1890?\n",
      "a --  -- During the Tournament in which Jiří Novák was absent(A) in 1995, absent(A) in 1997, and made it to the 3rd round (3R) in 2003, how did he do in 2006?\n",
      "a --  -- During the Tournament in which Jiří Novák was absent(A) in 1995, absent(A) in 1997, and made it to the 3rd round (3R) in 2003, how did he do in 2006?\n",
      "3r -- (3r) -- During the Tournament in which Jiří Novák was absent(A) in 1995, absent(A) in 1997, and made it to the 3rd round (3R) in 2003, how did he do in 2006?\n",
      "a --  -- In the Hamburg Masters Tournament, during which Jiří Novák was absent(A) in 1996, how did he do in 2003?\n",
      "a --  -- In the Tournament during which Jiří Novák was absent(A) in 2004, how did he do in 2003?\n",
      "1r -- round(1r) -- In the Tournament during which Jiří Novák made it to the 1st round(1R) in 1995, how did he do in 2001?\n",
      "a --  -- During the Hamburg Masters Tournament, during which Jiří Novák was absent(A) in 1998, how did he do in 1997?\n",
      "1975? -- 1975 -- What is the resurrection of 144,000 date with a start of Christ's presence date in 1914, a separation of sheep & goats during Christ's presence, and a great tribulation date in 1975?\n",
      "players' -- players -- Which 2007–08 event has 2008–09 of dnp and an Event of players'?\n",
      "antonio davis (12) -- antonio davis (12)had -- What is the Score for the Game less than 21, and of antonio davis (12)had the High rebounds?\n",
      "amy macdonald ( mr rock & roll ) --  -- WHich Coat of Cash\" Wearing Celebrity has a Episode Number larger than 1 and with amy macdonald ( mr rock & roll )?\n",
      "no -- notarial -- What is Probate Activities, when Notarial Activities is No, when Conduct of Litigation is Yes, and when Regulator is Association of Law Costs Draftsmen?\n",
      "$81,198,894 -- 81,198,894 -- WHAT IS THE STUDIO WITH A GROSS $81,198,894?\n",
      "204.9 -- 204.9bil -- What is the average sales for the company with market value of 204.9bil and profits under 20.6bil?\n",
      "20.6 -- 20.6bil -- What is the average sales for the company with market value of 204.9bil and profits under 20.6bil?\n",
      "from $202/month -- from 202/month -- Which Tracking Method has a Latest stable release of n/a, and a Price in USD of from $202/month?\n",
      "$83,531,958 -- 83,531,958 -- Which studio grossed $83,531,958 and ranked lower than 13?\n",
      "#154 -- 154 -- What is the NHL team for Round 5 and an overall ranking of #154?\n",
      "#195 -- 195 -- Who is the player on round 7 with an overall ranking of #195?\n",
      "4:55 a.m. -- 4:55 a.m -- What time is CDT when EDT is 4:55 a.m.?\n",
      "6:38 a.m. -- 6:38 a.m -- What is the time for PDT when CDT is 6:38 a.m.?\n",
      "3:17 a.m. -- 3:17 a.m -- What time is CDT when PDT is 3:17 a.m.?\n",
      "6:00 a.m. -- 6:00 a.m -- What time is MDT when EDT is set and PDT is 6:00 a.m.?\n",
      "3,616 -- 3,616km -- What is the total population for the 3,616km area?\n",
      "11 -- 115,897 -- What was the 2007 budget when there were more than 115,897 employees and an order succession of 11?\n",
      "200 mhz -- 1200 mhz -- Which Multiplier has a Front Side Bus of 200 mhz, and a Frequency of 1200 mhz?\n",
      "1200 mhz -- 1200 mhz -- Which Multiplier has a Front Side Bus of 200 mhz, and a Frequency of 1200 mhz?\n",
      "1333 mhz -- 1333 mhz -- Which L2-Cache has a Frequency of 1333 mhz, and a Model Number of c3 1.3a?\n",
      "1.4 v -- 1.4 v -- Which Front Side Bus has a Voltage of 1.4 v, and a Frequency of 1333 mhz?\n",
      "1333 mhz -- 1333 mhz -- Which Front Side Bus has a Voltage of 1.4 v, and a Frequency of 1333 mhz?\n",
      "12,241 -- 12,241km2 -- What is the lowest population (2011) for the community with an Area of 12,241km2 and a Density (inhabitants/km 2) smaller than 21.1?\n",
      "currie cup \"b\" section -- currie cup b section -- What was the sum of the numbers listed under against when currie cup \"b\" section was the opposing team?\n",
      "all times are in eastern. -- all times are in eastern -- What is Site, when Opponent is \"All times are in eastern.\"?\n",
      "11 -- 2010-11 -- What is the sum of 2010-11 when the rank is greater than 11?\n",
      "71 [ dead link ] --  -- What is Name, when Goals is \"80\", and when Club Source [I ] is \"71 [ dead link ]\"?\n",
      "#7 -- 7 -- When was the premiere of the show that had a rank of #7?\n",
      "$599.39 -- 599.39 -- What was the passenger fare for Lansing, when the passenger fare for Kalamazoo was $599.39?\n",
      "$307.29 -- 307.29 -- For how many years did Detroit have a passenger fare of $307.29?\n",
      "$378.55 -- 378.55 -- What was the passenger fare for Grand Rapids, when the passenger fare for Detroit was $378.55?\n",
      "$517.32 -- 517.32 -- Before the year 2010, and when Kalamazoo had a passenger fare of $517.32, what was the passenger fare for Detroit?\n",
      "$100,000 -- 100,000 -- What is Season, when Prize is \"$100,000\"?\n",
      "$100,000 -- 100,000 -- What is 3rd Place, when Runner-Up is \"Simon Ehne\", and when Prize is $100,000?\n",
      "ba'ath party ( syria region ) --  -- What is Left Office, when Political Party is Ba'ath Party ( Syria Region ), and when Took Office is 7 March 1958?\n",
      "\" the doctor dances \" -- the doctor dances -- Which Original airdate (UK) has a Doctor Who episode of \" the doctor dances \"?\n",
      "moved to run a farm with boyfriend jake. -- moved to run a farm with boyfriend jake -- What is Number Of Episodes, when Notes is \"Moved to run a farm with boyfriend Jake.\"?\n",
      "$149,022,650 -- 149,022,650 -- What director has a worldwide gross of $149,022,650 and is ranked greater than 7?\n",
      "$457,640,427 -- 457,640,427 -- In what studio was the film grossing $457,640,427 made?\n",
      "$202,292,902 -- 202,292,902 -- Who has the title and rank 14, and a worldwide gross of $202,292,902?\n",
      "$7,500,000 -- 7,500,000 -- What is the Studio of the Film with a Gross rental of $7,500,000?\n",
      "0.625 -- 0.625% -- What is the low loss total for teams with under 3 years and a less than 0.625% winning percentage?\n",
      "9.5 -- 9.513 -- What is the lowest interview for a contestant from North Carolina with a swimsuit larger than 9.021, an average smaller than 9.513, and an evening gown larger than 9.5?\n",
      "stamford a.f.c. -- stamford a.f.c -- what is the average tie no when the home team is stamford a.f.c.?\n",
      "analog -- digital/analog -- What is the Retail name with a Digital/analog signal with analog, and a Chipset based on with radeon 9600?\n",
      "10\" x 15\" -- 10 x 15 -- What is the wheel arrangement for the model with 10\" x 15\" cylinders?\n",
      "$89.95 -- 89.95 -- What is the latest year that has an n/a mintage and an Issue Price of $89.95?\n",
      "$102.95 -- 102.95 -- What mintage for the royal canadian mint engravers before 2008 that has an issue price of $102.95?\n",
      "$25.22 -- 25.22 -- What theme is associated with a year before 2006 and Issue Price of $25.22?\n",
      "$49.95 -- 49.95 -- What's the average Year with an Issue Price (Proof) of $49.95, and Artist of W.H.J. Blakemore?\n",
      "a yank in the r.a.f. -- a yank in the r.a.f -- Who is the leading lady in a yank in the r.a.f.?\n",
      "9.4 -- 9.486 -- Which is the largest average number when the swimsuit is 9.4 and the evening gown stat is less than 9.486?\n",
      "10 -- 10,with -- What is the highest +1d12 (6) with a 3d6 or 1d20 Resolution (+10) larger than 10,with a +1d6-1d6 or +1d10-1d10 (+0) of 4, with 1d10 Resolution (+5) larger than 9?\n",
      "gi -- pergi -- what is basikal when mana is mano, pergi is gi and Ikut  is turuk?\n",
      "* dane -- dane -- What is the population (hab) when the distance medellin downtown (km) is * dane?\n",
      "+ 1:39.591 -- 1:39.591 -- How many laps are associated with a time of + 1:39.591?\n",
      "+ 4 laps -- 4 laps -- I want the total number of Laps for time/retired for + 4 Laps and grid more than 20\n",
      "10 -- (x1000) -- what is the average crude death rate (per 1000) when the live births is less than 72,400, the crude birth rate (per 1000) is more than 10 and the average population (x1000) is 2,518?\n",
      "us 83 bus. -- us 83 bus -- What is the length of the highway with junctions i-35 us 83 and named us 83 bus.?\n",
      "997 -- 997,more -- Which name has an Order smaller than 997,more than 5 goals, and 215 games?\n",
      "+ 4 laps -- 4 laps -- How many laps have a Time/Retired of + 4 laps, and a Driver of graham hill?\n",
      "0 + metres (ft) --  -- Which Purpose has an Elevation + Height of 0 + metres (ft), a Location of bikini, namu (charlie), and a Yield of 220 kt?\n",
      "||54,918||50–36 -- occur -- On what date did a save of ||54,918||50–36 occur?\n",
      "||25,354||63–43 -- occurred -- What was the score when a save of ||25,354||63–43 occurred?\n",
      "$84,400 -- 84,400 -- Which driver has a # smaller than 40, less than 151 points, and Winnings of $84,400?\n",
      "$67,675 -- 67,675 -- Which driver has less than 61 points, but winnings of $67,675?\n",
      "$133,386 -- 133,386 -- Which driver has the highest point total after winning $133,386?\n",
      "76 -- 0.763 -- How many points were there when the average was 0.763 and the played was less than 76?\n",
      "$53,940 -- 53,940 -- What is the per capita income with more than 2,466 households and a median family income of $53,940?\n",
      "c > b > a -- c  b  a -- What is the total when preferences is c > b > a and 1 vs 2 is less than 15?\n",
      "0.2 -- 2 -- What's the total long for an avg/g over 0.2, fewer than 2 loss, and a gain less than 8?\n",
      "$43,889 -- 43,889 -- How many households have a Median household income of $43,889?\n",
      "$53,946 -- 53,946 -- Which Population has a Median family income of $53,946?\n",
      "10 + 10 + 10 = 30 -- 10 + 10 = 30 -- What Date performed has a Scores by each individual judge of 10 + 10 + 10 = 30, and a Main contestant of karanvir bohra?\n",
      "sc -- (sc/st/none) -- Which Number of electorates (2009) has a District of jhajjar, and a Reserved for (SC/ST/None) of sc, and a Constituency number smaller than 66?\n",
      "liu yang ( hkg ) --  -- What is the lowest Jianshu number for Liu Yang ( hkg )?\n",
      "richard devine ( gbr ) --  -- What is the lowest rank when Jianshu is smaller than 9.66, for Richard Devine ( gbr ), with a total smaller than 19.02?\n",
      "nguyen huy thanh ( vie ) --  -- What is the number of Jianshu when the total is more than 19.16, for Nguyen Huy Thanh ( vie ), and Qiangshu is more than 9.66?\n",
      "none -- /none -- Name the Number of electorates (2009 which has a Reserved for ( SC / ST /None) of none, and a Name of jahanabad?\n",
      "none -- /none -- What is the name for Nagpur district, with a reserved for ( SC / ST /None) of none, and a Constituency number of 59?\n",
      "0.406 -- 0.406% -- What is the All Home with less than 0.406% All Games?\n",
      "13 -- 4713 -- When the percentage is 0.34900000000000003 with more than 13 solo blocks and less than 4713 total attempts, what is the greatest assists?\n",
      "€8m + €2m in variables --  -- What is the name of the person with a type of transfer, and a Transfer fee of €8m + €2m in variables?\n",
      "bizerte athletic f.c. -- bizerte athletic f.c -- What is the lowest founded that has bizerte athletic f.c. as the club?\n",
      "$19.00 -- 19.00 -- What Age group has a 10 Trip Pass of $19.00, and a Monthly Pass of $62.00?\n",
      "$62.00 -- 62.00 -- What Age group has a 10 Trip Pass of $19.00, and a Monthly Pass of $62.00?\n",
      "10 -- 104 -- What team has 104 laps and a grid of 10?\n",
      "$32,806 -- 32,806 -- Which Number of households has a Median household income of $32,806, and a Population larger than 11,291?\n",
      "$32,700 -- 32,700 -- Which County has a Number of households larger than 14,391, a Population larger than 17,415, and a Median household income of $32,700?\n",
      "$37,072 -- 37,072 -- Which County has a Number of households larger than 17,741, and a Median family income of $37,072?\n",
      "$37,230 -- 37,230 -- Which County has a Median household income of $37,230?\n",
      "bf.109g-2 \"yellow 2\" -- bf.109g-2 yellow 2 -- What was the Soviet Unit when the Enemy Aircraft was bf.109g-2 \"yellow 2\"?\n",
      "bf.109g-? w.nr.? -- bf.109g- w.nr -- What was the date of the victory when the Soviet Unit was 73 giap, and the Enemy Aircraft was bf.109g-? w.nr.?\n",
      "luftwaffe (**) -- luftwaffe -- What was the aircraft flown when the axis unit was luftwaffe (**) and the enemy aircraft was ju.88?\n",
      "yak-1b \"white 23\" -- yak-1b white 23 -- What is the axis unit of the aircraft yak-1b \"white 23\", flown on 19.07.1943?\n",
      "0+1 -- 1 -- What Rd 3 has a Rd 2 1 of 0+1?\n",
      "35.666 -- 35.666sqmi -- What is the average population of the township having land of 35.666sqmi and GEO ID over 3807364500?\n",
      "19 -- 219 -- what is the least rank when the total is less than 219 and women's is less than 19?\n",
      "no -- non-dictatorship -- what is the reversal symmetry when non-dictatorship is yes, consistency & participation is no, and clone independence is yes?\n",
      "no -- non-dicatorship -- what is the reversal symmetry when non-dicatorship is no and pareto efficiency is no?\n",
      "no -- non-dicatorship -- what is the reversal symmetry when non-dicatorship is no and pareto efficiency is no?\n",
      "no -- non-dictatorship -- what is the reversal symmetry when the non-dictatorship is no and condorcet loser is no?\n",
      "no -- non-dictatorship -- what is the reversal symmetry when the non-dictatorship is no and condorcet loser is no?\n",
      "kōhei uchimura ( jpn ) --  -- what is the average b score when the gymnast is kōhei uchimura ( jpn )?\n",
      "$346 -- 346 -- What is the release date when the release price (usd) is $346 and the turbo is 9/11?\n",
      "aa -- ihsaa -- What's the total enrollment in 57 Noble having a # and AA as the IHSAA Class?\n",
      "aa -- ihsaa -- What year joined had an enrollment less than 438 and an AA as the IHSAA Class?\n",
      "$38,044 -- 38,044 -- What Population has a Median family income of $38,044?\n",
      "$37,667 -- 37,667 -- What county has a Median family income of $37,667?\n",
      "$20,805 -- 20,805 -- What is the Median family income if the Population is larger than 26,233 and has a Per capita income of $20,805?\n",
      "$32,902 -- 32,902 -- What is the highest Population that has a Median household income of $32,902 with a number of households less than 11,125\n",
      "$317 -- 317 -- what is the part number when the release date is january 2011, the frequency is 3.4 ghz and the release price (usd) is $317?\n",
      "waldemar 27 -- waldemar 27´s -- What is the result of Waldemar 27´s freestyle test?\n",
      "/ɸ/; /b/ --  -- Which Gothic Letter has Proto-Germanic origin of /ɸ/; /b/?\n",
      "$303 -- 303 -- What is the model number with a release price of $303, and a sSpec number of sr14q(c0)?\n",
      "aa -- ihsaa -- Which year did park tudor school join IHSAA class AA?\n",
      "aa -- ihsaa -- What is the county with an AA IHSAA class in ferdinand?\n",
      "$184,190 -- 184,190 -- How many Wins have Winnings of $184,190, and a Top 10 larger than 1?\n",
      "$186 -- 186 -- What is the average case burden with a cost per capita of $186, a Crime rate per 1,000 people of 117, and a Residents per officer larger than 736?\n",
      "ថ្ងៃអាទិត្យ [tŋaj ʔaatɨt ] -- ថ្ងៃអាទិត្យ [tŋaj ʔaatɨt -- What is the result of Saturday that's ថ្ងៃអាទិត្យ [tŋaj ʔaatɨt ] on Sunday?\n",
      "7\" single -- 7 single -- What was the catalog of the 7\" single in France?\n",
      "12\" maxi -- 12 maxi -- Where was the 12\" maxi in September 1990?\n",
      "te -- located -- What is the height of the fort peck dam which was built before 1968, is located in the united states and has a dam type of TE ?\n",
      "'take away, remove' -- take away, remove -- What is the imperfect stem of the word that means 'take away, remove'?\n",
      "a --  -- What is the value for 2011 when `a` is the value for 2009, and 4r is the value for 2013?\n",
      "guard -- (guard) -- When was tony parker (guard) born?\n",
      "1.8 -- 1.8m -- What team does tariq kirksay, a guard who is taller than 1.8M and born before 1982, represent?\n",
      "89.1 -- 89.1,rape -- Which aggravated assault has the highest amount and the following criteria: crime rate per 1000 greater than 89.1,rape value of 23, and a crime index greater than 1590?\n",
      "$2,434,061 -- 2,434,061 -- Which event had a prize of $2,434,061?\n",
      "$2,434,061 -- 2,434,061 -- Who won the event with a top prize of $2,434,061?\n",
      "\"mv\"; converted from steam stock, 1927 -- mv; converted from steam stock, 1927 -- Bldr of mcw&f, and a Notes of \"mv\"; converted from steam stock, 1927, and a Year of 1920, and a LT Nos of 9716-9718 has what type?\n",
      "don't stop movin' -- don't stop movin -- What is the highest position less than 7 that had more than 421,760 in sales for the song Don't Stop Movin'?\n",
      "5 -- 5% -- Which country has more than 5% change in a year with a rank of 10?\n"
     ]
    },
    {
     "data": {
      "text/plain": "235"
     },
     "execution_count": 32,
     "metadata": {},
     "output_type": "execute_result"
    }
   ],
   "source": [
    "count = 0\n",
    "for test in test_set:\n",
    "    for gt, pred in zip(test['CHECK'][0], test['CHECK'][1]):\n",
    "        if str(gt).lower().strip('\"') != str(pred).lower():\n",
    "            print(f'{gt} -- {pred} -- {test[\"input\"][0]}')\n",
    "            count += 1\n",
    "count"
   ],
   "metadata": {
    "collapsed": false
   }
  },
  {
   "cell_type": "code",
   "execution_count": 33,
   "outputs": [],
   "source": [
    "q = 'What number game had a high assist of lebron james (7) and high point of lebron james (21)?'\n",
    "cond = 'LeBron James (7)'"
   ],
   "metadata": {
    "collapsed": false
   }
  },
  {
   "cell_type": "code",
   "execution_count": 34,
   "outputs": [],
   "source": [
    "def _clean_text(text):\n",
    "    char_list = '?\"()+,$[]{};*'\n",
    "    for char in char_list:\n",
    "        text = text.replace(char, '')\n",
    "    text = text.replace(\"'s\", '')\n",
    "    text = text.replace(\"'\", '')\n",
    "    return text.lower()"
   ],
   "metadata": {
    "collapsed": false
   }
  },
  {
   "cell_type": "code",
   "execution_count": 35,
   "outputs": [],
   "source": [
    "from collections import defaultdict"
   ],
   "metadata": {
    "collapsed": false
   }
  },
  {
   "cell_type": "code",
   "execution_count": 36,
   "outputs": [],
   "source": [
    "def _generate_mapping(question_token_list, pattern_list, gt):\n",
    "    token_dict = defaultdict(list)\n",
    "    for pattern, key in zip(pattern_list, gt):\n",
    "        for idx, token in enumerate(question_token_list):\n",
    "            if len(key) == 1:\n",
    "                if key.lower() == _clean_text(token):\n",
    "                    token_dict[key].append(idx)\n",
    "            else:\n",
    "                if (re.findall(pattern, _clean_text(token))) or \\\n",
    "                            (key.lower() == _clean_text(token)) or \\\n",
    "                            ((re.findall(r'^[-+]?(?:[0-9]+,)*[0-9]+(?:\\.[0-9]+)?$', key)) and\n",
    "                            (re.findall(r'^[-+]?(?:[0-9]+,)*[0-9]+(?:\\.[0-9]+)?$', _clean_text(token))) and\n",
    "                            (float(_clean_text(token)) == float(_clean_text(key)))):\n",
    "                    token_dict[key].append(idx)\n",
    "    first_tokens = set(token_dict[gt[0]])\n",
    "    end_tokens = set(token_dict[gt[-1]])\n",
    "    for end in end_tokens:\n",
    "        for start in first_tokens:\n",
    "            if (end -start + 1) == len(gt):\n",
    "                index_list = [start, end]\n",
    "    return [index_list[0], index_list[-1] - index_list[0] + 1]"
   ],
   "metadata": {
    "collapsed": false
   }
  },
  {
   "cell_type": "code",
   "execution_count": 37,
   "outputs": [],
   "source": [
    "pattern = [fr'(?i)\\b\\w*{token.lower()}\\w*\\b' for token in _clean_text(str(cond)).split()]"
   ],
   "metadata": {
    "collapsed": false
   }
  },
  {
   "cell_type": "code",
   "execution_count": 38,
   "outputs": [
    {
     "data": {
      "text/plain": "[8, 3]"
     },
     "execution_count": 38,
     "metadata": {},
     "output_type": "execute_result"
    }
   ],
   "source": [
    "_generate_mapping(q.split(), pattern, _clean_text(str(cond)).split())"
   ],
   "metadata": {
    "collapsed": false
   }
  },
  {
   "cell_type": "code",
   "execution_count": 39,
   "outputs": [],
   "source": [
    "txt = \"Washington Capital's\""
   ],
   "metadata": {
    "collapsed": false
   }
  },
  {
   "cell_type": "code",
   "execution_count": 40,
   "outputs": [
    {
     "data": {
      "text/plain": "True"
     },
     "execution_count": 40,
     "metadata": {},
     "output_type": "execute_result"
    }
   ],
   "source": [
    "txt.endswith(\"'s\")"
   ],
   "metadata": {
    "collapsed": false
   }
  },
  {
   "cell_type": "code",
   "execution_count": 41,
   "outputs": [
    {
     "data": {
      "text/plain": "'Washington Capital'"
     },
     "execution_count": 41,
     "metadata": {},
     "output_type": "execute_result"
    }
   ],
   "source": [
    "re.sub(r\"'s\", '', txt)"
   ],
   "metadata": {
    "collapsed": false
   }
  },
  {
   "cell_type": "code",
   "execution_count": 42,
   "outputs": [
    {
     "data": {
      "text/plain": "['washington', \"capital's\"]"
     },
     "execution_count": 42,
     "metadata": {},
     "output_type": "execute_result"
    }
   ],
   "source": [
    "list(WikiSQLDataset._generate_cond3(txt.split()))"
   ],
   "metadata": {
    "collapsed": false
   }
  },
  {
   "cell_type": "code",
   "execution_count": 43,
   "outputs": [
    {
     "data": {
      "text/plain": "'Washington Capital'"
     },
     "execution_count": 43,
     "metadata": {},
     "output_type": "execute_result"
    }
   ],
   "source": [
    "WikiSQLDataset._digitize(txt.strip(\",\"))"
   ],
   "metadata": {
    "collapsed": false
   }
  },
  {
   "cell_type": "code",
   "execution_count": 44,
   "outputs": [
    {
     "data": {
      "text/plain": "\"Washington Capital's\""
     },
     "execution_count": 44,
     "metadata": {},
     "output_type": "execute_result"
    }
   ],
   "source": [
    "' '.join(txt.split())"
   ],
   "metadata": {
    "collapsed": false
   }
  },
  {
   "cell_type": "code",
   "execution_count": 44,
   "outputs": [],
   "source": [],
   "metadata": {
    "collapsed": false
   }
  }
 ],
 "metadata": {
  "kernelspec": {
   "display_name": "Python 3",
   "language": "python",
   "name": "python3"
  },
  "language_info": {
   "codemirror_mode": {
    "name": "ipython",
    "version": 2
   },
   "file_extension": ".py",
   "mimetype": "text/x-python",
   "name": "python",
   "nbconvert_exporter": "python",
   "pygments_lexer": "ipython2",
   "version": "2.7.6"
  }
 },
 "nbformat": 4,
 "nbformat_minor": 0
}
