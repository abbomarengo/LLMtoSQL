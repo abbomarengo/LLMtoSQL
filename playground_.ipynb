{
 "cells": [
  {
   "cell_type": "code",
   "execution_count": 1,
   "metadata": {
    "collapsed": true
   },
   "outputs": [],
   "source": [
    "from tqdm import tqdm\n",
    "import json\n",
    "import torch\n",
    "from torch.nn import Softmax\n",
    "\n",
    "from torch.utils.data import DataLoader\n",
    "from llmtosql.model import WikiSQLModel\n",
    "from llmtosql.trainer import Trainer\n",
    "from llmtosql.dataloader import WikiSQLDataset\n",
    "from llmtosql.utils.utils import plot_history, plot_history_base, load_model, load_history"
   ]
  },
  {
   "cell_type": "code",
   "execution_count": 2,
   "outputs": [],
   "source": [
    "path = 'model_output'"
   ],
   "metadata": {
    "collapsed": false
   }
  },
  {
   "cell_type": "code",
   "execution_count": 3,
   "outputs": [
    {
     "name": "stdout",
     "output_type": "stream",
     "text": [
      "2023-05-08 16:39:30 [info     ] Using cross attention mechanism\n",
      "2023-05-08 16:39:30 [info     ] 3 heads model -- ['SELECT', 'AGG', 'CONDS']\n"
     ]
    },
    {
     "name": "stderr",
     "output_type": "stream",
     "text": [
      "Some weights of the model checkpoint at bert-base-uncased were not used when initializing BertModel: ['cls.predictions.transform.LayerNorm.weight', 'cls.predictions.transform.dense.weight', 'cls.predictions.transform.dense.bias', 'cls.predictions.decoder.weight', 'cls.predictions.bias', 'cls.seq_relationship.weight', 'cls.seq_relationship.bias', 'cls.predictions.transform.LayerNorm.bias']\n",
      "- This IS expected if you are initializing BertModel from the checkpoint of a model trained on another task or with another architecture (e.g. initializing a BertForSequenceClassification model from a BertForPreTraining model).\n",
      "- This IS NOT expected if you are initializing BertModel from the checkpoint of a model that you expect to be exactly identical (initializing a BertForSequenceClassification model from a BertForSequenceClassification model).\n"
     ]
    }
   ],
   "source": [
    "model = WikiSQLModel(base_model_type='bert-base-uncased', attention_type='cross')\n",
    "model = load_model(model, 'model_output/model.pth')"
   ],
   "metadata": {
    "collapsed": false
   }
  },
  {
   "cell_type": "code",
   "execution_count": 4,
   "outputs": [
    {
     "name": "stdout",
     "output_type": "stream",
     "text": [
      "2023-05-08 16:39:34 [info     ] Tokenizing dataset.\n"
     ]
    },
    {
     "name": "stderr",
     "output_type": "stream",
     "text": [
      "100%|██████████| 15878/15878 [00:16<00:00, 963.72it/s] \n"
     ]
    }
   ],
   "source": [
    "test_set = WikiSQLDataset(type='test', model=model)\n",
    "test_loader = DataLoader(test_set, batch_size=32)"
   ],
   "metadata": {
    "collapsed": false
   }
  },
  {
   "cell_type": "code",
   "execution_count": 5,
   "outputs": [],
   "source": [
    "device = torch.device('cuda' if torch.cuda.is_available() else 'cpu')"
   ],
   "metadata": {
    "collapsed": false
   }
  },
  {
   "cell_type": "code",
   "execution_count": 6,
   "outputs": [
    {
     "name": "stdout",
     "output_type": "stream",
     "text": [
      "Can I Love? -- can i love -- Which examples ask the existential question \"Can I Love?\"\n",
      "\"Hell\" -- hell -- what's the original air date with title  \"hell\"\n",
      "\"Poppin' Tags\" -- poppin' tags -- How many episodes in season 6 titles \"Poppin' Tags\"?\n",
      "\"Lockdown\" -- lockdown -- How many series are named \"Lockdown\"?\n",
      "\"House of Cards\" -- house of cards -- What was the latest episode of \"House of Cards\"?\n",
      "\"The Birthday Present\" -- the birthday present -- What was the # for the episode \"the birthday present\"?\n",
      "\"The Wedding\" -- the wedding -- What was the # for the episode \"the wedding\"?\n",
      "\"Bad Influence\" -- bad influence -- What is the series number for the title \"Bad Influence\"\n",
      "\"Na Jane Aise Ho Gaya Kaise\" -- na jane aise ho gaya kaise -- What was the lyricst of \"na jane aise ho gaya kaise\"?\n",
      "\"Jekhanete Jaai Ami 1\" -- jekhanete jaai ami 1 -- who is the music director for the song \"jekhanete jaai ami 1\"?\n",
      "\"Detalles\" -- detalles -- What is the order number for the song choice \"detalles\"? \n",
      "\"The Great Mayoralty Campaign\" -- the great mayoralty campaign -- How many episodes had a title \"the great mayoralty campaign\"?\n",
      "\"Dermabrasion\" -- dermabrasion -- What is the total number of u.s. air dates with a title of \"dermabrasion\"\n",
      "\"But There's Clay\" -- but there's clay -- What is the production code of the episode titled, \"But there's Clay\"?\n",
      "\"Responsible Parties\" -- responsible parties -- What date did the episode called \"Responsible Parties\" air on?\n",
      "\"Anxiety\" -- anxiety -- When did the part 1 of the episode \"Anxiety\" air?\n",
      "\"Anxiety\" -- anxiety -- What's the episode number of \"Anxiety\"?\n",
      "\"Guerillas in the Mist\" -- guerillas in the mist -- How many of the episodes were titled \"Guerillas in the Mist\"?\n",
      "\"Ambush\" (Part 1) -- ambush (part 1) -- Who is the writer of the episode called \"Ambush\" (part 1)?\n",
      "\"Hell Bent for Leather\" -- hell bent for leather -- When did the episode \"Hell bent for leather\" originally air?\n",
      "\"Quitters\" -- quitters -- What's the season number of the episode titled \"Quitters\"?\n",
      "bumped St. Catharine's -- bumped st. catharine --  how many 1st day with 3rd day being bumped st. catharine's\n",
      "\" Save the Last Dance for Me \" -- save the last dance for me --  how many artbeingt with song title being \" save the last dance for me \"\n",
      "6' 2\" -- 6' 2 -- What is the weight for the player who is 6' 2\"?\n",
      "428650 -- $428650 -- What purses had a winners share equal to $428650?\n",
      "\"Forever in a Day\" -- forever in a day -- Who wrote the episode \"Forever In A Day\"?\n",
      "\"Topsy Turvy\" -- topsy turvy -- What is the airdate when the title is \"topsy turvy\"?\n",
      "\"Poussières d'étoiles\" -- poussières d'étoiles -- Name the air date france for \"poussières d'étoiles\"\n",
      "\"Inventor Bunnies\" -- inventor bunnies -- Name the french title for english title of \"inventor bunnies\"\n",
      "\"La pêche au trésor\" -- la pêche au trésor -- Name the air date france for \"la pêche au trésor\"\n",
      "\"L'expédition glaciale\" -- l'expédition glaciale -- Name the original beechwood bunny tale for \"l'expédition glaciale\"\n",
      "\"Kevin's Big Score\" -- kevin's big score -- What is the number in series for the episode titled \"Kevin's Big Score\"?\n",
      "\"Pier Pressure\" -- pier pressure -- Who was the writer of the episode titled \"Pier Pressure\"?\n",
      "M. Van der Goten ( BEL ) --  -- Name the 3 where weightlifter is m. van der goten ( bel )\n",
      "\"Grumpy Old Bees\" -- grumpy old bees -- Which season had the \"grumpy old bees\" episodes?\n",
      "\"Dogcatcher in the Rye\" -- dogcatcher in the rye -- How many episodes were named \"Dogcatcher in the Rye\"?\n",
      "\"The Telenovela\" -- the telenovela -- When \"the telenovela\" is the title how many series numbers are there?\n",
      "\"Breakthrough\" \"Burēku surū\" (ブレーク·スルー) -- breakthrough burēku surū (ブレーク·スルー) -- What is the number of theWhat is the number of the chapter that is called \"breakthrough\" \"burēku surū\" (ブレーク·スルー)?\n",
      "\"Takeback\" \"Tēkubakku\" (テークバック) -- takeback tēkubakku (テークバック) -- Which are dates of transmission in English of the title \"takeback\" \"tēkubakku\" (テークバック)\n",
      "Series 5 -- series 5\" -- How many  dvd  titled \"series 5\" were released having a release date or a non available date in region 2?\n",
      "\"One to Go\" (Part 2) -- one to go (part 2) -- What is every \"directed by\" when the title is \"One To Go\" (part 2)?\n",
      "\"Got to Get Her Out of My House\" -- got to get her out of my house -- What's the production code of the episode titled \"Got to get her out of my house\"?\n",
      "\"He Ain't a Hottie, He's My Brother\" -- he ain't a hottie, he's my brother -- What's the production code of the episode titled \"He ain't a hottie, he's my brother\"?\n",
      "\"Dead on Arrival\" -- dead on arrival -- What number episode in the season was titled \"Dead on Arrival\"?\n",
      "307 VS. -- 307 vs -- which episode was Transmitted on wednesday if the episode of \"307 vs.\" was transmitted on friday?  \n",
      "\"Hunted\" -- hunted -- What's the series number for the episode titled \"Hunted\"?\n",
      "\"Born Under a Bad Sign\" -- born under a bad sign -- How many different people directed the episode titled \"Born under a bad sign\"?\n",
      "\"Car Wars\" -- car wars -- When \"car wars\" is the title what is the air date?\n",
      "\"C'est la Vinnie\" -- c'est la vinnie -- When \"c'est la vinnie\" is the title what is the air date?\n",
      "\"To Live and Die in Brentwood\" -- to live and die in brentwood -- When \"to live and die in brentwood\" is the title what is the largest production code?\n",
      "Bill Finger Edmond Hamilton Dick Sprang , et al. -- bill finger edmond hamilton dick sprang , et al -- Name the # for bill finger edmond hamilton dick sprang , et al.\n",
      "思 sī, \"thought\" -- 思 sī, thought -- What is the intelligence os the one that has 思 sī, \"thought\"?\n",
      "376 -- $376 -- How much was spent in 1949/50 (in $ millions) in the country where the cumulative expenditure is $376 millions?\n",
      "59 -- $59 -- What country spent $59 millions in 1949/50?\n",
      "232 -- 232$ -- What's the 1949/50 expenditure (in $ millions) in the country where the 1948/49 expenditure was 232$ millions?\n",
      "921 -- $921 -- What's the 1948/49 expenditure (in $ millions) in the country whose 1949/50 expenditure is $921 millions?\n",
      "59 -- 59% -- What is the minimum length of the locations where the average climb percentage is exactly 59%?\n",
      "\"Family Recipe\" -- family recipe -- When did the episode titled \"family recipe\" originally air? \n",
      "\"Authority Vested\" -- authority vested -- What episode is titled \"Authority Vested\"?\n",
      "\"Andare Pescare\" -- andare pescare -- Who directed the episode titled \"Andare Pescare\"?\n",
      "Baccalaureate college --  -- What was the enrollment (2005) for baccalaureate colleges , for Granite State College?\n",
      "470,000 -- $470,000 -- How many times could you earn $470,000 as the grand prize?\n",
      "0 - 1 Barbiero 78' -- 0 - 1 barbiero 78 -- When 0 - 1 barbiero 78' is the score how many measurements of attendance are there?\n",
      "3 - 1 Hughes 64' -- 3 - 1 hughes 64 -- When 3 - 1 hughes 64' is the score what is the stadium?\n",
      "1 - 1 Leckie 90+3' -- 1 - 1 leckie 90+3 -- When 1 - 1 leckie 90+3' is the score what is the stadium?\n",
      "Pokémon ieru kana? BW -- pokémon ieru kana bw -- When  pokémon ieru kana? bw is the romaji who is the vocalist?\n",
      "\"Loathe and Marriage\" -- loathe and marriage -- Who directed \"loathe and marriage\"?\n",
      "\"iGo Nuclear\" -- igo nuclear -- What episode number in the series was \"igo nuclear\"?\n",
      "\"Route 666 (Part 1)\" -- route 666 (part 1) -- When did the episode titled \"Route 666 (part 1)\" air for the first time?\n",
      "\"Vexation of Spirit\" -- vexation of spirit -- How many series numbers belong to the episode \"Vexation of Spirit\"? \n",
      "\"My Comedy Show\" -- my comedy show -- What episode number in the season was \"my comedy show\"?\n",
      "\"Risky Business\" -- risky business -- Who directed the episode titled \"Risky Business\"?\n",
      "\"Redemptio\" -- redemptio -- Who directed the episode titled \"Redemptio\"?\n",
      "\"Kärleken vänder allt\" (The love turns everything) -- kärleken vänder allt (the love turns everything) -- What is the position of \"kärleken vänder allt\" (the love turns everything)?\n",
      "\"Kärleken vänder allt\" (The love turns everything) -- kärleken vänder allt (the love turns everything) -- What is the position of \"kärleken vänder allt\" (the love turns everything)?\n",
      "\"Something New\" -- something new -- What was the original airdate for \"Something New\"?\n",
      "\"La Ribambelle enquête\" -- la ribambelle enquête -- How many English translations were made for the story originally titled \"La Ribambelle Enquête\"?\n",
      "\"La Ribambelle aux Galopingos\" -- la ribambelle aux galopingos -- What was the English translation of \"La Ribambelle Aux Galopingos\"?\n",
      "Madison Square Garden ( New York City, New York ) --  -- When madison square garden ( new york city, new york ) is the tournament venue (city) what is the conference tournament?\n",
      "\"Sheep Thrills\" -- sheep thrills -- When \"sheep thrills\" is the title what is the air date?\n",
      "\"Hey Now Hey Now Perry's Girlfriend's Back\" -- hey now hey now perry's girlfriend's back -- Who directed \"hey now hey now perry'S girlfriend's back\"?\n",
      "\"Rebecca's One Night Stand\" -- rebecca's one night stand -- How many dates did \"Rebecca's one night stand\" originally air on?\n",
      "\"The Boss\" -- the boss -- What was the original air date of \"The Boss\"?\n",
      "\"Southwestern Exposure\", a twelve-egg omelette -- southwestern exposure, a twelve-egg omelette -- What is the original airdate of the episode where the challenge is \"Southwestern Exposure\", a twelve-egg omelette\"?\n",
      "\"7-pound monster breakfast burrito\" -- 7-pound monster breakfast burrito -- What is the original airdate of the episode where the challenge is a \"7-pound monster breakfast burrito\"?\n",
      "\"Shotgun\" -- shotgun -- Who directed the episode entitled \"Shotgun\"?\n",
      "\"The Mayor Of Northolt\" -- the mayor of northolt -- What was the production count of \"The Mayor of Northolt\"?\n",
      "\"Mine’s A Double\" -- mine’s a double -- What is the production number for the episode named \"mine’s a double\"?\n",
      "\"Baby Talk\" -- baby talk -- List the 1st air date for the episode titled \"baby talk\".\n",
      "\"Parent Trap\" -- parent trap -- What episode number in the season is \"parent trap\"?\n",
      "\"P.R.-mageddon\" -- p.r.-mageddon -- Who was the guest on the episode where The Word was \"P.R.-mageddon\"?\n",
      "\"The Looking Glass\" -- the looking glass -- How many items are listed under the column 'viewing figure' for \"the looking glass\"?\n",
      "\" Old Friend \" -- old friend -- Who directed the episode with a title of \" old friend \"?\n",
      "\"Unprepared\" -- unprepared -- What was the original air date of \"unprepared\"?\n",
      "\"Crash\" -- crash -- Who wrote the episode \"crash\"?\n",
      "\"Taking It on the Chin\" -- taking it on the chin -- What is the original airdate of the episode titled \"Taking it on the Chin\"?\n",
      "\"Puppy Love\" -- puppy love -- What number in the series episode was titled \"Puppy Love\"?\n",
      "\"The Big Job\" -- the big job -- What is the number of air dates titled \"The Big Job\"?'\n",
      "\"Stumped Again / The Kick Stays in the Picture\" -- stumped again / the kick stays in the picture -- What episode number was \"Stumped Again / The Kick Stays in the Picture\"?\n",
      "\"65 Million Years Off\" -- 65 million years off -- What is the episode number in the season titled \"65 million years off\"?\n",
      "\"Harry Bladder Special\" -- harry bladder special -- what is the series number of the \"harry bladder special\"?\n",
      "\"Big Kings on Campus\" -- big kings on campus -- Who wrote the episode titled \"big kings on campus\"?\n",
      "\"Revenge of the Mummy\" -- revenge of the mummy -- How many episodes have the title \"revenge of the mummy\"?\n",
      "\"The Grandfather\" -- the grandfather -- How many millions of people watched the episode \"The Grandfather\"?\n",
      "\"The Legacy\" -- the legacy -- When \"the legacy\" is the title what is the production code?\n",
      "\"Pocket Pussy\" -- pocket pussy -- Who wrote \"pocket pussy\"?\n",
      "\"It's Called Hazing, Look It Up\" -- it's called hazing, look it up -- How many episodes are titled \"it's called hazing, look it up\"?\n",
      "\"Forests of Prejudice\" -- forests of prejudice -- Name the number of ratings for \"forests of prejudice\"\n",
      "\"Burning Down the House\" -- burning down the house -- What number in the season was \"Burning Down the House\"?\n",
      "\"I Wish I Was the Moon\" -- i wish i was the moon -- How many episodes were titled \"I Wish I Was the Moon\"?\n",
      "\"You Smell Like Dinner\" -- you smell like dinner -- How many million viewers watched \"You Smell like Dinner\"?\n",
      "\"Dance Cards and Greeting Cards\" -- dance cards and greeting cards -- What is the episode number of \"Dance Cards and Greeting Cards\"?\n",
      "\"Running the Gauntlet\" -- running the gauntlet -- Who directed \"running the gauntlet\"?\n",
      "\"What You Mean By Home\" -- what you mean by home -- Who wrote \"what you mean by home\"?\n",
      "\"Teased\" -- teased -- What episode in the series is \"teased\"?\n",
      "\"Sympathy\" -- sympathy -- What date did \"sympathy\" originally air?\n",
      "\"All Guts, No Glory\" -- all guts, no glory -- Who is the director when the title is listed as \"all guts, no glory\"?\n",
      "\"Best Laid Plans\" -- best laid plans -- What number episode in the series was titled \"Best Laid Plans\"?\n",
      "\"The Drum Major\" -- the drum major -- What episode number in the series is \"the drum major\"?\n",
      "[[|]] 4 points -- 4 points -- What are all the winning records when the result is Scotland won on points table and the Runner-Up result is [[|]] 4 points?\n",
      "[[|]] 4 points -- 4 points -- What was the final venue whene England hasted the competition and the runner-up record is [[|]] 4 points and the winner record is [[|]] 6 points?\n",
      "[[|]] 6 points -- 6 points -- What was the final venue whene England hasted the competition and the runner-up record is [[|]] 4 points and the winner record is [[|]] 6 points?\n",
      "\"It's Better to Burn Out Than Fae Away\" -- it's better to burn out than fae away -- How many people watched \"it's better to burn out than fae away\"?\n",
      "\"The Secret of Deep Stadium\" -- the secret of deep stadium -- When \"the secret of deep stadium\" is the episode title what is the lowest series number?\n",
      "\"Miss Mystic Falls\" -- miss mystic falls -- How many millions of U.S viewers watched the episode titled \"Miss Mystic Falls\"?\n",
      "\"There Goes the Neighborhood\" -- there goes the neighborhood -- Who wrote the episode titled \"There Goes the Neighborhood\"? \n",
      "\"My Fair Rebound\" -- my fair rebound -- What number episode in the series was titled \"My Fair Rebound\"?\n",
      "\"World's Greatest Dick\" -- world's greatest dick -- How many episodes of the season had the title, \"world's greatest dick\"?\n",
      "\"Dick Jokes\" -- dick jokes -- How many dates did \"dick jokes\" originally air on?\n",
      "\"Romeo & Juliet & Dick\" -- romeo & juliet & dick -- Who wrote \"romeo & Juliet & dick\"?\n",
      "\"Many Happy Returns\" -- many happy returns -- What episode number in the season is \"many happy returns\"?\n",
      "\"Knight Sting\" -- knight sting -- How many episodes in the season were named \"knight sting\"?\n",
      "\"Shattered\" -- shattered -- What number episode in the season was titled \"Shattered\"?\n",
      "21 -- 2006-06-21 -- Tell me the average spectators for 2006-06-21 and time more than 21\n",
      "75 -- 75% -- What are the fewest losses for a player lower than 3, with wins fewer than 75%, 0 draws and 56 points?\n",
      "100 -- 100% -- What is the smallest draws for a player larger than 2 with a 100% wins?\n",
      "56.15 -- 56.15% -- What is the average draws for a player larger than 16 with more than 1 tries and a win percentage smaller than 56.15%?\n",
      "tony o'sullivan -- tony oullivan -- What is Tony O'Sullivan's county?\n",
      "50,000 -- $50,000 -- What was the score for the tournament that had a winner's share of $50,000?\n",
      "28,000 -- $28,000 -- What date was the tournament that had a winner's share of $28,000?\n",
      "530,808 -- $530,808 -- Add up all the events whose earnings is less than $530,808, have less than 2 wins and is ranked lower than 5.\n",
      "\"from hong kong to ulaanbaatar\" -- from hong kong to ulaanbaatar -- What is the broadcast date for the episode titled, \"From Hong Kong to Ulaanbaatar\"?\n",
      "\"st. petersburg to tashkent\" -- st. petersburg to tashkent -- What is the broadcast date for the episode titled, \"St. Petersburg to Tashkent\"?\n",
      "44 -- 44+ -- What is the shot % with a 44+ Ends Lost, skip Cathy King, and smaller than 13 Black Ends?\n",
      "6,028,927 -- $6,028,927 -- What is the lowest number of wins for tom watson who is ranked larger than number 1 and makes more than $6,028,927?\n",
      "60,000-->58,000 koku -- 60,000--58,000 koku -- What is the tenure of the person with revenues of 60,000-->58,000 koku?\n",
      "– --  -- Which League that has no playoffs in the Year of 2008–09?\n",
      "10 -- top-10 -- Name the average top-10 for cuts made of 10 and top-25 more than 6\n",
      "14 -- 14% -- Which track in Austria has Bobsleigh-skeleton curves with a grade of 14%?\n",
      "15 -- 15% -- What is the shortest length of a track in Norway that has a maximum grade of 15% and a vertical drop less than 122.22 m?\n",
      "|| 36,388 ||15-7|| -- 36,388 ||15-7|| -- Who was the Opponent when the Save was || 36,388 ||15-7||?\n",
      "katee shean stephen \"twitch\" boss -- katee shean stephen twitch boss -- What is Choreographer(s), when Chosen By is Mary Murphy, and when Couple is Katee Shean Stephen \"Twitch\" Boss?\n",
      "10 -- top-10 -- What was the highest Top-10, when the Top-5 was greater than 3, when the Cuts made were 20, and when the Top-25 was more than 10?\n",
      "- 17 --  -- What is the average Against when the drawn is more than 2 and the Difference of- 17, and a Played smaller than 20?\n",
      "memphis grizzlies ( 2) -- memphis grizzlies ( 2) ) -- What is the Result when the memphis grizzlies ( 2) were the loser?\n",
      "42 m. -- 42 m -- What is the year built of the home with a built status and a 42 m. height?\n",
      "42 m. -- 42 m -- What is the highest number of stories in homes with a height of 42 m.?\n",
      "the three pintos (die drei pintos) -- the conductor of the three pintos -- Who was the Conductor of the Three Pintos (Die Drei Pintos) Production?\n",
      "103.5 --  -- Which call sign, broadcast at less than 103.5MHz, has an ERP W of 50?\n",
      "1.35 --  -- What is the socket related to the processor released on June 22, 2005, having a frequency of 1600MHz and voltage under 1.35V?\n",
      "sky cinema + sky hd -- sky cinema passion hd -- What is HDTV, when Content is Cinema, when Package/Option is Sky Cinema + Sky HD, and when Television Service is Sky Cinema Passion HD?\n",
      "118 -- 118% -- How many people live where there are 118% of people have phones?\n",
      "a --  -- During the Tournament in which Jiří Novák was absent(A) in 1995, absent(A) in 1997, and made it to the 3rd round (3R) in 2003, how did he do in 2006?\n",
      "a --  -- During the Tournament in which Jiří Novák was absent(A) in 1995, absent(A) in 1997, and made it to the 3rd round (3R) in 2003, how did he do in 2006?\n",
      "3r -- (3r) -- During the Tournament in which Jiří Novák was absent(A) in 1995, absent(A) in 1997, and made it to the 3rd round (3R) in 2003, how did he do in 2006?\n",
      "a --  -- In the Hamburg Masters Tournament, during which Jiří Novák was absent(A) in 1996, how did he do in 2003?\n",
      "a --  -- In the Tournament during which Jiří Novák was absent(A) in 2004, how did he do in 2003?\n",
      "1r --  -- In the Tournament during which Jiří Novák made it to the 1st round(1R) in 1995, how did he do in 2001?\n",
      "a --  -- During the Hamburg Masters Tournament, during which Jiří Novák was absent(A) in 1998, how did he do in 1997?\n",
      "1975? -- 1975 -- What is the resurrection of 144,000 date with a start of Christ's presence date in 1914, a separation of sheep & goats during Christ's presence, and a great tribulation date in 1975?\n",
      "players' -- players -- Which 2007–08 event has 2008–09 of dnp and an Event of players'?\n",
      "antonio davis (12) --  -- What is the Score for the Game less than 21, and of antonio davis (12)had the High rebounds?\n",
      "204.9 --  -- What is the average sales for the company with market value of 204.9bil and profits under 20.6bil?\n",
      "20.6 --  -- What is the average sales for the company with market value of 204.9bil and profits under 20.6bil?\n",
      "5,000 -- $5,000 -- What was the score of the player who earned $5,000?\n",
      "9,000 -- $9,000 -- What country is the player who earned $9,000 from?\n",
      "#154 -- 154 -- What is the NHL team for Round 5 and an overall ranking of #154?\n",
      "#195 -- 195 -- Who is the player on round 7 with an overall ranking of #195?\n",
      "\"sono io\" -- sono io -- What is the original name for the song \"Sono Io\"?\n",
      "\"we rock\" -- we rock -- Who were the singers for the song \"We Rock\" in French?\n",
      "\"this is me\" -- this is me -- Who was the singer of \"This is Me\" in Sweden?\n",
      "24,542 -- $24,542 -- What is the score of the United States, which has more than $24,542?\n",
      "3,616 --  -- What is the total population for the 3,616km area?\n",
      "200 mhz -- 200 mhz -- Which Multiplier has a Front Side Bus of 200 mhz, and a Frequency of 1200 mhz?\n",
      "1200 mhz -- 1200 mhz -- Which Multiplier has a Front Side Bus of 200 mhz, and a Frequency of 1200 mhz?\n",
      "1333 mhz -- 1333 mhz -- Which L2-Cache has a Frequency of 1333 mhz, and a Model Number of c3 1.3a?\n",
      "1.4 v -- 1.4 v -- Which Front Side Bus has a Voltage of 1.4 v, and a Frequency of 1333 mhz?\n",
      "1333 mhz -- 1333 mhz -- Which Front Side Bus has a Voltage of 1.4 v, and a Frequency of 1333 mhz?\n",
      "\"a family affair\" -- a family affair -- What is Viewers, when Episode is \"A Family Affair\"?\n",
      "\"farmer picks a wife\" -- farmer picks a wife -- What is the lowest Share, when Episode is \"Farmer Picks A Wife\"?\n",
      "12,241 --  -- What is the lowest population (2011) for the community with an Area of 12,241km2 and a Density (inhabitants/km 2) smaller than 21.1?\n",
      "\"the way to your heart\" -- the way to your heart -- What is the Length, when the Title is \"The Way To Your Heart\"?\n",
      "currie cup \"b\" section -- currie cup b section -- What was the sum of the numbers listed under against when currie cup \"b\" section was the opposing team?\n",
      "all times are in eastern. -- all times are in eastern -- What is Site, when Opponent is \"All times are in eastern.\"?\n",
      "11 -- 2010-11 -- What is the sum of 2010-11 when the rank is greater than 11?\n",
      "71 [ dead link ] --  -- What is Name, when Goals is \"80\", and when Club Source [I ] is \"71 [ dead link ]\"?\n",
      "#7 -- 7 -- When was the premiere of the show that had a rank of #7?\n",
      "\" the doctor dances \" -- the doctor dances -- Which Original airdate (UK) has a Doctor Who episode of \" the doctor dances \"?\n",
      "moved to run a farm with boyfriend jake. -- moved to run a farm with boyfriend jake -- What is Number Of Episodes, when Notes is \"Moved to run a farm with boyfriend Jake.\"?\n",
      "0.625 -- 0.625% -- What is the low loss total for teams with under 3 years and a less than 0.625% winning percentage?\n",
      "500,000 -- $500,000 -- What is average prize for first place with a $500,000 purse in the Franklin Quest Championship?\n",
      "analog -- digital/analog -- What is the Retail name with a Digital/analog signal with analog, and a Chipset based on with radeon 9600?\n",
      "\"ne izdajte me\" -- ne izdajte me -- What is the draw total that has under 5 places, under 62 points, and a Song of \"ne izdajte me\"?\n",
      "1,579,988 -- $1,579,988 -- What's the wins with less than 27 events and earnings of $1,579,988?\n",
      "\"petra-gate\" -- petra-gate -- On what date did the episode \"Petra-Gate\" air?\n",
      "\"after hours\" -- after hours -- What was the rating of the episode \"After Hours\"?\n",
      "\"outside the box\" -- outside the box -- What is the episode number of the episode titled \"Outside the Box\"?\n",
      "\"hand to hand\" -- hand to hand -- Who directed the episode titled \"Hand to Hand\"?\n",
      "\"threshold of pain\" -- threshold of pain -- What is the episode number of the episode titled \"Threshold of Pain\"?\n",
      "10 -- 10,with -- What is the highest +1d12 (6) with a 3d6 or 1d20 Resolution (+10) larger than 10,with a +1d6-1d6 or +1d10-1d10 (+0) of 4, with 1d10 Resolution (+5) larger than 9?\n",
      "\"budi tu\" -- budi tu -- What's the highest points for song \"budi tu\" with draw less than 7?\n",
      "\"starac i more\" -- starac i more -- What's the lowest place for song \"starac i more\" with draw over 13?\n",
      "* dane -- dane -- What is the population (hab) when the distance medellin downtown (km) is * dane?\n",
      "+ 1:39.591 -- 1:39.591 -- How many laps are associated with a time of + 1:39.591?\n",
      "+ 4 laps -- 4 laps -- I want the total number of Laps for time/retired for + 4 Laps and grid more than 20\n",
      "big brother 13 -- big brother 13\" -- Who was the presenter on Monday of \"Big Brother 13\" in which Alice Levine Jamie East presented on Sunday?\n",
      "us 83 bus. -- us 83 bus -- What is the length of the highway with junctions i-35 us 83 and named us 83 bus.?\n",
      "997 -- 997,more -- Which name has an Order smaller than 997,more than 5 goals, and 215 games?\n",
      "+ 4 laps -- 4 laps -- How many laps have a Time/Retired of + 4 laps, and a Driver of graham hill?\n",
      "\"parting glances\" -- parting glances -- Who wrote the title \"Parting Glances\" ?\n",
      "15.4\" -- 15.4 -- What is the memory type with a form factor of 15.4\", and a Model of precision m65?\n",
      "2,708,005 -- $2,708,005 -- What is the highest rank of the player who played 30 events and made less than $2,708,005?\n",
      "\"before the clock strikes 12\" -- before the clock strikes 12\" -- The song \"Before the Clock Strikes 12\" has 55 points. What number did the song place?\n",
      "0.2 -- 2 -- What's the total long for an avg/g over 0.2, fewer than 2 loss, and a gain less than 8?\n",
      "10 + 10 + 10 = 30 -- 10 + 10 = 30 -- What Date performed has a Scores by each individual judge of 10 + 10 + 10 = 30, and a Main contestant of karanvir bohra?\n",
      "sc -- (sc/st/none) -- Which Number of electorates (2009) has a District of jhajjar, and a Reserved for (SC/ST/None) of sc, and a Constituency number smaller than 66?\n",
      "none -- /none -- Name the Number of electorates (2009 which has a Reserved for ( SC / ST /None) of none, and a Name of jahanabad?\n",
      "none -- /none -- What is the name for Nagpur district, with a reserved for ( SC / ST /None) of none, and a Constituency number of 59?\n",
      "0.406 -- 0.406% -- What is the All Home with less than 0.406% All Games?\n",
      "bf.109g-2 \"yellow 2\" -- bf.109g-2 yellow 2 -- What was the Soviet Unit when the Enemy Aircraft was bf.109g-2 \"yellow 2\"?\n",
      "bf.109g-? w.nr.? -- bf.109g- w.nr. -- What was the date of the victory when the Soviet Unit was 73 giap, and the Enemy Aircraft was bf.109g-? w.nr.?\n",
      "luftwaffe (**) -- luftwaffe -- What was the aircraft flown when the axis unit was luftwaffe (**) and the enemy aircraft was ju.88?\n",
      "yak-1b \"white 23\" -- yak-1b white 23 -- What is the axis unit of the aircraft yak-1b \"white 23\", flown on 19.07.1943?\n",
      "450 -- $450 -- Which player has $450 and a score of 76-74-74-72=296?\n",
      "82 -- $82 -- Which ranking has money of $82 and Al Watrous as the player?\n",
      "0+1 -- 1 -- What Rd 3 has a Rd 2 1 of 0+1?\n",
      "35.666 --  -- What is the average population of the township having land of 35.666sqmi and GEO ID over 3807364500?\n",
      "\"a safe place\" -- a safe place -- What season had the title \"A Safe Place\"?\n",
      "\"solitary confinement\" -- solitary confinement -- What season was the episode \"Solitary Confinement\", written by Fiona Kelly?\n",
      "\"the six stages of marshall\" -- the six stages of marshall -- Who wrote \"The Six Stages of Marshall\"?\n",
      "\"memories by moonlight\" -- memories by moonlight -- With the title \"Memories by Moonlight\", and a less than 39 number in season, and a greater than 66 number in series, who was the written by?\n",
      "\"life class\" -- life class -- Who directed the episode that was greater than 74 in the series, and had \"Life Class\" as the title?\n",
      "\"facing the music\" -- facing the music -- What episode number in the series was \"facing the music\" that was episode number greater than 6 in the season?\n",
      "/ɸ/; /b/ --  -- Which Gothic Letter has Proto-Germanic origin of /ɸ/; /b/?\n",
      "3,600 -- $3,600 -- What is the score for the player who won $3,600?\n",
      "ថ្ងៃអាទិត្យ [tŋaj ʔaatɨt ] -- ថ្ងៃអាទិត្យ [tŋaj ʔaatɨt -- What is the result of Saturday that's ថ្ងៃអាទិត្យ [tŋaj ʔaatɨt ] on Sunday?\n",
      "'take away, remove' -- take away, remove -- What is the imperfect stem of the word that means 'take away, remove'?\n",
      "guard -- (guard) -- When was tony parker (guard) born?\n",
      "1.8 --  -- What team does tariq kirksay, a guard who is taller than 1.8M and born before 1982, represent?\n",
      "89.1 -- 89.1,rape -- Which aggravated assault has the highest amount and the following criteria: crime rate per 1000 greater than 89.1,rape value of 23, and a crime index greater than 1590?\n",
      "\"mv\"; converted from steam stock, 1927 -- mv; converted from steam stock, 1927 -- Bldr of mcw&f, and a Notes of \"mv\"; converted from steam stock, 1927, and a Year of 1920, and a LT Nos of 9716-9718 has what type?\n",
      "don't stop movin' -- don't stop movin -- What is the highest position less than 7 that had more than 421,760 in sales for the song Don't Stop Movin'?\n",
      "\"mann basiyo sanwariyo\" -- mann basiyo sanwariyo -- What 2013 album was produced by sachin-jigar and contained the song \"mann basiyo sanwariyo\"?\n",
      "5 -- 5% -- Which country has more than 5% change in a year with a rank of 10?\n"
     ]
    },
    {
     "data": {
      "text/plain": "254"
     },
     "execution_count": 6,
     "metadata": {},
     "output_type": "execute_result"
    }
   ],
   "source": [
    "count = 0\n",
    "for test in test_set:\n",
    "    for gt, pred in zip(test['CHECK'][0], test['CHECK'][1]):\n",
    "        if str(gt).lower() != str(pred).lower():\n",
    "            print(f'{gt} -- {pred} -- {test[\"input\"][0]}')\n",
    "            count += 1\n",
    "count"
   ],
   "metadata": {
    "collapsed": false
   }
  },
  {
   "cell_type": "code",
   "execution_count": 7,
   "outputs": [
    {
     "data": {
      "text/plain": "1.5996976949237938"
     },
     "execution_count": 7,
     "metadata": {},
     "output_type": "execute_result"
    }
   ],
   "source": [
    "count/len(test_set)*100"
   ],
   "metadata": {
    "collapsed": false
   }
  },
  {
   "cell_type": "code",
   "execution_count": 8,
   "outputs": [],
   "source": [
    "question_1 = test_set[0]['input'][0]\n",
    "question_2 = test_set[1]['input'][0]"
   ],
   "metadata": {
    "collapsed": false
   }
  },
  {
   "cell_type": "code",
   "execution_count": 9,
   "outputs": [],
   "source": [
    "question_3 = 'If % lunsford is 51.82% what is the % mcconnell in Letcher?'"
   ],
   "metadata": {
    "collapsed": false
   }
  },
  {
   "cell_type": "code",
   "execution_count": 10,
   "outputs": [],
   "source": [
    "where_answer_1 = \"Terrence Ross\"\n",
    "where_answer_2 = \"1995-96\"\n",
    "where_answer_3 = \"51.82%\""
   ],
   "metadata": {
    "collapsed": false
   }
  },
  {
   "cell_type": "code",
   "execution_count": 11,
   "outputs": [
    {
     "data": {
      "text/plain": "['What', 'is', 'terrence', \"ross'\", 'nationality']"
     },
     "execution_count": 11,
     "metadata": {},
     "output_type": "execute_result"
    }
   ],
   "source": [
    "question_1.split()"
   ],
   "metadata": {
    "collapsed": false
   }
  },
  {
   "cell_type": "code",
   "execution_count": 12,
   "outputs": [
    {
     "data": {
      "text/plain": "['What', 'clu', 'was', 'in', 'toronto', '1995-96']"
     },
     "execution_count": 12,
     "metadata": {},
     "output_type": "execute_result"
    }
   ],
   "source": [
    "question_2.split()"
   ],
   "metadata": {
    "collapsed": false
   }
  },
  {
   "cell_type": "code",
   "execution_count": 13,
   "outputs": [
    {
     "data": {
      "text/plain": "\"What is terrence ross' nationality\""
     },
     "execution_count": 13,
     "metadata": {},
     "output_type": "execute_result"
    }
   ],
   "source": [
    "question_1"
   ],
   "metadata": {
    "collapsed": false
   }
  },
  {
   "cell_type": "code",
   "execution_count": 14,
   "outputs": [],
   "source": [
    "import re"
   ],
   "metadata": {
    "collapsed": false
   }
  },
  {
   "cell_type": "code",
   "execution_count": 15,
   "outputs": [],
   "source": [
    "pattern_list = [r'(?i)\\b\\w*terrence\\w*\\b', r'(?i)\\b\\w*ross\\w*\\b']"
   ],
   "metadata": {
    "collapsed": false
   }
  },
  {
   "cell_type": "code",
   "execution_count": 16,
   "outputs": [
    {
     "data": {
      "text/plain": "[2, 3]"
     },
     "execution_count": 16,
     "metadata": {},
     "output_type": "execute_result"
    }
   ],
   "source": [
    "# pattern_list = [r'(?i)\\b\\w*sustainabl\\w*\\b', r'(?i)\\b\\w*suppl\\w*\\b', r'(?i)\\b\\w*fashion\\w*\\b']\n",
    "index_list = []\n",
    "for pattern in pattern_list:\n",
    "    for idx, token in enumerate(question_1.split()):\n",
    "        if re.findall(pattern, token):\n",
    "            index_list.append(idx)\n",
    "index_list"
   ],
   "metadata": {
    "collapsed": false
   }
  },
  {
   "cell_type": "code",
   "execution_count": 17,
   "outputs": [],
   "source": [
    "map_list = [index_list[0], index_list[-1]-index_list[0]]"
   ],
   "metadata": {
    "collapsed": false
   }
  },
  {
   "cell_type": "code",
   "execution_count": 18,
   "outputs": [
    {
     "data": {
      "text/plain": "[2, 1]"
     },
     "execution_count": 18,
     "metadata": {},
     "output_type": "execute_result"
    }
   ],
   "source": [
    "map_list"
   ],
   "metadata": {
    "collapsed": false
   }
  },
  {
   "cell_type": "code",
   "execution_count": 19,
   "outputs": [],
   "source": [
    "def try_generate_mapping(question_token_list, pattern_list, gt):\n",
    "    index_list = []\n",
    "    for pattern, key in zip(pattern_list, gt):\n",
    "        for idx, token in enumerate(question_token_list):\n",
    "            if (re.findall(pattern, token)) or (key==token):\n",
    "                index_list.append(idx)\n",
    "    return [index_list[0], index_list[-1]-index_list[0]]"
   ],
   "metadata": {
    "collapsed": false
   }
  },
  {
   "cell_type": "code",
   "execution_count": 20,
   "outputs": [
    {
     "data": {
      "text/plain": "[2, 1]"
     },
     "execution_count": 20,
     "metadata": {},
     "output_type": "execute_result"
    }
   ],
   "source": [
    "try_generate_mapping(question_1.split(), pattern_list, where_answer_1.split())"
   ],
   "metadata": {
    "collapsed": false
   }
  },
  {
   "cell_type": "code",
   "execution_count": 21,
   "outputs": [
    {
     "data": {
      "text/plain": "[5, 0]"
     },
     "execution_count": 21,
     "metadata": {},
     "output_type": "execute_result"
    }
   ],
   "source": [
    "try_generate_mapping(question_2.split(), [r'(?i)\\b\\w*1995-96\\w*\\b'], where_answer_2.split())"
   ],
   "metadata": {
    "collapsed": false
   }
  },
  {
   "cell_type": "code",
   "execution_count": 22,
   "outputs": [
    {
     "data": {
      "text/plain": "['Terrence', 'Ross']"
     },
     "execution_count": 22,
     "metadata": {},
     "output_type": "execute_result"
    }
   ],
   "source": [
    "where_answer_1.split()"
   ],
   "metadata": {
    "collapsed": false
   }
  },
  {
   "cell_type": "code",
   "execution_count": 23,
   "outputs": [
    {
     "data": {
      "text/plain": "['(?i)\\\\b\\\\w*terrence\\\\w*\\\\b', '(?i)\\\\b\\\\w*ross\\\\w*\\\\b']"
     },
     "execution_count": 23,
     "metadata": {},
     "output_type": "execute_result"
    }
   ],
   "source": [
    "[fr'(?i)\\b\\w*{token.lower()}\\w*\\b' for token in where_answer_1.split()]"
   ],
   "metadata": {
    "collapsed": false
   }
  },
  {
   "cell_type": "code",
   "execution_count": 24,
   "outputs": [
    {
     "data": {
      "text/plain": "[2, 1]"
     },
     "execution_count": 24,
     "metadata": {},
     "output_type": "execute_result"
    }
   ],
   "source": [
    "try_generate_mapping(question_1.split(), [fr'(?i)\\b\\w*{token.lower()}\\w*\\b' for token in where_answer_1.split()], where_answer_1.split())"
   ],
   "metadata": {
    "collapsed": false
   }
  },
  {
   "cell_type": "code",
   "execution_count": 25,
   "outputs": [
    {
     "data": {
      "text/plain": "[5, 0]"
     },
     "execution_count": 25,
     "metadata": {},
     "output_type": "execute_result"
    }
   ],
   "source": [
    "try_generate_mapping(question_2.split(), [fr'(?i)\\b\\w*{token.lower()}\\w*\\b' for token in where_answer_2.split()], where_answer_2.split())"
   ],
   "metadata": {
    "collapsed": false
   }
  },
  {
   "cell_type": "code",
   "execution_count": 26,
   "outputs": [
    {
     "data": {
      "text/plain": "[4, 0]"
     },
     "execution_count": 26,
     "metadata": {},
     "output_type": "execute_result"
    }
   ],
   "source": [
    "try_generate_mapping(question_3.split(), [fr'(?i)\\b\\w*{token.lower()}\\w*\\b' for token in where_answer_3.split()], where_answer_3.split())"
   ],
   "metadata": {
    "collapsed": false
   }
  },
  {
   "cell_type": "code",
   "execution_count": 27,
   "outputs": [
    {
     "data": {
      "text/plain": "{'table_id': '1-10015132-16',\n 'columns': 'Player, No., Nationality, Position, Years in Toronto, School/Club Team',\n 'input': (\"What is terrence ross' nationality\",\n  'Player, No., Nationality, Position, Years in Toronto, School/Club Team'),\n 'tokenized_inputs': {'question': {'input_ids': tensor([  101,  2054,  2003, 25170,  5897,  5811,  1005, 10662,  2447,  1010,\n           2053,  1012,  1010, 10662,  1010,  2597,  1010,  2086,  1999,  4361,\n           1010,  2082,  1013,  2252,  2136,   102,     0,     0,     0,     0,\n              0,     0,     0,     0,     0,     0,     0,     0,     0,     0,\n              0,     0,     0,     0,     0,     0,     0,     0,     0,     0,\n              0,     0,     0,     0,     0,     0,     0,     0,     0,     0,\n              0,     0,     0,     0,     0,     0,     0,     0,     0,     0,\n              0,     0,     0,     0,     0,     0,     0,     0,     0,     0,\n              0,     0,     0,     0,     0,     0,     0,     0,     0,     0,\n              0,     0,     0,     0,     0,     0,     0,     0,     0,     0,\n              0,     0,     0,     0,     0,     0,     0,     0,     0,     0,\n              0,     0,     0,     0,     0,     0,     0,     0,     0,     0,\n              0,     0,     0,     0,     0,     0,     0,     0,     0,     0,\n              0,     0,     0,     0,     0,     0,     0,     0,     0,     0,\n              0,     0,     0,     0,     0,     0,     0,     0,     0,     0,\n              0,     0,     0,     0,     0,     0,     0,     0,     0,     0,\n              0,     0,     0,     0,     0,     0,     0,     0,     0,     0,\n              0,     0,     0,     0,     0,     0,     0,     0,     0,     0,\n              0,     0,     0,     0,     0,     0,     0,     0,     0,     0,\n              0,     0,     0,     0,     0,     0,     0,     0,     0,     0,\n              0,     0,     0,     0,     0,     0,     0,     0,     0,     0,\n              0,     0,     0,     0,     0,     0,     0,     0,     0,     0,\n              0,     0,     0,     0,     0,     0,     0,     0,     0,     0,\n              0,     0,     0,     0,     0,     0,     0,     0,     0,     0,\n              0,     0,     0,     0,     0,     0,     0,     0,     0,     0,\n              0,     0,     0,     0,     0,     0,     0,     0,     0,     0,\n              0,     0,     0,     0,     0,     0,     0,     0,     0,     0,\n              0,     0,     0,     0,     0,     0,     0,     0,     0,     0,\n              0,     0,     0,     0,     0,     0,     0,     0,     0,     0,\n              0,     0,     0,     0,     0,     0,     0,     0,     0,     0,\n              0,     0,     0,     0,     0,     0,     0,     0,     0,     0,\n              0,     0,     0,     0,     0,     0,     0,     0,     0,     0,\n              0,     0,     0,     0,     0,     0,     0,     0,     0,     0,\n              0,     0,     0,     0,     0,     0,     0,     0,     0,     0,\n              0,     0,     0,     0,     0,     0,     0,     0,     0,     0,\n              0,     0,     0,     0,     0,     0,     0,     0,     0,     0,\n              0,     0,     0,     0,     0,     0,     0,     0,     0,     0,\n              0,     0,     0,     0,     0,     0,     0,     0,     0,     0,\n              0,     0,     0,     0,     0,     0,     0,     0,     0,     0,\n              0,     0,     0,     0,     0,     0,     0,     0,     0,     0,\n              0,     0,     0,     0,     0,     0,     0,     0,     0,     0,\n              0,     0,     0,     0,     0,     0,     0,     0,     0,     0,\n              0,     0,     0,     0,     0,     0,     0,     0,     0,     0,\n              0,     0,     0,     0,     0,     0,     0,     0,     0,     0,\n              0,     0,     0,     0,     0,     0,     0,     0,     0,     0,\n              0,     0,     0,     0,     0,     0,     0,     0,     0,     0,\n              0,     0,     0,     0,     0,     0,     0,     0,     0,     0,\n              0,     0,     0,     0,     0,     0,     0,     0,     0,     0,\n              0,     0,     0,     0,     0,     0,     0,     0,     0,     0,\n              0,     0,     0,     0,     0,     0,     0,     0,     0,     0,\n              0,     0,     0,     0,     0,     0,     0,     0,     0,     0,\n              0,     0]), 'token_type_ids': tensor([0, 0, 0, 0, 0, 0, 0, 0, 0, 0, 0, 0, 0, 0, 0, 0, 0, 0, 0, 0, 0, 0, 0, 0,\n          0, 0, 0, 0, 0, 0, 0, 0, 0, 0, 0, 0, 0, 0, 0, 0, 0, 0, 0, 0, 0, 0, 0, 0,\n          0, 0, 0, 0, 0, 0, 0, 0, 0, 0, 0, 0, 0, 0, 0, 0, 0, 0, 0, 0, 0, 0, 0, 0,\n          0, 0, 0, 0, 0, 0, 0, 0, 0, 0, 0, 0, 0, 0, 0, 0, 0, 0, 0, 0, 0, 0, 0, 0,\n          0, 0, 0, 0, 0, 0, 0, 0, 0, 0, 0, 0, 0, 0, 0, 0, 0, 0, 0, 0, 0, 0, 0, 0,\n          0, 0, 0, 0, 0, 0, 0, 0, 0, 0, 0, 0, 0, 0, 0, 0, 0, 0, 0, 0, 0, 0, 0, 0,\n          0, 0, 0, 0, 0, 0, 0, 0, 0, 0, 0, 0, 0, 0, 0, 0, 0, 0, 0, 0, 0, 0, 0, 0,\n          0, 0, 0, 0, 0, 0, 0, 0, 0, 0, 0, 0, 0, 0, 0, 0, 0, 0, 0, 0, 0, 0, 0, 0,\n          0, 0, 0, 0, 0, 0, 0, 0, 0, 0, 0, 0, 0, 0, 0, 0, 0, 0, 0, 0, 0, 0, 0, 0,\n          0, 0, 0, 0, 0, 0, 0, 0, 0, 0, 0, 0, 0, 0, 0, 0, 0, 0, 0, 0, 0, 0, 0, 0,\n          0, 0, 0, 0, 0, 0, 0, 0, 0, 0, 0, 0, 0, 0, 0, 0, 0, 0, 0, 0, 0, 0, 0, 0,\n          0, 0, 0, 0, 0, 0, 0, 0, 0, 0, 0, 0, 0, 0, 0, 0, 0, 0, 0, 0, 0, 0, 0, 0,\n          0, 0, 0, 0, 0, 0, 0, 0, 0, 0, 0, 0, 0, 0, 0, 0, 0, 0, 0, 0, 0, 0, 0, 0,\n          0, 0, 0, 0, 0, 0, 0, 0, 0, 0, 0, 0, 0, 0, 0, 0, 0, 0, 0, 0, 0, 0, 0, 0,\n          0, 0, 0, 0, 0, 0, 0, 0, 0, 0, 0, 0, 0, 0, 0, 0, 0, 0, 0, 0, 0, 0, 0, 0,\n          0, 0, 0, 0, 0, 0, 0, 0, 0, 0, 0, 0, 0, 0, 0, 0, 0, 0, 0, 0, 0, 0, 0, 0,\n          0, 0, 0, 0, 0, 0, 0, 0, 0, 0, 0, 0, 0, 0, 0, 0, 0, 0, 0, 0, 0, 0, 0, 0,\n          0, 0, 0, 0, 0, 0, 0, 0, 0, 0, 0, 0, 0, 0, 0, 0, 0, 0, 0, 0, 0, 0, 0, 0,\n          0, 0, 0, 0, 0, 0, 0, 0, 0, 0, 0, 0, 0, 0, 0, 0, 0, 0, 0, 0, 0, 0, 0, 0,\n          0, 0, 0, 0, 0, 0, 0, 0, 0, 0, 0, 0, 0, 0, 0, 0, 0, 0, 0, 0, 0, 0, 0, 0,\n          0, 0, 0, 0, 0, 0, 0, 0, 0, 0, 0, 0, 0, 0, 0, 0, 0, 0, 0, 0, 0, 0, 0, 0,\n          0, 0, 0, 0, 0, 0, 0, 0]), 'attention_mask': tensor([1, 1, 1, 1, 1, 1, 1, 1, 1, 1, 1, 1, 1, 1, 1, 1, 1, 1, 1, 1, 1, 1, 1, 1,\n          1, 1, 0, 0, 0, 0, 0, 0, 0, 0, 0, 0, 0, 0, 0, 0, 0, 0, 0, 0, 0, 0, 0, 0,\n          0, 0, 0, 0, 0, 0, 0, 0, 0, 0, 0, 0, 0, 0, 0, 0, 0, 0, 0, 0, 0, 0, 0, 0,\n          0, 0, 0, 0, 0, 0, 0, 0, 0, 0, 0, 0, 0, 0, 0, 0, 0, 0, 0, 0, 0, 0, 0, 0,\n          0, 0, 0, 0, 0, 0, 0, 0, 0, 0, 0, 0, 0, 0, 0, 0, 0, 0, 0, 0, 0, 0, 0, 0,\n          0, 0, 0, 0, 0, 0, 0, 0, 0, 0, 0, 0, 0, 0, 0, 0, 0, 0, 0, 0, 0, 0, 0, 0,\n          0, 0, 0, 0, 0, 0, 0, 0, 0, 0, 0, 0, 0, 0, 0, 0, 0, 0, 0, 0, 0, 0, 0, 0,\n          0, 0, 0, 0, 0, 0, 0, 0, 0, 0, 0, 0, 0, 0, 0, 0, 0, 0, 0, 0, 0, 0, 0, 0,\n          0, 0, 0, 0, 0, 0, 0, 0, 0, 0, 0, 0, 0, 0, 0, 0, 0, 0, 0, 0, 0, 0, 0, 0,\n          0, 0, 0, 0, 0, 0, 0, 0, 0, 0, 0, 0, 0, 0, 0, 0, 0, 0, 0, 0, 0, 0, 0, 0,\n          0, 0, 0, 0, 0, 0, 0, 0, 0, 0, 0, 0, 0, 0, 0, 0, 0, 0, 0, 0, 0, 0, 0, 0,\n          0, 0, 0, 0, 0, 0, 0, 0, 0, 0, 0, 0, 0, 0, 0, 0, 0, 0, 0, 0, 0, 0, 0, 0,\n          0, 0, 0, 0, 0, 0, 0, 0, 0, 0, 0, 0, 0, 0, 0, 0, 0, 0, 0, 0, 0, 0, 0, 0,\n          0, 0, 0, 0, 0, 0, 0, 0, 0, 0, 0, 0, 0, 0, 0, 0, 0, 0, 0, 0, 0, 0, 0, 0,\n          0, 0, 0, 0, 0, 0, 0, 0, 0, 0, 0, 0, 0, 0, 0, 0, 0, 0, 0, 0, 0, 0, 0, 0,\n          0, 0, 0, 0, 0, 0, 0, 0, 0, 0, 0, 0, 0, 0, 0, 0, 0, 0, 0, 0, 0, 0, 0, 0,\n          0, 0, 0, 0, 0, 0, 0, 0, 0, 0, 0, 0, 0, 0, 0, 0, 0, 0, 0, 0, 0, 0, 0, 0,\n          0, 0, 0, 0, 0, 0, 0, 0, 0, 0, 0, 0, 0, 0, 0, 0, 0, 0, 0, 0, 0, 0, 0, 0,\n          0, 0, 0, 0, 0, 0, 0, 0, 0, 0, 0, 0, 0, 0, 0, 0, 0, 0, 0, 0, 0, 0, 0, 0,\n          0, 0, 0, 0, 0, 0, 0, 0, 0, 0, 0, 0, 0, 0, 0, 0, 0, 0, 0, 0, 0, 0, 0, 0,\n          0, 0, 0, 0, 0, 0, 0, 0, 0, 0, 0, 0, 0, 0, 0, 0, 0, 0, 0, 0, 0, 0, 0, 0,\n          0, 0, 0, 0, 0, 0, 0, 0])},\n  'columns': {'input_ids': tensor([  101,  2447,  1010,  2053,  1012,  1010, 10662,  1010,  2597,  1010,\n           2086,  1999,  4361,  1010,  2082,  1013,  2252,  2136,   102,     0,\n              0,     0,     0,     0,     0,     0,     0,     0,     0,     0,\n              0,     0,     0,     0,     0,     0,     0,     0,     0,     0,\n              0,     0,     0,     0,     0,     0,     0,     0,     0,     0,\n              0,     0,     0,     0,     0,     0,     0,     0,     0,     0,\n              0,     0,     0,     0,     0,     0,     0,     0,     0,     0,\n              0,     0,     0,     0,     0,     0,     0,     0,     0,     0,\n              0,     0,     0,     0,     0,     0,     0,     0,     0,     0,\n              0,     0,     0,     0,     0,     0,     0,     0,     0,     0,\n              0,     0,     0,     0,     0,     0,     0,     0,     0,     0,\n              0,     0,     0,     0,     0,     0,     0,     0,     0,     0,\n              0,     0,     0,     0,     0,     0,     0,     0,     0,     0,\n              0,     0,     0,     0,     0,     0,     0,     0,     0,     0,\n              0,     0,     0,     0,     0,     0,     0,     0,     0,     0,\n              0,     0,     0,     0,     0,     0,     0,     0,     0,     0,\n              0,     0,     0,     0,     0,     0,     0,     0,     0,     0,\n              0,     0,     0,     0,     0,     0,     0,     0,     0,     0,\n              0,     0,     0,     0,     0,     0,     0,     0,     0,     0,\n              0,     0,     0,     0,     0,     0,     0,     0,     0,     0,\n              0,     0,     0,     0,     0,     0,     0,     0,     0,     0,\n              0,     0,     0,     0,     0,     0,     0,     0,     0,     0,\n              0,     0,     0,     0,     0,     0,     0,     0,     0,     0,\n              0,     0,     0,     0,     0,     0,     0,     0,     0,     0,\n              0,     0,     0,     0,     0,     0,     0,     0,     0,     0,\n              0,     0,     0,     0,     0,     0,     0,     0,     0,     0,\n              0,     0,     0,     0,     0,     0,     0,     0,     0,     0,\n              0,     0,     0,     0,     0,     0,     0,     0,     0,     0,\n              0,     0,     0,     0,     0,     0,     0,     0,     0,     0,\n              0,     0,     0,     0,     0,     0,     0,     0,     0,     0,\n              0,     0,     0,     0,     0,     0,     0,     0,     0,     0,\n              0,     0,     0,     0,     0,     0,     0,     0,     0,     0,\n              0,     0,     0,     0,     0,     0,     0,     0,     0,     0,\n              0,     0,     0,     0,     0,     0,     0,     0,     0,     0,\n              0,     0,     0,     0,     0,     0,     0,     0,     0,     0,\n              0,     0,     0,     0,     0,     0,     0,     0,     0,     0,\n              0,     0,     0,     0,     0,     0,     0,     0,     0,     0,\n              0,     0,     0,     0,     0,     0,     0,     0,     0,     0,\n              0,     0,     0,     0,     0,     0,     0,     0,     0,     0,\n              0,     0,     0,     0,     0,     0,     0,     0,     0,     0,\n              0,     0,     0,     0,     0,     0,     0,     0,     0,     0,\n              0,     0,     0,     0,     0,     0,     0,     0,     0,     0,\n              0,     0,     0,     0,     0,     0,     0,     0,     0,     0,\n              0,     0,     0,     0,     0,     0,     0,     0,     0,     0,\n              0,     0,     0,     0,     0,     0,     0,     0,     0,     0,\n              0,     0,     0,     0,     0,     0,     0,     0,     0,     0,\n              0,     0,     0,     0,     0,     0,     0,     0,     0,     0,\n              0,     0,     0,     0,     0,     0,     0,     0,     0,     0,\n              0,     0,     0,     0,     0,     0,     0,     0,     0,     0,\n              0,     0,     0,     0,     0,     0,     0,     0,     0,     0,\n              0,     0,     0,     0,     0,     0,     0,     0,     0,     0,\n              0,     0]), 'token_type_ids': tensor([0, 0, 0, 0, 0, 0, 0, 0, 0, 0, 0, 0, 0, 0, 0, 0, 0, 0, 0, 0, 0, 0, 0, 0,\n          0, 0, 0, 0, 0, 0, 0, 0, 0, 0, 0, 0, 0, 0, 0, 0, 0, 0, 0, 0, 0, 0, 0, 0,\n          0, 0, 0, 0, 0, 0, 0, 0, 0, 0, 0, 0, 0, 0, 0, 0, 0, 0, 0, 0, 0, 0, 0, 0,\n          0, 0, 0, 0, 0, 0, 0, 0, 0, 0, 0, 0, 0, 0, 0, 0, 0, 0, 0, 0, 0, 0, 0, 0,\n          0, 0, 0, 0, 0, 0, 0, 0, 0, 0, 0, 0, 0, 0, 0, 0, 0, 0, 0, 0, 0, 0, 0, 0,\n          0, 0, 0, 0, 0, 0, 0, 0, 0, 0, 0, 0, 0, 0, 0, 0, 0, 0, 0, 0, 0, 0, 0, 0,\n          0, 0, 0, 0, 0, 0, 0, 0, 0, 0, 0, 0, 0, 0, 0, 0, 0, 0, 0, 0, 0, 0, 0, 0,\n          0, 0, 0, 0, 0, 0, 0, 0, 0, 0, 0, 0, 0, 0, 0, 0, 0, 0, 0, 0, 0, 0, 0, 0,\n          0, 0, 0, 0, 0, 0, 0, 0, 0, 0, 0, 0, 0, 0, 0, 0, 0, 0, 0, 0, 0, 0, 0, 0,\n          0, 0, 0, 0, 0, 0, 0, 0, 0, 0, 0, 0, 0, 0, 0, 0, 0, 0, 0, 0, 0, 0, 0, 0,\n          0, 0, 0, 0, 0, 0, 0, 0, 0, 0, 0, 0, 0, 0, 0, 0, 0, 0, 0, 0, 0, 0, 0, 0,\n          0, 0, 0, 0, 0, 0, 0, 0, 0, 0, 0, 0, 0, 0, 0, 0, 0, 0, 0, 0, 0, 0, 0, 0,\n          0, 0, 0, 0, 0, 0, 0, 0, 0, 0, 0, 0, 0, 0, 0, 0, 0, 0, 0, 0, 0, 0, 0, 0,\n          0, 0, 0, 0, 0, 0, 0, 0, 0, 0, 0, 0, 0, 0, 0, 0, 0, 0, 0, 0, 0, 0, 0, 0,\n          0, 0, 0, 0, 0, 0, 0, 0, 0, 0, 0, 0, 0, 0, 0, 0, 0, 0, 0, 0, 0, 0, 0, 0,\n          0, 0, 0, 0, 0, 0, 0, 0, 0, 0, 0, 0, 0, 0, 0, 0, 0, 0, 0, 0, 0, 0, 0, 0,\n          0, 0, 0, 0, 0, 0, 0, 0, 0, 0, 0, 0, 0, 0, 0, 0, 0, 0, 0, 0, 0, 0, 0, 0,\n          0, 0, 0, 0, 0, 0, 0, 0, 0, 0, 0, 0, 0, 0, 0, 0, 0, 0, 0, 0, 0, 0, 0, 0,\n          0, 0, 0, 0, 0, 0, 0, 0, 0, 0, 0, 0, 0, 0, 0, 0, 0, 0, 0, 0, 0, 0, 0, 0,\n          0, 0, 0, 0, 0, 0, 0, 0, 0, 0, 0, 0, 0, 0, 0, 0, 0, 0, 0, 0, 0, 0, 0, 0,\n          0, 0, 0, 0, 0, 0, 0, 0, 0, 0, 0, 0, 0, 0, 0, 0, 0, 0, 0, 0, 0, 0, 0, 0,\n          0, 0, 0, 0, 0, 0, 0, 0]), 'attention_mask': tensor([1, 1, 1, 1, 1, 1, 1, 1, 1, 1, 1, 1, 1, 1, 1, 1, 1, 1, 1, 0, 0, 0, 0, 0,\n          0, 0, 0, 0, 0, 0, 0, 0, 0, 0, 0, 0, 0, 0, 0, 0, 0, 0, 0, 0, 0, 0, 0, 0,\n          0, 0, 0, 0, 0, 0, 0, 0, 0, 0, 0, 0, 0, 0, 0, 0, 0, 0, 0, 0, 0, 0, 0, 0,\n          0, 0, 0, 0, 0, 0, 0, 0, 0, 0, 0, 0, 0, 0, 0, 0, 0, 0, 0, 0, 0, 0, 0, 0,\n          0, 0, 0, 0, 0, 0, 0, 0, 0, 0, 0, 0, 0, 0, 0, 0, 0, 0, 0, 0, 0, 0, 0, 0,\n          0, 0, 0, 0, 0, 0, 0, 0, 0, 0, 0, 0, 0, 0, 0, 0, 0, 0, 0, 0, 0, 0, 0, 0,\n          0, 0, 0, 0, 0, 0, 0, 0, 0, 0, 0, 0, 0, 0, 0, 0, 0, 0, 0, 0, 0, 0, 0, 0,\n          0, 0, 0, 0, 0, 0, 0, 0, 0, 0, 0, 0, 0, 0, 0, 0, 0, 0, 0, 0, 0, 0, 0, 0,\n          0, 0, 0, 0, 0, 0, 0, 0, 0, 0, 0, 0, 0, 0, 0, 0, 0, 0, 0, 0, 0, 0, 0, 0,\n          0, 0, 0, 0, 0, 0, 0, 0, 0, 0, 0, 0, 0, 0, 0, 0, 0, 0, 0, 0, 0, 0, 0, 0,\n          0, 0, 0, 0, 0, 0, 0, 0, 0, 0, 0, 0, 0, 0, 0, 0, 0, 0, 0, 0, 0, 0, 0, 0,\n          0, 0, 0, 0, 0, 0, 0, 0, 0, 0, 0, 0, 0, 0, 0, 0, 0, 0, 0, 0, 0, 0, 0, 0,\n          0, 0, 0, 0, 0, 0, 0, 0, 0, 0, 0, 0, 0, 0, 0, 0, 0, 0, 0, 0, 0, 0, 0, 0,\n          0, 0, 0, 0, 0, 0, 0, 0, 0, 0, 0, 0, 0, 0, 0, 0, 0, 0, 0, 0, 0, 0, 0, 0,\n          0, 0, 0, 0, 0, 0, 0, 0, 0, 0, 0, 0, 0, 0, 0, 0, 0, 0, 0, 0, 0, 0, 0, 0,\n          0, 0, 0, 0, 0, 0, 0, 0, 0, 0, 0, 0, 0, 0, 0, 0, 0, 0, 0, 0, 0, 0, 0, 0,\n          0, 0, 0, 0, 0, 0, 0, 0, 0, 0, 0, 0, 0, 0, 0, 0, 0, 0, 0, 0, 0, 0, 0, 0,\n          0, 0, 0, 0, 0, 0, 0, 0, 0, 0, 0, 0, 0, 0, 0, 0, 0, 0, 0, 0, 0, 0, 0, 0,\n          0, 0, 0, 0, 0, 0, 0, 0, 0, 0, 0, 0, 0, 0, 0, 0, 0, 0, 0, 0, 0, 0, 0, 0,\n          0, 0, 0, 0, 0, 0, 0, 0, 0, 0, 0, 0, 0, 0, 0, 0, 0, 0, 0, 0, 0, 0, 0, 0,\n          0, 0, 0, 0, 0, 0, 0, 0, 0, 0, 0, 0, 0, 0, 0, 0, 0, 0, 0, 0, 0, 0, 0, 0,\n          0, 0, 0, 0, 0, 0, 0, 0])}},\n 'labels': {'sel': 2,\n  'agg': 0,\n  'conds': (1, [0, 0, 0, 0], [1, 0, 0, 0], [[2, 2], [0, 0], [0, 0], [0, 0]])},\n 'CHECK': (['Terrence Ross'], ['terrence ross'])}"
     },
     "execution_count": 27,
     "metadata": {},
     "output_type": "execute_result"
    }
   ],
   "source": [
    "test_set[0]"
   ],
   "metadata": {
    "collapsed": false
   }
  },
  {
   "cell_type": "code",
   "execution_count": 28,
   "outputs": [],
   "source": [
    "cond_range = test_set[0]['labels']['conds'][3][0]"
   ],
   "metadata": {
    "collapsed": false
   }
  },
  {
   "cell_type": "code",
   "execution_count": 29,
   "outputs": [],
   "source": [
    "cleaned_q = list(WikiSQLDataset._generate_cond3(test_set[0]['input'][0].split()))"
   ],
   "metadata": {
    "collapsed": false
   }
  },
  {
   "cell_type": "code",
   "execution_count": 30,
   "outputs": [
    {
     "data": {
      "text/plain": "\"What is terrence ross' nationality\""
     },
     "execution_count": 30,
     "metadata": {},
     "output_type": "execute_result"
    }
   ],
   "source": [
    "test_set[0]['input'][0]"
   ],
   "metadata": {
    "collapsed": false
   }
  },
  {
   "cell_type": "code",
   "execution_count": 31,
   "outputs": [
    {
     "data": {
      "text/plain": "['what', 'is', 'terrence', \"ross'\", 'nationality']"
     },
     "execution_count": 31,
     "metadata": {},
     "output_type": "execute_result"
    }
   ],
   "source": [
    "cleaned_q"
   ],
   "metadata": {
    "collapsed": false
   }
  },
  {
   "cell_type": "code",
   "execution_count": 32,
   "outputs": [
    {
     "data": {
      "text/plain": "['terrence', \"ross'\"]"
     },
     "execution_count": 32,
     "metadata": {},
     "output_type": "execute_result"
    }
   ],
   "source": [
    "cleaned_q[cond_range[0]:cond_range[0]+cond_range[1]]"
   ],
   "metadata": {
    "collapsed": false
   }
  },
  {
   "cell_type": "code",
   "execution_count": 33,
   "outputs": [
    {
     "data": {
      "text/plain": "{'table_id': '1-10015132-16',\n 'columns': 'Player, No., Nationality, Position, Years in Toronto, School/Club Team',\n 'input': ('What clu was in toronto 1995-96',\n  'Player, No., Nationality, Position, Years in Toronto, School/Club Team'),\n 'tokenized_inputs': {'question': {'input_ids': tensor([  101,  2054, 18856,  2226,  2001,  1999,  4361,  2786,  1011,  5986,\n           2447,  1010,  2053,  1012,  1010, 10662,  1010,  2597,  1010,  2086,\n           1999,  4361,  1010,  2082,  1013,  2252,  2136,   102,     0,     0,\n              0,     0,     0,     0,     0,     0,     0,     0,     0,     0,\n              0,     0,     0,     0,     0,     0,     0,     0,     0,     0,\n              0,     0,     0,     0,     0,     0,     0,     0,     0,     0,\n              0,     0,     0,     0,     0,     0,     0,     0,     0,     0,\n              0,     0,     0,     0,     0,     0,     0,     0,     0,     0,\n              0,     0,     0,     0,     0,     0,     0,     0,     0,     0,\n              0,     0,     0,     0,     0,     0,     0,     0,     0,     0,\n              0,     0,     0,     0,     0,     0,     0,     0,     0,     0,\n              0,     0,     0,     0,     0,     0,     0,     0,     0,     0,\n              0,     0,     0,     0,     0,     0,     0,     0,     0,     0,\n              0,     0,     0,     0,     0,     0,     0,     0,     0,     0,\n              0,     0,     0,     0,     0,     0,     0,     0,     0,     0,\n              0,     0,     0,     0,     0,     0,     0,     0,     0,     0,\n              0,     0,     0,     0,     0,     0,     0,     0,     0,     0,\n              0,     0,     0,     0,     0,     0,     0,     0,     0,     0,\n              0,     0,     0,     0,     0,     0,     0,     0,     0,     0,\n              0,     0,     0,     0,     0,     0,     0,     0,     0,     0,\n              0,     0,     0,     0,     0,     0,     0,     0,     0,     0,\n              0,     0,     0,     0,     0,     0,     0,     0,     0,     0,\n              0,     0,     0,     0,     0,     0,     0,     0,     0,     0,\n              0,     0,     0,     0,     0,     0,     0,     0,     0,     0,\n              0,     0,     0,     0,     0,     0,     0,     0,     0,     0,\n              0,     0,     0,     0,     0,     0,     0,     0,     0,     0,\n              0,     0,     0,     0,     0,     0,     0,     0,     0,     0,\n              0,     0,     0,     0,     0,     0,     0,     0,     0,     0,\n              0,     0,     0,     0,     0,     0,     0,     0,     0,     0,\n              0,     0,     0,     0,     0,     0,     0,     0,     0,     0,\n              0,     0,     0,     0,     0,     0,     0,     0,     0,     0,\n              0,     0,     0,     0,     0,     0,     0,     0,     0,     0,\n              0,     0,     0,     0,     0,     0,     0,     0,     0,     0,\n              0,     0,     0,     0,     0,     0,     0,     0,     0,     0,\n              0,     0,     0,     0,     0,     0,     0,     0,     0,     0,\n              0,     0,     0,     0,     0,     0,     0,     0,     0,     0,\n              0,     0,     0,     0,     0,     0,     0,     0,     0,     0,\n              0,     0,     0,     0,     0,     0,     0,     0,     0,     0,\n              0,     0,     0,     0,     0,     0,     0,     0,     0,     0,\n              0,     0,     0,     0,     0,     0,     0,     0,     0,     0,\n              0,     0,     0,     0,     0,     0,     0,     0,     0,     0,\n              0,     0,     0,     0,     0,     0,     0,     0,     0,     0,\n              0,     0,     0,     0,     0,     0,     0,     0,     0,     0,\n              0,     0,     0,     0,     0,     0,     0,     0,     0,     0,\n              0,     0,     0,     0,     0,     0,     0,     0,     0,     0,\n              0,     0,     0,     0,     0,     0,     0,     0,     0,     0,\n              0,     0,     0,     0,     0,     0,     0,     0,     0,     0,\n              0,     0,     0,     0,     0,     0,     0,     0,     0,     0,\n              0,     0,     0,     0,     0,     0,     0,     0,     0,     0,\n              0,     0,     0,     0,     0,     0,     0,     0,     0,     0,\n              0,     0,     0,     0,     0,     0,     0,     0,     0,     0,\n              0,     0]), 'token_type_ids': tensor([0, 0, 0, 0, 0, 0, 0, 0, 0, 0, 0, 0, 0, 0, 0, 0, 0, 0, 0, 0, 0, 0, 0, 0,\n          0, 0, 0, 0, 0, 0, 0, 0, 0, 0, 0, 0, 0, 0, 0, 0, 0, 0, 0, 0, 0, 0, 0, 0,\n          0, 0, 0, 0, 0, 0, 0, 0, 0, 0, 0, 0, 0, 0, 0, 0, 0, 0, 0, 0, 0, 0, 0, 0,\n          0, 0, 0, 0, 0, 0, 0, 0, 0, 0, 0, 0, 0, 0, 0, 0, 0, 0, 0, 0, 0, 0, 0, 0,\n          0, 0, 0, 0, 0, 0, 0, 0, 0, 0, 0, 0, 0, 0, 0, 0, 0, 0, 0, 0, 0, 0, 0, 0,\n          0, 0, 0, 0, 0, 0, 0, 0, 0, 0, 0, 0, 0, 0, 0, 0, 0, 0, 0, 0, 0, 0, 0, 0,\n          0, 0, 0, 0, 0, 0, 0, 0, 0, 0, 0, 0, 0, 0, 0, 0, 0, 0, 0, 0, 0, 0, 0, 0,\n          0, 0, 0, 0, 0, 0, 0, 0, 0, 0, 0, 0, 0, 0, 0, 0, 0, 0, 0, 0, 0, 0, 0, 0,\n          0, 0, 0, 0, 0, 0, 0, 0, 0, 0, 0, 0, 0, 0, 0, 0, 0, 0, 0, 0, 0, 0, 0, 0,\n          0, 0, 0, 0, 0, 0, 0, 0, 0, 0, 0, 0, 0, 0, 0, 0, 0, 0, 0, 0, 0, 0, 0, 0,\n          0, 0, 0, 0, 0, 0, 0, 0, 0, 0, 0, 0, 0, 0, 0, 0, 0, 0, 0, 0, 0, 0, 0, 0,\n          0, 0, 0, 0, 0, 0, 0, 0, 0, 0, 0, 0, 0, 0, 0, 0, 0, 0, 0, 0, 0, 0, 0, 0,\n          0, 0, 0, 0, 0, 0, 0, 0, 0, 0, 0, 0, 0, 0, 0, 0, 0, 0, 0, 0, 0, 0, 0, 0,\n          0, 0, 0, 0, 0, 0, 0, 0, 0, 0, 0, 0, 0, 0, 0, 0, 0, 0, 0, 0, 0, 0, 0, 0,\n          0, 0, 0, 0, 0, 0, 0, 0, 0, 0, 0, 0, 0, 0, 0, 0, 0, 0, 0, 0, 0, 0, 0, 0,\n          0, 0, 0, 0, 0, 0, 0, 0, 0, 0, 0, 0, 0, 0, 0, 0, 0, 0, 0, 0, 0, 0, 0, 0,\n          0, 0, 0, 0, 0, 0, 0, 0, 0, 0, 0, 0, 0, 0, 0, 0, 0, 0, 0, 0, 0, 0, 0, 0,\n          0, 0, 0, 0, 0, 0, 0, 0, 0, 0, 0, 0, 0, 0, 0, 0, 0, 0, 0, 0, 0, 0, 0, 0,\n          0, 0, 0, 0, 0, 0, 0, 0, 0, 0, 0, 0, 0, 0, 0, 0, 0, 0, 0, 0, 0, 0, 0, 0,\n          0, 0, 0, 0, 0, 0, 0, 0, 0, 0, 0, 0, 0, 0, 0, 0, 0, 0, 0, 0, 0, 0, 0, 0,\n          0, 0, 0, 0, 0, 0, 0, 0, 0, 0, 0, 0, 0, 0, 0, 0, 0, 0, 0, 0, 0, 0, 0, 0,\n          0, 0, 0, 0, 0, 0, 0, 0]), 'attention_mask': tensor([1, 1, 1, 1, 1, 1, 1, 1, 1, 1, 1, 1, 1, 1, 1, 1, 1, 1, 1, 1, 1, 1, 1, 1,\n          1, 1, 1, 1, 0, 0, 0, 0, 0, 0, 0, 0, 0, 0, 0, 0, 0, 0, 0, 0, 0, 0, 0, 0,\n          0, 0, 0, 0, 0, 0, 0, 0, 0, 0, 0, 0, 0, 0, 0, 0, 0, 0, 0, 0, 0, 0, 0, 0,\n          0, 0, 0, 0, 0, 0, 0, 0, 0, 0, 0, 0, 0, 0, 0, 0, 0, 0, 0, 0, 0, 0, 0, 0,\n          0, 0, 0, 0, 0, 0, 0, 0, 0, 0, 0, 0, 0, 0, 0, 0, 0, 0, 0, 0, 0, 0, 0, 0,\n          0, 0, 0, 0, 0, 0, 0, 0, 0, 0, 0, 0, 0, 0, 0, 0, 0, 0, 0, 0, 0, 0, 0, 0,\n          0, 0, 0, 0, 0, 0, 0, 0, 0, 0, 0, 0, 0, 0, 0, 0, 0, 0, 0, 0, 0, 0, 0, 0,\n          0, 0, 0, 0, 0, 0, 0, 0, 0, 0, 0, 0, 0, 0, 0, 0, 0, 0, 0, 0, 0, 0, 0, 0,\n          0, 0, 0, 0, 0, 0, 0, 0, 0, 0, 0, 0, 0, 0, 0, 0, 0, 0, 0, 0, 0, 0, 0, 0,\n          0, 0, 0, 0, 0, 0, 0, 0, 0, 0, 0, 0, 0, 0, 0, 0, 0, 0, 0, 0, 0, 0, 0, 0,\n          0, 0, 0, 0, 0, 0, 0, 0, 0, 0, 0, 0, 0, 0, 0, 0, 0, 0, 0, 0, 0, 0, 0, 0,\n          0, 0, 0, 0, 0, 0, 0, 0, 0, 0, 0, 0, 0, 0, 0, 0, 0, 0, 0, 0, 0, 0, 0, 0,\n          0, 0, 0, 0, 0, 0, 0, 0, 0, 0, 0, 0, 0, 0, 0, 0, 0, 0, 0, 0, 0, 0, 0, 0,\n          0, 0, 0, 0, 0, 0, 0, 0, 0, 0, 0, 0, 0, 0, 0, 0, 0, 0, 0, 0, 0, 0, 0, 0,\n          0, 0, 0, 0, 0, 0, 0, 0, 0, 0, 0, 0, 0, 0, 0, 0, 0, 0, 0, 0, 0, 0, 0, 0,\n          0, 0, 0, 0, 0, 0, 0, 0, 0, 0, 0, 0, 0, 0, 0, 0, 0, 0, 0, 0, 0, 0, 0, 0,\n          0, 0, 0, 0, 0, 0, 0, 0, 0, 0, 0, 0, 0, 0, 0, 0, 0, 0, 0, 0, 0, 0, 0, 0,\n          0, 0, 0, 0, 0, 0, 0, 0, 0, 0, 0, 0, 0, 0, 0, 0, 0, 0, 0, 0, 0, 0, 0, 0,\n          0, 0, 0, 0, 0, 0, 0, 0, 0, 0, 0, 0, 0, 0, 0, 0, 0, 0, 0, 0, 0, 0, 0, 0,\n          0, 0, 0, 0, 0, 0, 0, 0, 0, 0, 0, 0, 0, 0, 0, 0, 0, 0, 0, 0, 0, 0, 0, 0,\n          0, 0, 0, 0, 0, 0, 0, 0, 0, 0, 0, 0, 0, 0, 0, 0, 0, 0, 0, 0, 0, 0, 0, 0,\n          0, 0, 0, 0, 0, 0, 0, 0])},\n  'columns': {'input_ids': tensor([  101,  2447,  1010,  2053,  1012,  1010, 10662,  1010,  2597,  1010,\n           2086,  1999,  4361,  1010,  2082,  1013,  2252,  2136,   102,     0,\n              0,     0,     0,     0,     0,     0,     0,     0,     0,     0,\n              0,     0,     0,     0,     0,     0,     0,     0,     0,     0,\n              0,     0,     0,     0,     0,     0,     0,     0,     0,     0,\n              0,     0,     0,     0,     0,     0,     0,     0,     0,     0,\n              0,     0,     0,     0,     0,     0,     0,     0,     0,     0,\n              0,     0,     0,     0,     0,     0,     0,     0,     0,     0,\n              0,     0,     0,     0,     0,     0,     0,     0,     0,     0,\n              0,     0,     0,     0,     0,     0,     0,     0,     0,     0,\n              0,     0,     0,     0,     0,     0,     0,     0,     0,     0,\n              0,     0,     0,     0,     0,     0,     0,     0,     0,     0,\n              0,     0,     0,     0,     0,     0,     0,     0,     0,     0,\n              0,     0,     0,     0,     0,     0,     0,     0,     0,     0,\n              0,     0,     0,     0,     0,     0,     0,     0,     0,     0,\n              0,     0,     0,     0,     0,     0,     0,     0,     0,     0,\n              0,     0,     0,     0,     0,     0,     0,     0,     0,     0,\n              0,     0,     0,     0,     0,     0,     0,     0,     0,     0,\n              0,     0,     0,     0,     0,     0,     0,     0,     0,     0,\n              0,     0,     0,     0,     0,     0,     0,     0,     0,     0,\n              0,     0,     0,     0,     0,     0,     0,     0,     0,     0,\n              0,     0,     0,     0,     0,     0,     0,     0,     0,     0,\n              0,     0,     0,     0,     0,     0,     0,     0,     0,     0,\n              0,     0,     0,     0,     0,     0,     0,     0,     0,     0,\n              0,     0,     0,     0,     0,     0,     0,     0,     0,     0,\n              0,     0,     0,     0,     0,     0,     0,     0,     0,     0,\n              0,     0,     0,     0,     0,     0,     0,     0,     0,     0,\n              0,     0,     0,     0,     0,     0,     0,     0,     0,     0,\n              0,     0,     0,     0,     0,     0,     0,     0,     0,     0,\n              0,     0,     0,     0,     0,     0,     0,     0,     0,     0,\n              0,     0,     0,     0,     0,     0,     0,     0,     0,     0,\n              0,     0,     0,     0,     0,     0,     0,     0,     0,     0,\n              0,     0,     0,     0,     0,     0,     0,     0,     0,     0,\n              0,     0,     0,     0,     0,     0,     0,     0,     0,     0,\n              0,     0,     0,     0,     0,     0,     0,     0,     0,     0,\n              0,     0,     0,     0,     0,     0,     0,     0,     0,     0,\n              0,     0,     0,     0,     0,     0,     0,     0,     0,     0,\n              0,     0,     0,     0,     0,     0,     0,     0,     0,     0,\n              0,     0,     0,     0,     0,     0,     0,     0,     0,     0,\n              0,     0,     0,     0,     0,     0,     0,     0,     0,     0,\n              0,     0,     0,     0,     0,     0,     0,     0,     0,     0,\n              0,     0,     0,     0,     0,     0,     0,     0,     0,     0,\n              0,     0,     0,     0,     0,     0,     0,     0,     0,     0,\n              0,     0,     0,     0,     0,     0,     0,     0,     0,     0,\n              0,     0,     0,     0,     0,     0,     0,     0,     0,     0,\n              0,     0,     0,     0,     0,     0,     0,     0,     0,     0,\n              0,     0,     0,     0,     0,     0,     0,     0,     0,     0,\n              0,     0,     0,     0,     0,     0,     0,     0,     0,     0,\n              0,     0,     0,     0,     0,     0,     0,     0,     0,     0,\n              0,     0,     0,     0,     0,     0,     0,     0,     0,     0,\n              0,     0,     0,     0,     0,     0,     0,     0,     0,     0,\n              0,     0]), 'token_type_ids': tensor([0, 0, 0, 0, 0, 0, 0, 0, 0, 0, 0, 0, 0, 0, 0, 0, 0, 0, 0, 0, 0, 0, 0, 0,\n          0, 0, 0, 0, 0, 0, 0, 0, 0, 0, 0, 0, 0, 0, 0, 0, 0, 0, 0, 0, 0, 0, 0, 0,\n          0, 0, 0, 0, 0, 0, 0, 0, 0, 0, 0, 0, 0, 0, 0, 0, 0, 0, 0, 0, 0, 0, 0, 0,\n          0, 0, 0, 0, 0, 0, 0, 0, 0, 0, 0, 0, 0, 0, 0, 0, 0, 0, 0, 0, 0, 0, 0, 0,\n          0, 0, 0, 0, 0, 0, 0, 0, 0, 0, 0, 0, 0, 0, 0, 0, 0, 0, 0, 0, 0, 0, 0, 0,\n          0, 0, 0, 0, 0, 0, 0, 0, 0, 0, 0, 0, 0, 0, 0, 0, 0, 0, 0, 0, 0, 0, 0, 0,\n          0, 0, 0, 0, 0, 0, 0, 0, 0, 0, 0, 0, 0, 0, 0, 0, 0, 0, 0, 0, 0, 0, 0, 0,\n          0, 0, 0, 0, 0, 0, 0, 0, 0, 0, 0, 0, 0, 0, 0, 0, 0, 0, 0, 0, 0, 0, 0, 0,\n          0, 0, 0, 0, 0, 0, 0, 0, 0, 0, 0, 0, 0, 0, 0, 0, 0, 0, 0, 0, 0, 0, 0, 0,\n          0, 0, 0, 0, 0, 0, 0, 0, 0, 0, 0, 0, 0, 0, 0, 0, 0, 0, 0, 0, 0, 0, 0, 0,\n          0, 0, 0, 0, 0, 0, 0, 0, 0, 0, 0, 0, 0, 0, 0, 0, 0, 0, 0, 0, 0, 0, 0, 0,\n          0, 0, 0, 0, 0, 0, 0, 0, 0, 0, 0, 0, 0, 0, 0, 0, 0, 0, 0, 0, 0, 0, 0, 0,\n          0, 0, 0, 0, 0, 0, 0, 0, 0, 0, 0, 0, 0, 0, 0, 0, 0, 0, 0, 0, 0, 0, 0, 0,\n          0, 0, 0, 0, 0, 0, 0, 0, 0, 0, 0, 0, 0, 0, 0, 0, 0, 0, 0, 0, 0, 0, 0, 0,\n          0, 0, 0, 0, 0, 0, 0, 0, 0, 0, 0, 0, 0, 0, 0, 0, 0, 0, 0, 0, 0, 0, 0, 0,\n          0, 0, 0, 0, 0, 0, 0, 0, 0, 0, 0, 0, 0, 0, 0, 0, 0, 0, 0, 0, 0, 0, 0, 0,\n          0, 0, 0, 0, 0, 0, 0, 0, 0, 0, 0, 0, 0, 0, 0, 0, 0, 0, 0, 0, 0, 0, 0, 0,\n          0, 0, 0, 0, 0, 0, 0, 0, 0, 0, 0, 0, 0, 0, 0, 0, 0, 0, 0, 0, 0, 0, 0, 0,\n          0, 0, 0, 0, 0, 0, 0, 0, 0, 0, 0, 0, 0, 0, 0, 0, 0, 0, 0, 0, 0, 0, 0, 0,\n          0, 0, 0, 0, 0, 0, 0, 0, 0, 0, 0, 0, 0, 0, 0, 0, 0, 0, 0, 0, 0, 0, 0, 0,\n          0, 0, 0, 0, 0, 0, 0, 0, 0, 0, 0, 0, 0, 0, 0, 0, 0, 0, 0, 0, 0, 0, 0, 0,\n          0, 0, 0, 0, 0, 0, 0, 0]), 'attention_mask': tensor([1, 1, 1, 1, 1, 1, 1, 1, 1, 1, 1, 1, 1, 1, 1, 1, 1, 1, 1, 0, 0, 0, 0, 0,\n          0, 0, 0, 0, 0, 0, 0, 0, 0, 0, 0, 0, 0, 0, 0, 0, 0, 0, 0, 0, 0, 0, 0, 0,\n          0, 0, 0, 0, 0, 0, 0, 0, 0, 0, 0, 0, 0, 0, 0, 0, 0, 0, 0, 0, 0, 0, 0, 0,\n          0, 0, 0, 0, 0, 0, 0, 0, 0, 0, 0, 0, 0, 0, 0, 0, 0, 0, 0, 0, 0, 0, 0, 0,\n          0, 0, 0, 0, 0, 0, 0, 0, 0, 0, 0, 0, 0, 0, 0, 0, 0, 0, 0, 0, 0, 0, 0, 0,\n          0, 0, 0, 0, 0, 0, 0, 0, 0, 0, 0, 0, 0, 0, 0, 0, 0, 0, 0, 0, 0, 0, 0, 0,\n          0, 0, 0, 0, 0, 0, 0, 0, 0, 0, 0, 0, 0, 0, 0, 0, 0, 0, 0, 0, 0, 0, 0, 0,\n          0, 0, 0, 0, 0, 0, 0, 0, 0, 0, 0, 0, 0, 0, 0, 0, 0, 0, 0, 0, 0, 0, 0, 0,\n          0, 0, 0, 0, 0, 0, 0, 0, 0, 0, 0, 0, 0, 0, 0, 0, 0, 0, 0, 0, 0, 0, 0, 0,\n          0, 0, 0, 0, 0, 0, 0, 0, 0, 0, 0, 0, 0, 0, 0, 0, 0, 0, 0, 0, 0, 0, 0, 0,\n          0, 0, 0, 0, 0, 0, 0, 0, 0, 0, 0, 0, 0, 0, 0, 0, 0, 0, 0, 0, 0, 0, 0, 0,\n          0, 0, 0, 0, 0, 0, 0, 0, 0, 0, 0, 0, 0, 0, 0, 0, 0, 0, 0, 0, 0, 0, 0, 0,\n          0, 0, 0, 0, 0, 0, 0, 0, 0, 0, 0, 0, 0, 0, 0, 0, 0, 0, 0, 0, 0, 0, 0, 0,\n          0, 0, 0, 0, 0, 0, 0, 0, 0, 0, 0, 0, 0, 0, 0, 0, 0, 0, 0, 0, 0, 0, 0, 0,\n          0, 0, 0, 0, 0, 0, 0, 0, 0, 0, 0, 0, 0, 0, 0, 0, 0, 0, 0, 0, 0, 0, 0, 0,\n          0, 0, 0, 0, 0, 0, 0, 0, 0, 0, 0, 0, 0, 0, 0, 0, 0, 0, 0, 0, 0, 0, 0, 0,\n          0, 0, 0, 0, 0, 0, 0, 0, 0, 0, 0, 0, 0, 0, 0, 0, 0, 0, 0, 0, 0, 0, 0, 0,\n          0, 0, 0, 0, 0, 0, 0, 0, 0, 0, 0, 0, 0, 0, 0, 0, 0, 0, 0, 0, 0, 0, 0, 0,\n          0, 0, 0, 0, 0, 0, 0, 0, 0, 0, 0, 0, 0, 0, 0, 0, 0, 0, 0, 0, 0, 0, 0, 0,\n          0, 0, 0, 0, 0, 0, 0, 0, 0, 0, 0, 0, 0, 0, 0, 0, 0, 0, 0, 0, 0, 0, 0, 0,\n          0, 0, 0, 0, 0, 0, 0, 0, 0, 0, 0, 0, 0, 0, 0, 0, 0, 0, 0, 0, 0, 0, 0, 0,\n          0, 0, 0, 0, 0, 0, 0, 0])}},\n 'labels': {'sel': 5,\n  'agg': 0,\n  'conds': (1, [4, 0, 0, 0], [1, 0, 0, 0], [[5, 1], [0, 0], [0, 0], [0, 0]])},\n 'CHECK': (['1995-96'], ['1995-96'])}"
     },
     "execution_count": 33,
     "metadata": {},
     "output_type": "execute_result"
    }
   ],
   "source": [
    "test_set[1]"
   ],
   "metadata": {
    "collapsed": false
   }
  },
  {
   "cell_type": "code",
   "execution_count": 34,
   "outputs": [
    {
     "name": "stdout",
     "output_type": "stream",
     "text": [
      "Can I Love? -- can i love -- Which examples ask the existential question \"Can I Love?\"\n",
      "\"Hell\" -- hell -- what's the original air date with title  \"hell\"\n",
      "\"Poppin' Tags\" -- poppin' tags -- How many episodes in season 6 titles \"Poppin' Tags\"?\n",
      "\"Lockdown\" -- lockdown -- How many series are named \"Lockdown\"?\n",
      "\"House of Cards\" -- house of cards -- What was the latest episode of \"House of Cards\"?\n",
      "\"The Birthday Present\" -- the birthday present -- What was the # for the episode \"the birthday present\"?\n",
      "\"The Wedding\" -- the wedding -- What was the # for the episode \"the wedding\"?\n",
      "\"Bad Influence\" -- bad influence -- What is the series number for the title \"Bad Influence\"\n",
      "\"Na Jane Aise Ho Gaya Kaise\" -- na jane aise ho gaya kaise -- What was the lyricst of \"na jane aise ho gaya kaise\"?\n",
      "\"Jekhanete Jaai Ami 1\" -- jekhanete jaai ami 1 -- who is the music director for the song \"jekhanete jaai ami 1\"?\n",
      "\"Detalles\" -- detalles -- What is the order number for the song choice \"detalles\"? \n",
      "\"The Great Mayoralty Campaign\" -- the great mayoralty campaign -- How many episodes had a title \"the great mayoralty campaign\"?\n",
      "\"Dermabrasion\" -- dermabrasion -- What is the total number of u.s. air dates with a title of \"dermabrasion\"\n",
      "\"But There's Clay\" -- but there's clay -- What is the production code of the episode titled, \"But there's Clay\"?\n",
      "\"Responsible Parties\" -- responsible parties -- What date did the episode called \"Responsible Parties\" air on?\n",
      "\"Anxiety\" -- anxiety -- When did the part 1 of the episode \"Anxiety\" air?\n",
      "\"Anxiety\" -- anxiety -- What's the episode number of \"Anxiety\"?\n",
      "\"Guerillas in the Mist\" -- guerillas in the mist -- How many of the episodes were titled \"Guerillas in the Mist\"?\n",
      "\"Ambush\" (Part 1) -- ambush (part 1) -- Who is the writer of the episode called \"Ambush\" (part 1)?\n",
      "\"Hell Bent for Leather\" -- hell bent for leather -- When did the episode \"Hell bent for leather\" originally air?\n",
      "\"Quitters\" -- quitters -- What's the season number of the episode titled \"Quitters\"?\n",
      "bumped St. Catharine's -- bumped st. catharine --  how many 1st day with 3rd day being bumped st. catharine's\n",
      "\" Save the Last Dance for Me \" -- save the last dance for me --  how many artbeingt with song title being \" save the last dance for me \"\n",
      "6' 2\" -- 6' 2 -- What is the weight for the player who is 6' 2\"?\n",
      "428650 -- $428650 -- What purses had a winners share equal to $428650?\n",
      "\"Forever in a Day\" -- forever in a day -- Who wrote the episode \"Forever In A Day\"?\n",
      "\"Topsy Turvy\" -- topsy turvy -- What is the airdate when the title is \"topsy turvy\"?\n",
      "\"Poussières d'étoiles\" -- poussières d'étoiles -- Name the air date france for \"poussières d'étoiles\"\n",
      "\"Inventor Bunnies\" -- inventor bunnies -- Name the french title for english title of \"inventor bunnies\"\n",
      "\"La pêche au trésor\" -- la pêche au trésor -- Name the air date france for \"la pêche au trésor\"\n",
      "\"L'expédition glaciale\" -- l'expédition glaciale -- Name the original beechwood bunny tale for \"l'expédition glaciale\"\n",
      "\"Kevin's Big Score\" -- kevin's big score -- What is the number in series for the episode titled \"Kevin's Big Score\"?\n",
      "\"Pier Pressure\" -- pier pressure -- Who was the writer of the episode titled \"Pier Pressure\"?\n",
      "M. Van der Goten ( BEL ) --  -- Name the 3 where weightlifter is m. van der goten ( bel )\n",
      "\"Grumpy Old Bees\" -- grumpy old bees -- Which season had the \"grumpy old bees\" episodes?\n",
      "\"Dogcatcher in the Rye\" -- dogcatcher in the rye -- How many episodes were named \"Dogcatcher in the Rye\"?\n",
      "\"The Telenovela\" -- the telenovela -- When \"the telenovela\" is the title how many series numbers are there?\n",
      "\"Breakthrough\" \"Burēku surū\" (ブレーク·スルー) -- breakthrough burēku surū (ブレーク·スルー) -- What is the number of theWhat is the number of the chapter that is called \"breakthrough\" \"burēku surū\" (ブレーク·スルー)?\n",
      "\"Takeback\" \"Tēkubakku\" (テークバック) -- takeback tēkubakku (テークバック) -- Which are dates of transmission in English of the title \"takeback\" \"tēkubakku\" (テークバック)\n",
      "Series 5 -- series 5\" -- How many  dvd  titled \"series 5\" were released having a release date or a non available date in region 2?\n",
      "\"One to Go\" (Part 2) -- one to go (part 2) -- What is every \"directed by\" when the title is \"One To Go\" (part 2)?\n",
      "\"Got to Get Her Out of My House\" -- got to get her out of my house -- What's the production code of the episode titled \"Got to get her out of my house\"?\n",
      "\"He Ain't a Hottie, He's My Brother\" -- he ain't a hottie, he's my brother -- What's the production code of the episode titled \"He ain't a hottie, he's my brother\"?\n",
      "\"Dead on Arrival\" -- dead on arrival -- What number episode in the season was titled \"Dead on Arrival\"?\n",
      "307 VS. -- 307 vs -- which episode was Transmitted on wednesday if the episode of \"307 vs.\" was transmitted on friday?  \n",
      "\"Hunted\" -- hunted -- What's the series number for the episode titled \"Hunted\"?\n",
      "\"Born Under a Bad Sign\" -- born under a bad sign -- How many different people directed the episode titled \"Born under a bad sign\"?\n",
      "\"Car Wars\" -- car wars -- When \"car wars\" is the title what is the air date?\n",
      "\"C'est la Vinnie\" -- c'est la vinnie -- When \"c'est la vinnie\" is the title what is the air date?\n",
      "\"To Live and Die in Brentwood\" -- to live and die in brentwood -- When \"to live and die in brentwood\" is the title what is the largest production code?\n",
      "Bill Finger Edmond Hamilton Dick Sprang , et al. -- bill finger edmond hamilton dick sprang , et al -- Name the # for bill finger edmond hamilton dick sprang , et al.\n",
      "思 sī, \"thought\" -- 思 sī, thought -- What is the intelligence os the one that has 思 sī, \"thought\"?\n",
      "376 -- $376 -- How much was spent in 1949/50 (in $ millions) in the country where the cumulative expenditure is $376 millions?\n",
      "59 -- $59 -- What country spent $59 millions in 1949/50?\n",
      "232 -- 232$ -- What's the 1949/50 expenditure (in $ millions) in the country where the 1948/49 expenditure was 232$ millions?\n",
      "921 -- $921 -- What's the 1948/49 expenditure (in $ millions) in the country whose 1949/50 expenditure is $921 millions?\n",
      "59 -- 59% -- What is the minimum length of the locations where the average climb percentage is exactly 59%?\n",
      "\"Family Recipe\" -- family recipe -- When did the episode titled \"family recipe\" originally air? \n",
      "\"Authority Vested\" -- authority vested -- What episode is titled \"Authority Vested\"?\n",
      "\"Andare Pescare\" -- andare pescare -- Who directed the episode titled \"Andare Pescare\"?\n",
      "Baccalaureate college --  -- What was the enrollment (2005) for baccalaureate colleges , for Granite State College?\n",
      "470,000 -- $470,000 -- How many times could you earn $470,000 as the grand prize?\n",
      "0 - 1 Barbiero 78' -- 0 - 1 barbiero 78 -- When 0 - 1 barbiero 78' is the score how many measurements of attendance are there?\n",
      "3 - 1 Hughes 64' -- 3 - 1 hughes 64 -- When 3 - 1 hughes 64' is the score what is the stadium?\n",
      "1 - 1 Leckie 90+3' -- 1 - 1 leckie 90+3 -- When 1 - 1 leckie 90+3' is the score what is the stadium?\n",
      "Pokémon ieru kana? BW -- pokémon ieru kana bw -- When  pokémon ieru kana? bw is the romaji who is the vocalist?\n",
      "\"Loathe and Marriage\" -- loathe and marriage -- Who directed \"loathe and marriage\"?\n",
      "\"iGo Nuclear\" -- igo nuclear -- What episode number in the series was \"igo nuclear\"?\n",
      "\"Route 666 (Part 1)\" -- route 666 (part 1) -- When did the episode titled \"Route 666 (part 1)\" air for the first time?\n",
      "\"Vexation of Spirit\" -- vexation of spirit -- How many series numbers belong to the episode \"Vexation of Spirit\"? \n",
      "\"My Comedy Show\" -- my comedy show -- What episode number in the season was \"my comedy show\"?\n",
      "\"Risky Business\" -- risky business -- Who directed the episode titled \"Risky Business\"?\n",
      "\"Redemptio\" -- redemptio -- Who directed the episode titled \"Redemptio\"?\n",
      "\"Kärleken vänder allt\" (The love turns everything) -- kärleken vänder allt (the love turns everything) -- What is the position of \"kärleken vänder allt\" (the love turns everything)?\n",
      "\"Kärleken vänder allt\" (The love turns everything) -- kärleken vänder allt (the love turns everything) -- What is the position of \"kärleken vänder allt\" (the love turns everything)?\n",
      "\"Something New\" -- something new -- What was the original airdate for \"Something New\"?\n",
      "\"La Ribambelle enquête\" -- la ribambelle enquête -- How many English translations were made for the story originally titled \"La Ribambelle Enquête\"?\n",
      "\"La Ribambelle aux Galopingos\" -- la ribambelle aux galopingos -- What was the English translation of \"La Ribambelle Aux Galopingos\"?\n",
      "Madison Square Garden ( New York City, New York ) --  -- When madison square garden ( new york city, new york ) is the tournament venue (city) what is the conference tournament?\n",
      "\"Sheep Thrills\" -- sheep thrills -- When \"sheep thrills\" is the title what is the air date?\n",
      "\"Hey Now Hey Now Perry's Girlfriend's Back\" -- hey now hey now perry's girlfriend's back -- Who directed \"hey now hey now perry'S girlfriend's back\"?\n",
      "\"Rebecca's One Night Stand\" -- rebecca's one night stand -- How many dates did \"Rebecca's one night stand\" originally air on?\n",
      "\"The Boss\" -- the boss -- What was the original air date of \"The Boss\"?\n",
      "\"Southwestern Exposure\", a twelve-egg omelette -- southwestern exposure, a twelve-egg omelette -- What is the original airdate of the episode where the challenge is \"Southwestern Exposure\", a twelve-egg omelette\"?\n",
      "\"7-pound monster breakfast burrito\" -- 7-pound monster breakfast burrito -- What is the original airdate of the episode where the challenge is a \"7-pound monster breakfast burrito\"?\n",
      "\"Shotgun\" -- shotgun -- Who directed the episode entitled \"Shotgun\"?\n",
      "\"The Mayor Of Northolt\" -- the mayor of northolt -- What was the production count of \"The Mayor of Northolt\"?\n",
      "\"Mine’s A Double\" -- mine’s a double -- What is the production number for the episode named \"mine’s a double\"?\n",
      "\"Baby Talk\" -- baby talk -- List the 1st air date for the episode titled \"baby talk\".\n",
      "\"Parent Trap\" -- parent trap -- What episode number in the season is \"parent trap\"?\n",
      "\"P.R.-mageddon\" -- p.r.-mageddon -- Who was the guest on the episode where The Word was \"P.R.-mageddon\"?\n",
      "\"The Looking Glass\" -- the looking glass -- How many items are listed under the column 'viewing figure' for \"the looking glass\"?\n",
      "\" Old Friend \" -- old friend -- Who directed the episode with a title of \" old friend \"?\n",
      "\"Unprepared\" -- unprepared -- What was the original air date of \"unprepared\"?\n",
      "\"Crash\" -- crash -- Who wrote the episode \"crash\"?\n",
      "\"Taking It on the Chin\" -- taking it on the chin -- What is the original airdate of the episode titled \"Taking it on the Chin\"?\n",
      "\"Puppy Love\" -- puppy love -- What number in the series episode was titled \"Puppy Love\"?\n",
      "\"The Big Job\" -- the big job -- What is the number of air dates titled \"The Big Job\"?'\n",
      "\"Stumped Again / The Kick Stays in the Picture\" -- stumped again / the kick stays in the picture -- What episode number was \"Stumped Again / The Kick Stays in the Picture\"?\n",
      "\"65 Million Years Off\" -- 65 million years off -- What is the episode number in the season titled \"65 million years off\"?\n",
      "\"Harry Bladder Special\" -- harry bladder special -- what is the series number of the \"harry bladder special\"?\n",
      "\"Big Kings on Campus\" -- big kings on campus -- Who wrote the episode titled \"big kings on campus\"?\n",
      "\"Revenge of the Mummy\" -- revenge of the mummy -- How many episodes have the title \"revenge of the mummy\"?\n",
      "\"The Grandfather\" -- the grandfather -- How many millions of people watched the episode \"The Grandfather\"?\n",
      "\"The Legacy\" -- the legacy -- When \"the legacy\" is the title what is the production code?\n",
      "\"Pocket Pussy\" -- pocket pussy -- Who wrote \"pocket pussy\"?\n",
      "\"It's Called Hazing, Look It Up\" -- it's called hazing, look it up -- How many episodes are titled \"it's called hazing, look it up\"?\n",
      "\"Forests of Prejudice\" -- forests of prejudice -- Name the number of ratings for \"forests of prejudice\"\n",
      "\"Burning Down the House\" -- burning down the house -- What number in the season was \"Burning Down the House\"?\n",
      "\"I Wish I Was the Moon\" -- i wish i was the moon -- How many episodes were titled \"I Wish I Was the Moon\"?\n",
      "\"You Smell Like Dinner\" -- you smell like dinner -- How many million viewers watched \"You Smell like Dinner\"?\n",
      "\"Dance Cards and Greeting Cards\" -- dance cards and greeting cards -- What is the episode number of \"Dance Cards and Greeting Cards\"?\n",
      "\"Running the Gauntlet\" -- running the gauntlet -- Who directed \"running the gauntlet\"?\n",
      "\"What You Mean By Home\" -- what you mean by home -- Who wrote \"what you mean by home\"?\n",
      "\"Teased\" -- teased -- What episode in the series is \"teased\"?\n",
      "\"Sympathy\" -- sympathy -- What date did \"sympathy\" originally air?\n",
      "\"All Guts, No Glory\" -- all guts, no glory -- Who is the director when the title is listed as \"all guts, no glory\"?\n",
      "\"Best Laid Plans\" -- best laid plans -- What number episode in the series was titled \"Best Laid Plans\"?\n",
      "\"The Drum Major\" -- the drum major -- What episode number in the series is \"the drum major\"?\n",
      "[[|]] 4 points -- 4 points -- What are all the winning records when the result is Scotland won on points table and the Runner-Up result is [[|]] 4 points?\n",
      "[[|]] 4 points -- 4 points -- What was the final venue whene England hasted the competition and the runner-up record is [[|]] 4 points and the winner record is [[|]] 6 points?\n",
      "[[|]] 6 points -- 6 points -- What was the final venue whene England hasted the competition and the runner-up record is [[|]] 4 points and the winner record is [[|]] 6 points?\n",
      "\"It's Better to Burn Out Than Fae Away\" -- it's better to burn out than fae away -- How many people watched \"it's better to burn out than fae away\"?\n",
      "\"The Secret of Deep Stadium\" -- the secret of deep stadium -- When \"the secret of deep stadium\" is the episode title what is the lowest series number?\n",
      "\"Miss Mystic Falls\" -- miss mystic falls -- How many millions of U.S viewers watched the episode titled \"Miss Mystic Falls\"?\n",
      "\"There Goes the Neighborhood\" -- there goes the neighborhood -- Who wrote the episode titled \"There Goes the Neighborhood\"? \n",
      "\"My Fair Rebound\" -- my fair rebound -- What number episode in the series was titled \"My Fair Rebound\"?\n",
      "\"World's Greatest Dick\" -- world's greatest dick -- How many episodes of the season had the title, \"world's greatest dick\"?\n",
      "\"Dick Jokes\" -- dick jokes -- How many dates did \"dick jokes\" originally air on?\n",
      "\"Romeo & Juliet & Dick\" -- romeo & juliet & dick -- Who wrote \"romeo & Juliet & dick\"?\n",
      "\"Many Happy Returns\" -- many happy returns -- What episode number in the season is \"many happy returns\"?\n",
      "\"Knight Sting\" -- knight sting -- How many episodes in the season were named \"knight sting\"?\n",
      "\"Shattered\" -- shattered -- What number episode in the season was titled \"Shattered\"?\n",
      "21 -- 2006-06-21 -- Tell me the average spectators for 2006-06-21 and time more than 21\n",
      "75 -- 75% -- What are the fewest losses for a player lower than 3, with wins fewer than 75%, 0 draws and 56 points?\n",
      "100 -- 100% -- What is the smallest draws for a player larger than 2 with a 100% wins?\n",
      "56.15 -- 56.15% -- What is the average draws for a player larger than 16 with more than 1 tries and a win percentage smaller than 56.15%?\n",
      "tony o'sullivan -- tony oullivan -- What is Tony O'Sullivan's county?\n",
      "50,000 -- $50,000 -- What was the score for the tournament that had a winner's share of $50,000?\n",
      "28,000 -- $28,000 -- What date was the tournament that had a winner's share of $28,000?\n",
      "530,808 -- $530,808 -- Add up all the events whose earnings is less than $530,808, have less than 2 wins and is ranked lower than 5.\n",
      "\"from hong kong to ulaanbaatar\" -- from hong kong to ulaanbaatar -- What is the broadcast date for the episode titled, \"From Hong Kong to Ulaanbaatar\"?\n",
      "\"st. petersburg to tashkent\" -- st. petersburg to tashkent -- What is the broadcast date for the episode titled, \"St. Petersburg to Tashkent\"?\n",
      "44 -- 44+ -- What is the shot % with a 44+ Ends Lost, skip Cathy King, and smaller than 13 Black Ends?\n",
      "6,028,927 -- $6,028,927 -- What is the lowest number of wins for tom watson who is ranked larger than number 1 and makes more than $6,028,927?\n",
      "60,000-->58,000 koku -- 60,000--58,000 koku -- What is the tenure of the person with revenues of 60,000-->58,000 koku?\n",
      "– --  -- Which League that has no playoffs in the Year of 2008–09?\n",
      "10 -- top-10 -- Name the average top-10 for cuts made of 10 and top-25 more than 6\n",
      "14 -- 14% -- Which track in Austria has Bobsleigh-skeleton curves with a grade of 14%?\n",
      "15 -- 15% -- What is the shortest length of a track in Norway that has a maximum grade of 15% and a vertical drop less than 122.22 m?\n",
      "|| 36,388 ||15-7|| -- 36,388 ||15-7|| -- Who was the Opponent when the Save was || 36,388 ||15-7||?\n",
      "katee shean stephen \"twitch\" boss -- katee shean stephen twitch boss -- What is Choreographer(s), when Chosen By is Mary Murphy, and when Couple is Katee Shean Stephen \"Twitch\" Boss?\n",
      "10 -- top-10 -- What was the highest Top-10, when the Top-5 was greater than 3, when the Cuts made were 20, and when the Top-25 was more than 10?\n",
      "- 17 --  -- What is the average Against when the drawn is more than 2 and the Difference of- 17, and a Played smaller than 20?\n",
      "memphis grizzlies ( 2) -- memphis grizzlies ( 2) ) -- What is the Result when the memphis grizzlies ( 2) were the loser?\n",
      "42 m. -- 42 m -- What is the year built of the home with a built status and a 42 m. height?\n",
      "42 m. -- 42 m -- What is the highest number of stories in homes with a height of 42 m.?\n",
      "the three pintos (die drei pintos) -- the conductor of the three pintos -- Who was the Conductor of the Three Pintos (Die Drei Pintos) Production?\n",
      "103.5 --  -- Which call sign, broadcast at less than 103.5MHz, has an ERP W of 50?\n",
      "1.35 --  -- What is the socket related to the processor released on June 22, 2005, having a frequency of 1600MHz and voltage under 1.35V?\n",
      "sky cinema + sky hd -- sky cinema passion hd -- What is HDTV, when Content is Cinema, when Package/Option is Sky Cinema + Sky HD, and when Television Service is Sky Cinema Passion HD?\n",
      "118 -- 118% -- How many people live where there are 118% of people have phones?\n",
      "a --  -- During the Tournament in which Jiří Novák was absent(A) in 1995, absent(A) in 1997, and made it to the 3rd round (3R) in 2003, how did he do in 2006?\n",
      "a --  -- During the Tournament in which Jiří Novák was absent(A) in 1995, absent(A) in 1997, and made it to the 3rd round (3R) in 2003, how did he do in 2006?\n",
      "3r -- (3r) -- During the Tournament in which Jiří Novák was absent(A) in 1995, absent(A) in 1997, and made it to the 3rd round (3R) in 2003, how did he do in 2006?\n",
      "a --  -- In the Hamburg Masters Tournament, during which Jiří Novák was absent(A) in 1996, how did he do in 2003?\n",
      "a --  -- In the Tournament during which Jiří Novák was absent(A) in 2004, how did he do in 2003?\n",
      "1r --  -- In the Tournament during which Jiří Novák made it to the 1st round(1R) in 1995, how did he do in 2001?\n",
      "a --  -- During the Hamburg Masters Tournament, during which Jiří Novák was absent(A) in 1998, how did he do in 1997?\n",
      "1975? -- 1975 -- What is the resurrection of 144,000 date with a start of Christ's presence date in 1914, a separation of sheep & goats during Christ's presence, and a great tribulation date in 1975?\n",
      "players' -- players -- Which 2007–08 event has 2008–09 of dnp and an Event of players'?\n",
      "antonio davis (12) --  -- What is the Score for the Game less than 21, and of antonio davis (12)had the High rebounds?\n",
      "204.9 --  -- What is the average sales for the company with market value of 204.9bil and profits under 20.6bil?\n",
      "20.6 --  -- What is the average sales for the company with market value of 204.9bil and profits under 20.6bil?\n",
      "5,000 -- $5,000 -- What was the score of the player who earned $5,000?\n",
      "9,000 -- $9,000 -- What country is the player who earned $9,000 from?\n",
      "#154 -- 154 -- What is the NHL team for Round 5 and an overall ranking of #154?\n",
      "#195 -- 195 -- Who is the player on round 7 with an overall ranking of #195?\n",
      "\"sono io\" -- sono io -- What is the original name for the song \"Sono Io\"?\n",
      "\"we rock\" -- we rock -- Who were the singers for the song \"We Rock\" in French?\n",
      "\"this is me\" -- this is me -- Who was the singer of \"This is Me\" in Sweden?\n",
      "24,542 -- $24,542 -- What is the score of the United States, which has more than $24,542?\n",
      "3,616 --  -- What is the total population for the 3,616km area?\n",
      "200 mhz -- 200 mhz -- Which Multiplier has a Front Side Bus of 200 mhz, and a Frequency of 1200 mhz?\n",
      "1200 mhz -- 1200 mhz -- Which Multiplier has a Front Side Bus of 200 mhz, and a Frequency of 1200 mhz?\n",
      "1333 mhz -- 1333 mhz -- Which L2-Cache has a Frequency of 1333 mhz, and a Model Number of c3 1.3a?\n",
      "1.4 v -- 1.4 v -- Which Front Side Bus has a Voltage of 1.4 v, and a Frequency of 1333 mhz?\n",
      "1333 mhz -- 1333 mhz -- Which Front Side Bus has a Voltage of 1.4 v, and a Frequency of 1333 mhz?\n",
      "\"a family affair\" -- a family affair -- What is Viewers, when Episode is \"A Family Affair\"?\n",
      "\"farmer picks a wife\" -- farmer picks a wife -- What is the lowest Share, when Episode is \"Farmer Picks A Wife\"?\n",
      "12,241 --  -- What is the lowest population (2011) for the community with an Area of 12,241km2 and a Density (inhabitants/km 2) smaller than 21.1?\n",
      "\"the way to your heart\" -- the way to your heart -- What is the Length, when the Title is \"The Way To Your Heart\"?\n",
      "currie cup \"b\" section -- currie cup b section -- What was the sum of the numbers listed under against when currie cup \"b\" section was the opposing team?\n",
      "all times are in eastern. -- all times are in eastern -- What is Site, when Opponent is \"All times are in eastern.\"?\n",
      "11 -- 2010-11 -- What is the sum of 2010-11 when the rank is greater than 11?\n",
      "71 [ dead link ] --  -- What is Name, when Goals is \"80\", and when Club Source [I ] is \"71 [ dead link ]\"?\n",
      "#7 -- 7 -- When was the premiere of the show that had a rank of #7?\n",
      "\" the doctor dances \" -- the doctor dances -- Which Original airdate (UK) has a Doctor Who episode of \" the doctor dances \"?\n",
      "moved to run a farm with boyfriend jake. -- moved to run a farm with boyfriend jake -- What is Number Of Episodes, when Notes is \"Moved to run a farm with boyfriend Jake.\"?\n",
      "0.625 -- 0.625% -- What is the low loss total for teams with under 3 years and a less than 0.625% winning percentage?\n",
      "500,000 -- $500,000 -- What is average prize for first place with a $500,000 purse in the Franklin Quest Championship?\n",
      "analog -- digital/analog -- What is the Retail name with a Digital/analog signal with analog, and a Chipset based on with radeon 9600?\n",
      "\"ne izdajte me\" -- ne izdajte me -- What is the draw total that has under 5 places, under 62 points, and a Song of \"ne izdajte me\"?\n",
      "1,579,988 -- $1,579,988 -- What's the wins with less than 27 events and earnings of $1,579,988?\n",
      "\"petra-gate\" -- petra-gate -- On what date did the episode \"Petra-Gate\" air?\n",
      "\"after hours\" -- after hours -- What was the rating of the episode \"After Hours\"?\n",
      "\"outside the box\" -- outside the box -- What is the episode number of the episode titled \"Outside the Box\"?\n",
      "\"hand to hand\" -- hand to hand -- Who directed the episode titled \"Hand to Hand\"?\n",
      "\"threshold of pain\" -- threshold of pain -- What is the episode number of the episode titled \"Threshold of Pain\"?\n",
      "10 -- 10,with -- What is the highest +1d12 (6) with a 3d6 or 1d20 Resolution (+10) larger than 10,with a +1d6-1d6 or +1d10-1d10 (+0) of 4, with 1d10 Resolution (+5) larger than 9?\n",
      "\"budi tu\" -- budi tu -- What's the highest points for song \"budi tu\" with draw less than 7?\n",
      "\"starac i more\" -- starac i more -- What's the lowest place for song \"starac i more\" with draw over 13?\n",
      "* dane -- dane -- What is the population (hab) when the distance medellin downtown (km) is * dane?\n",
      "+ 1:39.591 -- 1:39.591 -- How many laps are associated with a time of + 1:39.591?\n",
      "+ 4 laps -- 4 laps -- I want the total number of Laps for time/retired for + 4 Laps and grid more than 20\n",
      "big brother 13 -- big brother 13\" -- Who was the presenter on Monday of \"Big Brother 13\" in which Alice Levine Jamie East presented on Sunday?\n",
      "us 83 bus. -- us 83 bus -- What is the length of the highway with junctions i-35 us 83 and named us 83 bus.?\n",
      "997 -- 997,more -- Which name has an Order smaller than 997,more than 5 goals, and 215 games?\n",
      "+ 4 laps -- 4 laps -- How many laps have a Time/Retired of + 4 laps, and a Driver of graham hill?\n",
      "\"parting glances\" -- parting glances -- Who wrote the title \"Parting Glances\" ?\n",
      "15.4\" -- 15.4 -- What is the memory type with a form factor of 15.4\", and a Model of precision m65?\n",
      "2,708,005 -- $2,708,005 -- What is the highest rank of the player who played 30 events and made less than $2,708,005?\n",
      "\"before the clock strikes 12\" -- before the clock strikes 12\" -- The song \"Before the Clock Strikes 12\" has 55 points. What number did the song place?\n",
      "0.2 -- 2 -- What's the total long for an avg/g over 0.2, fewer than 2 loss, and a gain less than 8?\n",
      "10 + 10 + 10 = 30 -- 10 + 10 = 30 -- What Date performed has a Scores by each individual judge of 10 + 10 + 10 = 30, and a Main contestant of karanvir bohra?\n",
      "sc -- (sc/st/none) -- Which Number of electorates (2009) has a District of jhajjar, and a Reserved for (SC/ST/None) of sc, and a Constituency number smaller than 66?\n",
      "none -- /none -- Name the Number of electorates (2009 which has a Reserved for ( SC / ST /None) of none, and a Name of jahanabad?\n",
      "none -- /none -- What is the name for Nagpur district, with a reserved for ( SC / ST /None) of none, and a Constituency number of 59?\n",
      "0.406 -- 0.406% -- What is the All Home with less than 0.406% All Games?\n",
      "bf.109g-2 \"yellow 2\" -- bf.109g-2 yellow 2 -- What was the Soviet Unit when the Enemy Aircraft was bf.109g-2 \"yellow 2\"?\n",
      "bf.109g-? w.nr.? -- bf.109g- w.nr. -- What was the date of the victory when the Soviet Unit was 73 giap, and the Enemy Aircraft was bf.109g-? w.nr.?\n",
      "luftwaffe (**) -- luftwaffe -- What was the aircraft flown when the axis unit was luftwaffe (**) and the enemy aircraft was ju.88?\n",
      "yak-1b \"white 23\" -- yak-1b white 23 -- What is the axis unit of the aircraft yak-1b \"white 23\", flown on 19.07.1943?\n",
      "450 -- $450 -- Which player has $450 and a score of 76-74-74-72=296?\n",
      "82 -- $82 -- Which ranking has money of $82 and Al Watrous as the player?\n",
      "0+1 -- 1 -- What Rd 3 has a Rd 2 1 of 0+1?\n",
      "35.666 --  -- What is the average population of the township having land of 35.666sqmi and GEO ID over 3807364500?\n",
      "\"a safe place\" -- a safe place -- What season had the title \"A Safe Place\"?\n",
      "\"solitary confinement\" -- solitary confinement -- What season was the episode \"Solitary Confinement\", written by Fiona Kelly?\n",
      "\"the six stages of marshall\" -- the six stages of marshall -- Who wrote \"The Six Stages of Marshall\"?\n",
      "\"memories by moonlight\" -- memories by moonlight -- With the title \"Memories by Moonlight\", and a less than 39 number in season, and a greater than 66 number in series, who was the written by?\n",
      "\"life class\" -- life class -- Who directed the episode that was greater than 74 in the series, and had \"Life Class\" as the title?\n",
      "\"facing the music\" -- facing the music -- What episode number in the series was \"facing the music\" that was episode number greater than 6 in the season?\n",
      "/ɸ/; /b/ --  -- Which Gothic Letter has Proto-Germanic origin of /ɸ/; /b/?\n",
      "3,600 -- $3,600 -- What is the score for the player who won $3,600?\n",
      "ថ្ងៃអាទិត្យ [tŋaj ʔaatɨt ] -- ថ្ងៃអាទិត្យ [tŋaj ʔaatɨt -- What is the result of Saturday that's ថ្ងៃអាទិត្យ [tŋaj ʔaatɨt ] on Sunday?\n",
      "'take away, remove' -- take away, remove -- What is the imperfect stem of the word that means 'take away, remove'?\n",
      "guard -- (guard) -- When was tony parker (guard) born?\n",
      "1.8 --  -- What team does tariq kirksay, a guard who is taller than 1.8M and born before 1982, represent?\n",
      "89.1 -- 89.1,rape -- Which aggravated assault has the highest amount and the following criteria: crime rate per 1000 greater than 89.1,rape value of 23, and a crime index greater than 1590?\n",
      "\"mv\"; converted from steam stock, 1927 -- mv; converted from steam stock, 1927 -- Bldr of mcw&f, and a Notes of \"mv\"; converted from steam stock, 1927, and a Year of 1920, and a LT Nos of 9716-9718 has what type?\n",
      "don't stop movin' -- don't stop movin -- What is the highest position less than 7 that had more than 421,760 in sales for the song Don't Stop Movin'?\n",
      "\"mann basiyo sanwariyo\" -- mann basiyo sanwariyo -- What 2013 album was produced by sachin-jigar and contained the song \"mann basiyo sanwariyo\"?\n",
      "5 -- 5% -- Which country has more than 5% change in a year with a rank of 10?\n"
     ]
    },
    {
     "data": {
      "text/plain": "254"
     },
     "execution_count": 34,
     "metadata": {},
     "output_type": "execute_result"
    }
   ],
   "source": [
    "count = 0\n",
    "for test in test_set:\n",
    "    for gt, pred in zip(test['CHECK'][0], test['CHECK'][1]):\n",
    "        if str(gt).lower() != str(pred).lower():\n",
    "            print(f'{gt} -- {pred} -- {test[\"input\"][0]}')\n",
    "            count += 1\n",
    "count"
   ],
   "metadata": {
    "collapsed": false
   }
  },
  {
   "cell_type": "code",
   "execution_count": 35,
   "outputs": [
    {
     "data": {
      "text/plain": "1.5996976949237938"
     },
     "execution_count": 35,
     "metadata": {},
     "output_type": "execute_result"
    }
   ],
   "source": [
    "count/len(test_set)*100"
   ],
   "metadata": {
    "collapsed": false
   }
  },
  {
   "cell_type": "code",
   "execution_count": 36,
   "outputs": [],
   "source": [
    "q = 'What number game had a high assist of lebron james (7) and high point of lebron james (21)?'\n",
    "cond = 'LeBron James (7)'"
   ],
   "metadata": {
    "collapsed": false
   }
  },
  {
   "cell_type": "code",
   "execution_count": 37,
   "outputs": [],
   "source": [
    "def _clean_text(text):\n",
    "    char_list = '?\"()+,$[]{};*'\n",
    "    for char in char_list:\n",
    "        text = text.replace(char, '')\n",
    "    text = text.replace(\"'s\", '')\n",
    "    text = text.replace(\"'\", '')\n",
    "    return text.lower()"
   ],
   "metadata": {
    "collapsed": false
   }
  },
  {
   "cell_type": "code",
   "execution_count": 38,
   "outputs": [],
   "source": [
    "from collections import defaultdict"
   ],
   "metadata": {
    "collapsed": false
   }
  },
  {
   "cell_type": "code",
   "execution_count": 39,
   "outputs": [],
   "source": [
    "def _generate_mapping(question_token_list, pattern_list, gt):\n",
    "    token_dict = defaultdict(list)\n",
    "    for pattern, key in zip(pattern_list, gt):\n",
    "        for idx, token in enumerate(question_token_list):\n",
    "            if len(key) == 1:\n",
    "                if key.lower() == _clean_text(token):\n",
    "                    token_dict[key].append(idx)\n",
    "            else:\n",
    "                if (re.findall(pattern, _clean_text(token))) or \\\n",
    "                            (key.lower() == _clean_text(token)) or \\\n",
    "                            ((re.findall(r'^[-+]?(?:[0-9]+,)*[0-9]+(?:\\.[0-9]+)?$', key)) and\n",
    "                            (re.findall(r'^[-+]?(?:[0-9]+,)*[0-9]+(?:\\.[0-9]+)?$', _clean_text(token))) and\n",
    "                            (float(_clean_text(token)) == float(_clean_text(key)))):\n",
    "                    token_dict[key].append(idx)\n",
    "    first_tokens = set(token_dict[gt[0]])\n",
    "    end_tokens = set(token_dict[gt[-1]])\n",
    "    for end in end_tokens:\n",
    "        for start in first_tokens:\n",
    "            if (end -start + 1) == len(gt):\n",
    "                index_list = [start, end]\n",
    "    return [index_list[0], index_list[-1] - index_list[0] + 1]"
   ],
   "metadata": {
    "collapsed": false
   }
  },
  {
   "cell_type": "code",
   "execution_count": 40,
   "outputs": [],
   "source": [
    "pattern = [fr'(?i)\\b\\w*{token.lower()}\\w*\\b' for token in _clean_text(str(cond)).split()]"
   ],
   "metadata": {
    "collapsed": false
   }
  },
  {
   "cell_type": "code",
   "execution_count": 41,
   "outputs": [
    {
     "data": {
      "text/plain": "[8, 3]"
     },
     "execution_count": 41,
     "metadata": {},
     "output_type": "execute_result"
    }
   ],
   "source": [
    "_generate_mapping(q.split(), pattern, _clean_text(str(cond)).split())"
   ],
   "metadata": {
    "collapsed": false
   }
  },
  {
   "cell_type": "code",
   "execution_count": 42,
   "outputs": [],
   "source": [
    "txt = \"Washington Capital's\""
   ],
   "metadata": {
    "collapsed": false
   }
  },
  {
   "cell_type": "code",
   "execution_count": 43,
   "outputs": [
    {
     "data": {
      "text/plain": "True"
     },
     "execution_count": 43,
     "metadata": {},
     "output_type": "execute_result"
    }
   ],
   "source": [
    "txt.endswith(\"'s\")"
   ],
   "metadata": {
    "collapsed": false
   }
  },
  {
   "cell_type": "code",
   "execution_count": 44,
   "outputs": [
    {
     "data": {
      "text/plain": "'Washington Capital'"
     },
     "execution_count": 44,
     "metadata": {},
     "output_type": "execute_result"
    }
   ],
   "source": [
    "re.sub(r\"'s\", '', txt)"
   ],
   "metadata": {
    "collapsed": false
   }
  },
  {
   "cell_type": "code",
   "execution_count": 45,
   "outputs": [
    {
     "data": {
      "text/plain": "['washington', \"capital's\"]"
     },
     "execution_count": 45,
     "metadata": {},
     "output_type": "execute_result"
    }
   ],
   "source": [
    "list(WikiSQLDataset._generate_cond3(txt.split()))"
   ],
   "metadata": {
    "collapsed": false
   }
  },
  {
   "cell_type": "code",
   "execution_count": 46,
   "outputs": [
    {
     "data": {
      "text/plain": "'Washington Capital'"
     },
     "execution_count": 46,
     "metadata": {},
     "output_type": "execute_result"
    }
   ],
   "source": [
    "WikiSQLDataset._digitize(txt.strip(\",\"))"
   ],
   "metadata": {
    "collapsed": false
   }
  },
  {
   "cell_type": "code",
   "execution_count": 47,
   "outputs": [
    {
     "data": {
      "text/plain": "\"Washington Capital's\""
     },
     "execution_count": 47,
     "metadata": {},
     "output_type": "execute_result"
    }
   ],
   "source": [
    "' '.join(txt.split())"
   ],
   "metadata": {
    "collapsed": false
   }
  },
  {
   "cell_type": "code",
   "execution_count": 47,
   "outputs": [],
   "source": [],
   "metadata": {
    "collapsed": false
   }
  }
 ],
 "metadata": {
  "kernelspec": {
   "display_name": "Python 3",
   "language": "python",
   "name": "python3"
  },
  "language_info": {
   "codemirror_mode": {
    "name": "ipython",
    "version": 2
   },
   "file_extension": ".py",
   "mimetype": "text/x-python",
   "name": "python",
   "nbconvert_exporter": "python",
   "pygments_lexer": "ipython2",
   "version": "2.7.6"
  }
 },
 "nbformat": 4,
 "nbformat_minor": 0
}
